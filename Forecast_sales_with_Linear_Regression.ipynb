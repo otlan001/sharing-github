{
  "nbformat": 4,
  "nbformat_minor": 0,
  "metadata": {
    "colab": {
      "provenance": [],
      "authorship_tag": "ABX9TyN/Q18tsgIOQnMmD+7LxDVC",
      "include_colab_link": true
    },
    "kernelspec": {
      "name": "python3",
      "display_name": "Python 3"
    },
    "language_info": {
      "name": "python"
    }
  },
  "cells": [
    {
      "cell_type": "markdown",
      "metadata": {
        "id": "view-in-github",
        "colab_type": "text"
      },
      "source": [
        "<a href=\"https://colab.research.google.com/github/otlan001/sharing-github/blob/main/Forecast_sales_with_Linear_Regression.ipynb\" target=\"_parent\"><img src=\"https://colab.research.google.com/assets/colab-badge.svg\" alt=\"Open In Colab\"/></a>"
      ]
    },
    {
      "cell_type": "markdown",
      "source": [
        "**Forecast Sales with Linear Regression**"
      ],
      "metadata": {
        "id": "OVKZJ7L_zatS"
      }
    },
    {
      "cell_type": "markdown",
      "source": [
        "In this section, we import the necessary libraries: pandas for data manipulation, scikit-learn's LinearRegression for building the linear regression model, train_test_split for splitting the data into training and testing sets, and mean_squared_error and r2_score for evaluating the model's performance."
      ],
      "metadata": {
        "id": "eA-mnriDzwti"
      }
    },
    {
      "cell_type": "code",
      "execution_count": 1,
      "metadata": {
        "id": "pxDVcSf7uZCE"
      },
      "outputs": [],
      "source": [
        "import pandas as pd\n",
        "from sklearn.linear_model import LinearRegression\n",
        "from sklearn.model_selection import train_test_split\n",
        "from sklearn.metrics import mean_squared_error, r2_score"
      ]
    },
    {
      "cell_type": "markdown",
      "source": [
        "This line reads the data from a CSV file named 'mock_kaggle.csv' and stores it in a pandas DataFrame called data.\n",
        "\n",
        "source : https://www.kaggle.com/datasets/tevecsystems/retail-sales-forecasting?resource=download&select=mock_kaggle.csv"
      ],
      "metadata": {
        "id": "jzZwY3lMz8C-"
      }
    },
    {
      "cell_type": "code",
      "source": [
        "# Load the data from a CSV file\n",
        "data = pd.read_csv('/content/mock_kaggle.csv')"
      ],
      "metadata": {
        "id": "YXRnD5MAvu2z"
      },
      "execution_count": 2,
      "outputs": []
    },
    {
      "cell_type": "markdown",
      "source": [
        "Here, the 'date' column in the DataFrame is converted to a datetime data type using the pd.to_datetime() function."
      ],
      "metadata": {
        "id": "utAvZb4f0ZCJ"
      }
    },
    {
      "cell_type": "code",
      "source": [
        "# Convert the 'date' column to a datetime data type\n",
        "data['data'] = pd.to_datetime(data['data'])"
      ],
      "metadata": {
        "id": "o9oX8JOnv20-"
      },
      "execution_count": 4,
      "outputs": []
    },
    {
      "cell_type": "markdown",
      "source": [
        "The data is sorted in ascending order based on the 'date' column using the sort_values() function."
      ],
      "metadata": {
        "id": "xlCRhZcb0gjG"
      }
    },
    {
      "cell_type": "code",
      "source": [
        "# Sort the data by date\n",
        "data = data.sort_values('data')"
      ],
      "metadata": {
        "id": "_WRMLw4bwAY8"
      },
      "execution_count": 5,
      "outputs": []
    },
    {
      "cell_type": "markdown",
      "source": [
        "This code creates the feature matrix X by selecting the '' and 'price' columns from the DataFrame, and assigns the 'sales' column as the target variable y."
      ],
      "metadata": {
        "id": "xUfHHEbS0mC_"
      }
    },
    {
      "cell_type": "code",
      "source": [
        "# Create the feature matrix X (stock/estoque and price/preco) and the target variable y (sales/venda)\n",
        "X = data[['estoque', 'preco']]\n",
        "y = data['venda']"
      ],
      "metadata": {
        "id": "Ek8Asg0CwUDA"
      },
      "execution_count": 6,
      "outputs": []
    },
    {
      "cell_type": "markdown",
      "source": [
        "The data is split into training and testing sets using the train_test_split() function. 80% of the data is used for training (X_train and y_train), and 20% is used for testing (X_test and y_test). The test_size parameter specifies the proportion of the data to be used for testing"
      ],
      "metadata": {
        "id": "_ghD28n002EP"
      }
    },
    {
      "cell_type": "code",
      "source": [
        "# Split the data into training and testing sets\n",
        "X_train, X_test, y_train, y_test = train_test_split(X, y, test_size=0.2, random_state=42)"
      ],
      "metadata": {
        "id": "HrZ1OzcVwiT_"
      },
      "execution_count": 9,
      "outputs": []
    },
    {
      "cell_type": "markdown",
      "source": [
        "A linear regression model is created using LinearRegression(), and then it is trained on the training data using the fit() method."
      ],
      "metadata": {
        "id": "NrCMh9oa1F8F"
      }
    },
    {
      "cell_type": "code",
      "source": [
        "# Train the model\n",
        "model.fit(X_train, y_train)"
      ],
      "metadata": {
        "colab": {
          "base_uri": "https://localhost:8080/",
          "height": 75
        },
        "id": "3UYH3cyPw7YU",
        "outputId": "0c78b9dd-9d39-4369-a67d-e8f140a7c54b"
      },
      "execution_count": 12,
      "outputs": [
        {
          "output_type": "execute_result",
          "data": {
            "text/plain": [
              "LinearRegression()"
            ],
            "text/html": [
              "<style>#sk-container-id-1 {color: black;background-color: white;}#sk-container-id-1 pre{padding: 0;}#sk-container-id-1 div.sk-toggleable {background-color: white;}#sk-container-id-1 label.sk-toggleable__label {cursor: pointer;display: block;width: 100%;margin-bottom: 0;padding: 0.3em;box-sizing: border-box;text-align: center;}#sk-container-id-1 label.sk-toggleable__label-arrow:before {content: \"▸\";float: left;margin-right: 0.25em;color: #696969;}#sk-container-id-1 label.sk-toggleable__label-arrow:hover:before {color: black;}#sk-container-id-1 div.sk-estimator:hover label.sk-toggleable__label-arrow:before {color: black;}#sk-container-id-1 div.sk-toggleable__content {max-height: 0;max-width: 0;overflow: hidden;text-align: left;background-color: #f0f8ff;}#sk-container-id-1 div.sk-toggleable__content pre {margin: 0.2em;color: black;border-radius: 0.25em;background-color: #f0f8ff;}#sk-container-id-1 input.sk-toggleable__control:checked~div.sk-toggleable__content {max-height: 200px;max-width: 100%;overflow: auto;}#sk-container-id-1 input.sk-toggleable__control:checked~label.sk-toggleable__label-arrow:before {content: \"▾\";}#sk-container-id-1 div.sk-estimator input.sk-toggleable__control:checked~label.sk-toggleable__label {background-color: #d4ebff;}#sk-container-id-1 div.sk-label input.sk-toggleable__control:checked~label.sk-toggleable__label {background-color: #d4ebff;}#sk-container-id-1 input.sk-hidden--visually {border: 0;clip: rect(1px 1px 1px 1px);clip: rect(1px, 1px, 1px, 1px);height: 1px;margin: -1px;overflow: hidden;padding: 0;position: absolute;width: 1px;}#sk-container-id-1 div.sk-estimator {font-family: monospace;background-color: #f0f8ff;border: 1px dotted black;border-radius: 0.25em;box-sizing: border-box;margin-bottom: 0.5em;}#sk-container-id-1 div.sk-estimator:hover {background-color: #d4ebff;}#sk-container-id-1 div.sk-parallel-item::after {content: \"\";width: 100%;border-bottom: 1px solid gray;flex-grow: 1;}#sk-container-id-1 div.sk-label:hover label.sk-toggleable__label {background-color: #d4ebff;}#sk-container-id-1 div.sk-serial::before {content: \"\";position: absolute;border-left: 1px solid gray;box-sizing: border-box;top: 0;bottom: 0;left: 50%;z-index: 0;}#sk-container-id-1 div.sk-serial {display: flex;flex-direction: column;align-items: center;background-color: white;padding-right: 0.2em;padding-left: 0.2em;position: relative;}#sk-container-id-1 div.sk-item {position: relative;z-index: 1;}#sk-container-id-1 div.sk-parallel {display: flex;align-items: stretch;justify-content: center;background-color: white;position: relative;}#sk-container-id-1 div.sk-item::before, #sk-container-id-1 div.sk-parallel-item::before {content: \"\";position: absolute;border-left: 1px solid gray;box-sizing: border-box;top: 0;bottom: 0;left: 50%;z-index: -1;}#sk-container-id-1 div.sk-parallel-item {display: flex;flex-direction: column;z-index: 1;position: relative;background-color: white;}#sk-container-id-1 div.sk-parallel-item:first-child::after {align-self: flex-end;width: 50%;}#sk-container-id-1 div.sk-parallel-item:last-child::after {align-self: flex-start;width: 50%;}#sk-container-id-1 div.sk-parallel-item:only-child::after {width: 0;}#sk-container-id-1 div.sk-dashed-wrapped {border: 1px dashed gray;margin: 0 0.4em 0.5em 0.4em;box-sizing: border-box;padding-bottom: 0.4em;background-color: white;}#sk-container-id-1 div.sk-label label {font-family: monospace;font-weight: bold;display: inline-block;line-height: 1.2em;}#sk-container-id-1 div.sk-label-container {text-align: center;}#sk-container-id-1 div.sk-container {/* jupyter's `normalize.less` sets `[hidden] { display: none; }` but bootstrap.min.css set `[hidden] { display: none !important; }` so we also need the `!important` here to be able to override the default hidden behavior on the sphinx rendered scikit-learn.org. See: https://github.com/scikit-learn/scikit-learn/issues/21755 */display: inline-block !important;position: relative;}#sk-container-id-1 div.sk-text-repr-fallback {display: none;}</style><div id=\"sk-container-id-1\" class=\"sk-top-container\"><div class=\"sk-text-repr-fallback\"><pre>LinearRegression()</pre><b>In a Jupyter environment, please rerun this cell to show the HTML representation or trust the notebook. <br />On GitHub, the HTML representation is unable to render, please try loading this page with nbviewer.org.</b></div><div class=\"sk-container\" hidden><div class=\"sk-item\"><div class=\"sk-estimator sk-toggleable\"><input class=\"sk-toggleable__control sk-hidden--visually\" id=\"sk-estimator-id-1\" type=\"checkbox\" checked><label for=\"sk-estimator-id-1\" class=\"sk-toggleable__label sk-toggleable__label-arrow\">LinearRegression</label><div class=\"sk-toggleable__content\"><pre>LinearRegression()</pre></div></div></div></div></div>"
            ]
          },
          "metadata": {},
          "execution_count": 12
        }
      ]
    },
    {
      "cell_type": "markdown",
      "source": [
        "A linear regression model is created using LinearRegression(), and then it is trained on the training data using the fit() method."
      ],
      "metadata": {
        "id": "beeEC8oT1JIw"
      }
    },
    {
      "cell_type": "code",
      "source": [
        "# Make predictions on the testing set\n",
        "y_pred = model.predict(X_test)"
      ],
      "metadata": {
        "id": "Juoc9gI9xDEb"
      },
      "execution_count": 13,
      "outputs": []
    },
    {
      "cell_type": "markdown",
      "source": [
        "The mean squared error (MSE) and R-squared (R^2) score are calculated using the mean_squared_error() and r2_score() functions, respectively. These metrics evaluate the performance of the model by comparing the predicted values (y_pred) with the actual values (y_test)."
      ],
      "metadata": {
        "id": "iF9b6yn31ND_"
      }
    },
    {
      "cell_type": "code",
      "source": [
        "# Evaluate the model\n",
        "mse = mean_squared_error(y_test, y_pred)\n",
        "r2 = r2_score(y_test, y_pred)"
      ],
      "metadata": {
        "id": "QQKjGnZTxEd6"
      },
      "execution_count": 15,
      "outputs": []
    },
    {
      "cell_type": "code",
      "source": [
        "# Print the evaluation metrics\n",
        "print('Mean Squared Error:', mse)\n",
        "print('R^2 Score:', r2)"
      ],
      "metadata": {
        "colab": {
          "base_uri": "https://localhost:8080/"
        },
        "id": "bAxj8vszxPdA",
        "outputId": "1b299f1b-6001-4043-9053-13e56b2442a1"
      },
      "execution_count": 16,
      "outputs": [
        {
          "output_type": "stream",
          "name": "stdout",
          "text": [
            "Mean Squared Error: 8881.751725628528\n",
            "R^2 Score: 0.02593975212446853\n"
          ]
        }
      ]
    },
    {
      "cell_type": "markdown",
      "source": [
        "A coefficient of determination, also known as the R-squared (R^2) score, measures the proportion of the variance in the target variable that can be explained by the independent variables in the model. The R-squared score ranges from 0 to 1, where a value of 1 indicates that the model perfectly predicts the target variable and a value of 0 indicates that the model fails to make any predictions.\n",
        "\n",
        "In your case, an R-squared score of 0.02 indicates that only 2% of the variance in the sales data is explained by the stock and price features in the model. This means that the model is not able to capture much of the relationship between the features and the sales. It suggests that there may be other factors or features that have a stronger influence on sales, which are not included in the model."
      ],
      "metadata": {
        "id": "SILBaBYe1QjE"
      }
    }
  ]
}