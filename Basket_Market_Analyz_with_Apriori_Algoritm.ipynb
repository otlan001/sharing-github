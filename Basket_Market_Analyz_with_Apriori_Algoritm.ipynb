{
  "nbformat": 4,
  "nbformat_minor": 0,
  "metadata": {
    "colab": {
      "provenance": [],
      "authorship_tag": "ABX9TyPCplyAa1lyK33cXfMW0k7E",
      "include_colab_link": true
    },
    "kernelspec": {
      "name": "python3",
      "display_name": "Python 3"
    },
    "language_info": {
      "name": "python"
    }
  },
  "cells": [
    {
      "cell_type": "markdown",
      "metadata": {
        "id": "view-in-github",
        "colab_type": "text"
      },
      "source": [
        "<a href=\"https://colab.research.google.com/github/otlan001/sharing-github/blob/main/Basket_Market_Analyz_with_Apriori_Algoritm.ipynb\" target=\"_parent\"><img src=\"https://colab.research.google.com/assets/colab-badge.svg\" alt=\"Open In Colab\"/></a>"
      ]
    },
    {
      "cell_type": "markdown",
      "source": [
        "**Algoritma Apriori**"
      ],
      "metadata": {
        "id": "Pai6eU5G_x0v"
      }
    },
    {
      "cell_type": "markdown",
      "source": [
        "Algoritma Apriori adalah algoritma yang digunakan dalam analisis keranjang belanja atau market basket analysis. Tujuan dari algoritma ini adalah untuk menemukan asosiasi atau hubungan antara item-item yang sering muncul bersama dalam keranjang belanja pelanggan."
      ],
      "metadata": {
        "id": "Xc_9j704_pRd"
      }
    },
    {
      "cell_type": "code",
      "execution_count": 2,
      "metadata": {
        "id": "0Ld5ErnA6ZUB"
      },
      "outputs": [],
      "source": [
        "# Contoh data transaksi belanja\n",
        "data = [['Roti', 'Susu', 'Telur'],\n",
        "        ['Susu', 'Jus Jeruk'],\n",
        "        ['Roti', 'Susu', 'Jus Jeruk'],\n",
        "        ['Roti', 'Telur'],\n",
        "        ['Roti', 'Susu', 'Telur', 'Jus Jeruk'],\n",
        "        ['Susu', 'Telur']]"
      ]
    },
    {
      "cell_type": "code",
      "source": [
        "\n",
        "# Menggunakan library mlxtend untuk algoritma Apriori\n",
        "from mlxtend.preprocessing import TransactionEncoder\n",
        "from mlxtend.frequent_patterns import apriori, association_rules\n",
        "import pandas as pd\n"
      ],
      "metadata": {
        "id": "nAncajKl6seB"
      },
      "execution_count": 7,
      "outputs": []
    },
    {
      "cell_type": "code",
      "source": [
        "# Mengubah data transaksi menjadi format yang sesuai\n",
        "te = TransactionEncoder()\n",
        "te_ary = te.fit(data).transform(data)\n",
        "df = pd.DataFrame(te_ary, columns=te.columns_)\n"
      ],
      "metadata": {
        "id": "OleJLs7J6x2U"
      },
      "execution_count": 8,
      "outputs": []
    },
    {
      "cell_type": "code",
      "source": [
        "te_ary"
      ],
      "metadata": {
        "colab": {
          "base_uri": "https://localhost:8080/"
        },
        "id": "vvfmH-rP66N_",
        "outputId": "e61ec652-7412-42bf-e4e7-76ff848c89df"
      },
      "execution_count": 10,
      "outputs": [
        {
          "output_type": "execute_result",
          "data": {
            "text/plain": [
              "array([[False,  True,  True,  True],\n",
              "       [ True, False,  True, False],\n",
              "       [ True,  True,  True, False],\n",
              "       [False,  True, False,  True],\n",
              "       [ True,  True,  True,  True],\n",
              "       [False, False,  True,  True]])"
            ]
          },
          "metadata": {},
          "execution_count": 10
        }
      ]
    },
    {
      "cell_type": "code",
      "source": [
        "# Menjalankan algoritma Apriori untuk mencari frequent itemset\n",
        "frequent_itemsets = apriori(df, min_support=0.3, use_colnames=True)"
      ],
      "metadata": {
        "id": "_HlCrKs46_Hl"
      },
      "execution_count": 14,
      "outputs": []
    },
    {
      "cell_type": "code",
      "source": [
        "# Menampilkan frequent itemset yang ditemukan\n",
        "print(frequent_itemsets)"
      ],
      "metadata": {
        "colab": {
          "base_uri": "https://localhost:8080/"
        },
        "id": "pR7_MFIx7OTv",
        "outputId": "dd3d9879-0c2a-4d8d-bc7a-f4d5016a7628"
      },
      "execution_count": 15,
      "outputs": [
        {
          "output_type": "stream",
          "name": "stdout",
          "text": [
            "     support                 itemsets\n",
            "0   0.500000              (Jus Jeruk)\n",
            "1   0.666667                   (Roti)\n",
            "2   0.833333                   (Susu)\n",
            "3   0.666667                  (Telur)\n",
            "4   0.333333        (Roti, Jus Jeruk)\n",
            "5   0.500000        (Susu, Jus Jeruk)\n",
            "6   0.500000             (Susu, Roti)\n",
            "7   0.500000            (Telur, Roti)\n",
            "8   0.500000            (Susu, Telur)\n",
            "9   0.333333  (Susu, Roti, Jus Jeruk)\n",
            "10  0.333333      (Susu, Telur, Roti)\n"
          ]
        }
      ]
    },
    {
      "cell_type": "code",
      "source": [
        "# Menjalankan algoritma Association Rules untuk mencari aturan asosiasi\n",
        "rules = association_rules(frequent_itemsets, metric=\"confidence\", min_threshold=0.7)"
      ],
      "metadata": {
        "id": "Bo2fLYz17Qp-"
      },
      "execution_count": 16,
      "outputs": []
    },
    {
      "cell_type": "code",
      "source": [
        "# Menampilkan aturan asosiasi yang ditemukan\n",
        "print(rules)"
      ],
      "metadata": {
        "colab": {
          "base_uri": "https://localhost:8080/"
        },
        "id": "BK-p9mUr7SCv",
        "outputId": "caa7d6f8-c14d-4846-f1ee-af2a6cf07672"
      },
      "execution_count": 17,
      "outputs": [
        {
          "output_type": "stream",
          "name": "stdout",
          "text": [
            "         antecedents consequents  antecedent support  consequent support  \\\n",
            "0        (Jus Jeruk)      (Susu)            0.500000            0.833333   \n",
            "1             (Roti)      (Susu)            0.666667            0.833333   \n",
            "2            (Telur)      (Roti)            0.666667            0.666667   \n",
            "3             (Roti)     (Telur)            0.666667            0.666667   \n",
            "4            (Telur)      (Susu)            0.666667            0.833333   \n",
            "5  (Jus Jeruk, Roti)      (Susu)            0.333333            0.833333   \n",
            "\n",
            "    support  confidence   lift  leverage  conviction  \n",
            "0  0.500000        1.00  1.200  0.083333         inf  \n",
            "1  0.500000        0.75  0.900 -0.055556    0.666667  \n",
            "2  0.500000        0.75  1.125  0.055556    1.333333  \n",
            "3  0.500000        0.75  1.125  0.055556    1.333333  \n",
            "4  0.500000        0.75  0.900 -0.055556    0.666667  \n",
            "5  0.333333        1.00  1.200  0.055556         inf  \n"
          ]
        }
      ]
    }
  ]
}