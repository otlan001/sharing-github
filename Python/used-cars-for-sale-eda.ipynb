{
 "cells": [
  {
   "cell_type": "markdown",
   "id": "236138dc",
   "metadata": {
    "papermill": {
     "duration": 0.021593,
     "end_time": "2022-05-22T11:43:59.802110",
     "exception": false,
     "start_time": "2022-05-22T11:43:59.780517",
     "status": "completed"
    },
    "tags": []
   },
   "source": [
    "**Description**\n",
    "\n",
    "This dataset contains data about more than 75,000 used vehicles for sale in Pakistan. This dataset can be used by anyone who wants to compare vehicle prices and other features with other vehicles and addition and removal of some features from vehicles will affect the price of vehicle."
   ]
  },
  {
   "cell_type": "markdown",
   "id": "443abf0c",
   "metadata": {
    "papermill": {
     "duration": 0.020641,
     "end_time": "2022-05-22T11:43:59.843466",
     "exception": false,
     "start_time": "2022-05-22T11:43:59.822825",
     "status": "completed"
    },
    "tags": []
   },
   "source": [
    "**1. Import Python Libraries**"
   ]
  },
  {
   "cell_type": "code",
   "execution_count": 1,
   "id": "d31ba81d",
   "metadata": {
    "execution": {
     "iopub.execute_input": "2022-05-22T11:43:59.886647Z",
     "iopub.status.busy": "2022-05-22T11:43:59.886061Z",
     "iopub.status.idle": "2022-05-22T11:44:03.158839Z",
     "shell.execute_reply": "2022-05-22T11:44:03.158049Z"
    },
    "papermill": {
     "duration": 3.297369,
     "end_time": "2022-05-22T11:44:03.161219",
     "exception": false,
     "start_time": "2022-05-22T11:43:59.863850",
     "status": "completed"
    },
    "tags": []
   },
   "outputs": [
    {
     "name": "stderr",
     "output_type": "stream",
     "text": [
      "/opt/conda/lib/python3.7/site-packages/geopandas/_compat.py:115: UserWarning: The Shapely GEOS version (3.9.1-CAPI-1.14.2) is incompatible with the GEOS version PyGEOS was compiled with (3.10.1-CAPI-1.16.0). Conversions between both will be slow.\n",
      "  shapely_geos_version, geos_capi_version_string\n"
     ]
    }
   ],
   "source": [
    "#Data Analysis and Data Wrangling\n",
    "import pandas as pd\n",
    "import numpy as np\n",
    "\n",
    "#Visualization\n",
    "import matplotlib.pyplot as plt\n",
    "import matplotlib.style as style\n",
    "import seaborn as sns\n",
    "from matplotlib import cm\n",
    "\n",
    "#Plotly Libraris\n",
    "import plotly.express as px\n",
    "import plotly.graph_objects as go\n",
    "import plotly.figure_factory as ff\n",
    "from plotly import tools \n",
    "\n",
    "from matplotlib.colors import ListedColormap\n"
   ]
  },
  {
   "cell_type": "markdown",
   "id": "568a5ddb",
   "metadata": {
    "papermill": {
     "duration": 0.021495,
     "end_time": "2022-05-22T11:44:03.205203",
     "exception": false,
     "start_time": "2022-05-22T11:44:03.183708",
     "status": "completed"
    },
    "tags": []
   },
   "source": [
    "**2. Reading Data/Prepation Data**"
   ]
  },
  {
   "cell_type": "code",
   "execution_count": 2,
   "id": "ffa10f3e",
   "metadata": {
    "execution": {
     "iopub.execute_input": "2022-05-22T11:44:03.251291Z",
     "iopub.status.busy": "2022-05-22T11:44:03.250810Z",
     "iopub.status.idle": "2022-05-22T11:44:03.970951Z",
     "shell.execute_reply": "2022-05-22T11:44:03.970151Z"
    },
    "papermill": {
     "duration": 0.745066,
     "end_time": "2022-05-22T11:44:03.973160",
     "exception": false,
     "start_time": "2022-05-22T11:44:03.228094",
     "status": "completed"
    },
    "tags": []
   },
   "outputs": [
    {
     "data": {
      "text/html": [
       "<div>\n",
       "<style scoped>\n",
       "    .dataframe tbody tr th:only-of-type {\n",
       "        vertical-align: middle;\n",
       "    }\n",
       "\n",
       "    .dataframe tbody tr th {\n",
       "        vertical-align: top;\n",
       "    }\n",
       "\n",
       "    .dataframe thead th {\n",
       "        text-align: right;\n",
       "    }\n",
       "</style>\n",
       "<table border=\"1\" class=\"dataframe\">\n",
       "  <thead>\n",
       "    <tr style=\"text-align: right;\">\n",
       "      <th></th>\n",
       "      <th>name</th>\n",
       "      <th>location</th>\n",
       "      <th>model_year</th>\n",
       "      <th>mileage</th>\n",
       "      <th>engine_type</th>\n",
       "      <th>transmission</th>\n",
       "      <th>registered_in</th>\n",
       "      <th>color</th>\n",
       "      <th>assembly</th>\n",
       "      <th>engine_capacity</th>\n",
       "      <th>body_type</th>\n",
       "      <th>other_features_list</th>\n",
       "      <th>url</th>\n",
       "      <th>price</th>\n",
       "    </tr>\n",
       "  </thead>\n",
       "  <tbody>\n",
       "    <tr>\n",
       "      <th>0</th>\n",
       "      <td>Toyota Fortuner Legender  2022</td>\n",
       "      <td>I- 8, Islamabad Islamabad</td>\n",
       "      <td>2022</td>\n",
       "      <td>5 km</td>\n",
       "      <td>Diesel</td>\n",
       "      <td>Automatic</td>\n",
       "      <td>Un-Registered</td>\n",
       "      <td>White</td>\n",
       "      <td>Local</td>\n",
       "      <td>2800 cc</td>\n",
       "      <td>SUV</td>\n",
       "      <td>ABS,AM/FM Radio,Air Bags,Air Conditioning,Allo...</td>\n",
       "      <td>https://www.pakwheels.com/used-cars/toyota-for...</td>\n",
       "      <td>NaN</td>\n",
       "    </tr>\n",
       "    <tr>\n",
       "      <th>1</th>\n",
       "      <td>Toyota Premio X EX Package 1.8 2018</td>\n",
       "      <td>Askari 6, Peshawar KPK</td>\n",
       "      <td>2018</td>\n",
       "      <td>17,000 km</td>\n",
       "      <td>Petrol</td>\n",
       "      <td>Automatic</td>\n",
       "      <td>Un-Registered</td>\n",
       "      <td>Peral White</td>\n",
       "      <td>Imported</td>\n",
       "      <td>1800 cc</td>\n",
       "      <td>Sedan</td>\n",
       "      <td>ABS,AM/FM Radio,Air Bags,Air Conditioning,Allo...</td>\n",
       "      <td>https://www.pakwheels.com/used-cars/toyota-pre...</td>\n",
       "      <td>8500000.0</td>\n",
       "    </tr>\n",
       "    <tr>\n",
       "      <th>2</th>\n",
       "      <td>Honda City Aspire 1.3 i-VTEC 2016</td>\n",
       "      <td>I- 8, Islamabad Islamabad</td>\n",
       "      <td>2016</td>\n",
       "      <td>59,000 km</td>\n",
       "      <td>Petrol</td>\n",
       "      <td>Manual</td>\n",
       "      <td>Islamabad</td>\n",
       "      <td>White</td>\n",
       "      <td>Local</td>\n",
       "      <td>1300 cc</td>\n",
       "      <td>Sedan</td>\n",
       "      <td>ABS,AM/FM Radio,Air Conditioning,Alloy Rims,CD...</td>\n",
       "      <td>https://www.pakwheels.com/used-cars/honda-city...</td>\n",
       "      <td>2375000.0</td>\n",
       "    </tr>\n",
       "    <tr>\n",
       "      <th>3</th>\n",
       "      <td>Suzuki Bolan VX Euro II 2018</td>\n",
       "      <td>Dhok Sayedan Road, Rawalpindi Punjab</td>\n",
       "      <td>2018</td>\n",
       "      <td>55,000 km</td>\n",
       "      <td>Petrol</td>\n",
       "      <td>Manual</td>\n",
       "      <td>Islamabad</td>\n",
       "      <td>White</td>\n",
       "      <td>Local</td>\n",
       "      <td>800 cc</td>\n",
       "      <td>Van</td>\n",
       "      <td>AM/FM Radio,Immobilizer Key</td>\n",
       "      <td>https://www.pakwheels.com/used-cars/suzuki-bol...</td>\n",
       "      <td>1050000.0</td>\n",
       "    </tr>\n",
       "    <tr>\n",
       "      <th>4</th>\n",
       "      <td>Suzuki Swift GLX CVT 2022</td>\n",
       "      <td>Karachi Sindh</td>\n",
       "      <td>2022</td>\n",
       "      <td>2 km</td>\n",
       "      <td>Petrol</td>\n",
       "      <td>Automatic</td>\n",
       "      <td>Sindh</td>\n",
       "      <td>Grey</td>\n",
       "      <td>Local</td>\n",
       "      <td>1200 cc</td>\n",
       "      <td>Hatchback</td>\n",
       "      <td>ABS,AM/FM Radio,Air Bags,Air Conditioning,Allo...</td>\n",
       "      <td>https://www.pakwheels.com/used-cars/suzuki-swi...</td>\n",
       "      <td>3550000.0</td>\n",
       "    </tr>\n",
       "  </tbody>\n",
       "</table>\n",
       "</div>"
      ],
      "text/plain": [
       "                                  name                              location  \\\n",
       "0       Toyota Fortuner Legender  2022             I- 8, Islamabad Islamabad   \n",
       "1  Toyota Premio X EX Package 1.8 2018                Askari 6, Peshawar KPK   \n",
       "2    Honda City Aspire 1.3 i-VTEC 2016             I- 8, Islamabad Islamabad   \n",
       "3         Suzuki Bolan VX Euro II 2018  Dhok Sayedan Road, Rawalpindi Punjab   \n",
       "4            Suzuki Swift GLX CVT 2022                         Karachi Sindh   \n",
       "\n",
       "   model_year    mileage engine_type transmission  registered_in        color  \\\n",
       "0        2022       5 km      Diesel    Automatic  Un-Registered        White   \n",
       "1        2018  17,000 km      Petrol    Automatic  Un-Registered  Peral White   \n",
       "2        2016  59,000 km      Petrol       Manual      Islamabad        White   \n",
       "3        2018  55,000 km      Petrol       Manual      Islamabad        White   \n",
       "4        2022       2 km      Petrol    Automatic          Sindh         Grey   \n",
       "\n",
       "   assembly engine_capacity  body_type  \\\n",
       "0     Local         2800 cc        SUV   \n",
       "1  Imported         1800 cc      Sedan   \n",
       "2     Local         1300 cc      Sedan   \n",
       "3     Local          800 cc        Van   \n",
       "4     Local         1200 cc  Hatchback   \n",
       "\n",
       "                                 other_features_list  \\\n",
       "0  ABS,AM/FM Radio,Air Bags,Air Conditioning,Allo...   \n",
       "1  ABS,AM/FM Radio,Air Bags,Air Conditioning,Allo...   \n",
       "2  ABS,AM/FM Radio,Air Conditioning,Alloy Rims,CD...   \n",
       "3                        AM/FM Radio,Immobilizer Key   \n",
       "4  ABS,AM/FM Radio,Air Bags,Air Conditioning,Allo...   \n",
       "\n",
       "                                                 url      price  \n",
       "0  https://www.pakwheels.com/used-cars/toyota-for...        NaN  \n",
       "1  https://www.pakwheels.com/used-cars/toyota-pre...  8500000.0  \n",
       "2  https://www.pakwheels.com/used-cars/honda-city...  2375000.0  \n",
       "3  https://www.pakwheels.com/used-cars/suzuki-bol...  1050000.0  \n",
       "4  https://www.pakwheels.com/used-cars/suzuki-swi...  3550000.0  "
      ]
     },
     "execution_count": 2,
     "metadata": {},
     "output_type": "execute_result"
    }
   ],
   "source": [
    "#reading data\n",
    "df = pd.read_csv('../input/used-cars-for-sale-data-pakistan/usedCarsFinal.csv')\n",
    "df.head()"
   ]
  },
  {
   "cell_type": "code",
   "execution_count": 3,
   "id": "2ce0c50b",
   "metadata": {
    "execution": {
     "iopub.execute_input": "2022-05-22T11:44:04.019305Z",
     "iopub.status.busy": "2022-05-22T11:44:04.018981Z",
     "iopub.status.idle": "2022-05-22T11:44:04.024188Z",
     "shell.execute_reply": "2022-05-22T11:44:04.023644Z"
    },
    "papermill": {
     "duration": 0.031075,
     "end_time": "2022-05-22T11:44:04.026136",
     "exception": false,
     "start_time": "2022-05-22T11:44:03.995061",
     "status": "completed"
    },
    "tags": []
   },
   "outputs": [
    {
     "data": {
      "text/plain": [
       "(75899, 14)"
      ]
     },
     "execution_count": 3,
     "metadata": {},
     "output_type": "execute_result"
    }
   ],
   "source": [
    "#dataset shape\n",
    "df.shape"
   ]
  },
  {
   "cell_type": "code",
   "execution_count": 4,
   "id": "84289966",
   "metadata": {
    "execution": {
     "iopub.execute_input": "2022-05-22T11:44:04.072840Z",
     "iopub.status.busy": "2022-05-22T11:44:04.072390Z",
     "iopub.status.idle": "2022-05-22T11:44:04.111825Z",
     "shell.execute_reply": "2022-05-22T11:44:04.110946Z"
    },
    "papermill": {
     "duration": 0.065171,
     "end_time": "2022-05-22T11:44:04.113832",
     "exception": false,
     "start_time": "2022-05-22T11:44:04.048661",
     "status": "completed"
    },
    "tags": []
   },
   "outputs": [
    {
     "data": {
      "text/html": [
       "<div>\n",
       "<style scoped>\n",
       "    .dataframe tbody tr th:only-of-type {\n",
       "        vertical-align: middle;\n",
       "    }\n",
       "\n",
       "    .dataframe tbody tr th {\n",
       "        vertical-align: top;\n",
       "    }\n",
       "\n",
       "    .dataframe thead th {\n",
       "        text-align: right;\n",
       "    }\n",
       "</style>\n",
       "<table border=\"1\" class=\"dataframe\">\n",
       "  <thead>\n",
       "    <tr style=\"text-align: right;\">\n",
       "      <th></th>\n",
       "      <th>model_year</th>\n",
       "      <th>price</th>\n",
       "    </tr>\n",
       "  </thead>\n",
       "  <tbody>\n",
       "    <tr>\n",
       "      <th>count</th>\n",
       "      <td>75899.000000</td>\n",
       "      <td>7.477100e+04</td>\n",
       "    </tr>\n",
       "    <tr>\n",
       "      <th>mean</th>\n",
       "      <td>2011.473643</td>\n",
       "      <td>2.896745e+06</td>\n",
       "    </tr>\n",
       "    <tr>\n",
       "      <th>std</th>\n",
       "      <td>8.905407</td>\n",
       "      <td>4.141712e+06</td>\n",
       "    </tr>\n",
       "    <tr>\n",
       "      <th>min</th>\n",
       "      <td>1942.000000</td>\n",
       "      <td>1.000000e+05</td>\n",
       "    </tr>\n",
       "    <tr>\n",
       "      <th>25%</th>\n",
       "      <td>2007.000000</td>\n",
       "      <td>1.100000e+06</td>\n",
       "    </tr>\n",
       "    <tr>\n",
       "      <th>50%</th>\n",
       "      <td>2014.000000</td>\n",
       "      <td>1.950000e+06</td>\n",
       "    </tr>\n",
       "    <tr>\n",
       "      <th>75%</th>\n",
       "      <td>2018.000000</td>\n",
       "      <td>3.175000e+06</td>\n",
       "    </tr>\n",
       "    <tr>\n",
       "      <th>max</th>\n",
       "      <td>2022.000000</td>\n",
       "      <td>9.000000e+07</td>\n",
       "    </tr>\n",
       "  </tbody>\n",
       "</table>\n",
       "</div>"
      ],
      "text/plain": [
       "         model_year         price\n",
       "count  75899.000000  7.477100e+04\n",
       "mean    2011.473643  2.896745e+06\n",
       "std        8.905407  4.141712e+06\n",
       "min     1942.000000  1.000000e+05\n",
       "25%     2007.000000  1.100000e+06\n",
       "50%     2014.000000  1.950000e+06\n",
       "75%     2018.000000  3.175000e+06\n",
       "max     2022.000000  9.000000e+07"
      ]
     },
     "execution_count": 4,
     "metadata": {},
     "output_type": "execute_result"
    }
   ],
   "source": [
    "df.describe()"
   ]
  },
  {
   "cell_type": "code",
   "execution_count": 5,
   "id": "4828c0ed",
   "metadata": {
    "execution": {
     "iopub.execute_input": "2022-05-22T11:44:04.160238Z",
     "iopub.status.busy": "2022-05-22T11:44:04.159949Z",
     "iopub.status.idle": "2022-05-22T11:44:04.271037Z",
     "shell.execute_reply": "2022-05-22T11:44:04.270165Z"
    },
    "papermill": {
     "duration": 0.137158,
     "end_time": "2022-05-22T11:44:04.273618",
     "exception": false,
     "start_time": "2022-05-22T11:44:04.136460",
     "status": "completed"
    },
    "tags": []
   },
   "outputs": [
    {
     "name": "stdout",
     "output_type": "stream",
     "text": [
      "<class 'pandas.core.frame.DataFrame'>\n",
      "RangeIndex: 75899 entries, 0 to 75898\n",
      "Data columns (total 14 columns):\n",
      " #   Column               Non-Null Count  Dtype  \n",
      "---  ------               --------------  -----  \n",
      " 0   name                 75899 non-null  object \n",
      " 1   location             75899 non-null  object \n",
      " 2   model_year           75899 non-null  int64  \n",
      " 3   mileage              75899 non-null  object \n",
      " 4   engine_type          75899 non-null  object \n",
      " 5   transmission         75899 non-null  object \n",
      " 6   registered_in        75899 non-null  object \n",
      " 7   color                75899 non-null  object \n",
      " 8   assembly             75899 non-null  object \n",
      " 9   engine_capacity      75899 non-null  object \n",
      " 10  body_type            67804 non-null  object \n",
      " 11  other_features_list  69353 non-null  object \n",
      " 12  url                  75899 non-null  object \n",
      " 13  price                74771 non-null  float64\n",
      "dtypes: float64(1), int64(1), object(12)\n",
      "memory usage: 8.1+ MB\n"
     ]
    }
   ],
   "source": [
    "df.info()"
   ]
  },
  {
   "cell_type": "code",
   "execution_count": 6,
   "id": "1c5b3170",
   "metadata": {
    "execution": {
     "iopub.execute_input": "2022-05-22T11:44:04.324545Z",
     "iopub.status.busy": "2022-05-22T11:44:04.323711Z",
     "iopub.status.idle": "2022-05-22T11:44:04.429153Z",
     "shell.execute_reply": "2022-05-22T11:44:04.428100Z"
    },
    "papermill": {
     "duration": 0.13382,
     "end_time": "2022-05-22T11:44:04.431471",
     "exception": false,
     "start_time": "2022-05-22T11:44:04.297651",
     "status": "completed"
    },
    "tags": []
   },
   "outputs": [
    {
     "data": {
      "text/plain": [
       "name                      0\n",
       "location                  0\n",
       "model_year                0\n",
       "mileage                   0\n",
       "engine_type               0\n",
       "transmission              0\n",
       "registered_in             0\n",
       "color                     0\n",
       "assembly                  0\n",
       "engine_capacity           0\n",
       "body_type              8095\n",
       "other_features_list    6546\n",
       "url                       0\n",
       "price                  1128\n",
       "dtype: int64"
      ]
     },
     "execution_count": 6,
     "metadata": {},
     "output_type": "execute_result"
    }
   ],
   "source": [
    "#checking missing value\n",
    "df.isnull().sum()"
   ]
  },
  {
   "cell_type": "markdown",
   "id": "4f9c4874",
   "metadata": {
    "papermill": {
     "duration": 0.024034,
     "end_time": "2022-05-22T11:44:04.480177",
     "exception": false,
     "start_time": "2022-05-22T11:44:04.456143",
     "status": "completed"
    },
    "tags": []
   },
   "source": [
    "**3. Data Cleaning**"
   ]
  },
  {
   "cell_type": "code",
   "execution_count": 7,
   "id": "8507de28",
   "metadata": {
    "execution": {
     "iopub.execute_input": "2022-05-22T11:44:04.532403Z",
     "iopub.status.busy": "2022-05-22T11:44:04.531928Z",
     "iopub.status.idle": "2022-05-22T11:44:04.729071Z",
     "shell.execute_reply": "2022-05-22T11:44:04.728124Z"
    },
    "papermill": {
     "duration": 0.226372,
     "end_time": "2022-05-22T11:44:04.731313",
     "exception": false,
     "start_time": "2022-05-22T11:44:04.504941",
     "status": "completed"
    },
    "tags": []
   },
   "outputs": [
    {
     "data": {
      "text/plain": [
       "name                   0\n",
       "location               0\n",
       "model_year             0\n",
       "mileage                0\n",
       "engine_type            0\n",
       "transmission           0\n",
       "registered_in          0\n",
       "color                  0\n",
       "assembly               0\n",
       "engine_capacity        0\n",
       "body_type              0\n",
       "other_features_list    0\n",
       "url                    0\n",
       "price                  0\n",
       "dtype: int64"
      ]
     },
     "execution_count": 7,
     "metadata": {},
     "output_type": "execute_result"
    }
   ],
   "source": [
    "df=df.dropna()\n",
    "df.isnull().sum()"
   ]
  },
  {
   "cell_type": "raw",
   "id": "663fbfc0",
   "metadata": {
    "papermill": {
     "duration": 0.023624,
     "end_time": "2022-05-22T11:44:04.778979",
     "exception": false,
     "start_time": "2022-05-22T11:44:04.755355",
     "status": "completed"
    },
    "tags": []
   },
   "source": [
    "4**. Exploratory Data Analysis**"
   ]
  },
  {
   "cell_type": "code",
   "execution_count": 8,
   "id": "9a3345a5",
   "metadata": {
    "execution": {
     "iopub.execute_input": "2022-05-22T11:44:04.829889Z",
     "iopub.status.busy": "2022-05-22T11:44:04.829326Z",
     "iopub.status.idle": "2022-05-22T11:44:04.843663Z",
     "shell.execute_reply": "2022-05-22T11:44:04.842827Z"
    },
    "papermill": {
     "duration": 0.043252,
     "end_time": "2022-05-22T11:44:04.846113",
     "exception": false,
     "start_time": "2022-05-22T11:44:04.802861",
     "status": "completed"
    },
    "tags": []
   },
   "outputs": [],
   "source": [
    "#name car count by year\n",
    "grp_1=df.groupby('model_year')['name'].count().reset_index()"
   ]
  },
  {
   "cell_type": "code",
   "execution_count": 9,
   "id": "a23ebcb0",
   "metadata": {
    "execution": {
     "iopub.execute_input": "2022-05-22T11:44:04.897890Z",
     "iopub.status.busy": "2022-05-22T11:44:04.897572Z",
     "iopub.status.idle": "2022-05-22T11:44:04.992823Z",
     "shell.execute_reply": "2022-05-22T11:44:04.991772Z"
    },
    "papermill": {
     "duration": 0.123181,
     "end_time": "2022-05-22T11:44:04.994941",
     "exception": false,
     "start_time": "2022-05-22T11:44:04.871760",
     "status": "completed"
    },
    "tags": []
   },
   "outputs": [
    {
     "data": {
      "text/html": [
       "        <script type=\"text/javascript\">\n",
       "        window.PlotlyConfig = {MathJaxConfig: 'local'};\n",
       "        if (window.MathJax && window.MathJax.Hub && window.MathJax.Hub.Config) {window.MathJax.Hub.Config({SVG: {font: \"STIX-Web\"}});}\n",
       "        if (typeof require !== 'undefined') {\n",
       "        require.undef(\"plotly\");\n",
       "        requirejs.config({\n",
       "            paths: {\n",
       "                'plotly': ['https://cdn.plot.ly/plotly-2.12.1.min']\n",
       "            }\n",
       "        });\n",
       "        require(['plotly'], function(Plotly) {\n",
       "            window._Plotly = Plotly;\n",
       "        });\n",
       "        }\n",
       "        </script>\n",
       "        "
      ]
     },
     "metadata": {},
     "output_type": "display_data"
    },
    {
     "data": {
      "text/html": [
       "<div>                            <div id=\"46d17401-3557-46af-97f6-4f94f0579014\" class=\"plotly-graph-div\" style=\"height:525px; width:100%;\"></div>            <script type=\"text/javascript\">                require([\"plotly\"], function(Plotly) {                    window.PLOTLYENV=window.PLOTLYENV || {};                                    if (document.getElementById(\"46d17401-3557-46af-97f6-4f94f0579014\")) {                    Plotly.newPlot(                        \"46d17401-3557-46af-97f6-4f94f0579014\",                        [{\"x\":[1960,1962,1963,1964,1965,1966,1967,1968,1969,1970,1971,1972,1973,1974,1975,1976,1977,1978,1979,1980,1981,1982,1983,1984,1985,1986,1987,1988,1989,1990,1991,1992,1993,1994,1995,1996,1997,1998,1999,2000,2001,2002,2003,2004,2005,2006,2007,2008,2009,2010,2011,2012,2013,2014,2015,2016,2017,2018,2019,2020,2021,2022],\"y\":[1,2,2,2,1,2,1,2,1,3,2,5,2,14,4,11,4,3,3,19,20,42,27,87,85,227,92,170,145,142,134,175,297,307,457,531,429,492,505,580,580,721,1156,1603,2245,2451,2970,1772,1426,2105,2294,2636,2823,3044,3395,3694,4145,4731,2890,1861,4090,5552],\"type\":\"bar\"}],                        {\"template\":{\"data\":{\"histogram2dcontour\":[{\"type\":\"histogram2dcontour\",\"colorbar\":{\"outlinewidth\":0,\"ticks\":\"\"},\"colorscale\":[[0.0,\"#0d0887\"],[0.1111111111111111,\"#46039f\"],[0.2222222222222222,\"#7201a8\"],[0.3333333333333333,\"#9c179e\"],[0.4444444444444444,\"#bd3786\"],[0.5555555555555556,\"#d8576b\"],[0.6666666666666666,\"#ed7953\"],[0.7777777777777778,\"#fb9f3a\"],[0.8888888888888888,\"#fdca26\"],[1.0,\"#f0f921\"]]}],\"choropleth\":[{\"type\":\"choropleth\",\"colorbar\":{\"outlinewidth\":0,\"ticks\":\"\"}}],\"histogram2d\":[{\"type\":\"histogram2d\",\"colorbar\":{\"outlinewidth\":0,\"ticks\":\"\"},\"colorscale\":[[0.0,\"#0d0887\"],[0.1111111111111111,\"#46039f\"],[0.2222222222222222,\"#7201a8\"],[0.3333333333333333,\"#9c179e\"],[0.4444444444444444,\"#bd3786\"],[0.5555555555555556,\"#d8576b\"],[0.6666666666666666,\"#ed7953\"],[0.7777777777777778,\"#fb9f3a\"],[0.8888888888888888,\"#fdca26\"],[1.0,\"#f0f921\"]]}],\"heatmap\":[{\"type\":\"heatmap\",\"colorbar\":{\"outlinewidth\":0,\"ticks\":\"\"},\"colorscale\":[[0.0,\"#0d0887\"],[0.1111111111111111,\"#46039f\"],[0.2222222222222222,\"#7201a8\"],[0.3333333333333333,\"#9c179e\"],[0.4444444444444444,\"#bd3786\"],[0.5555555555555556,\"#d8576b\"],[0.6666666666666666,\"#ed7953\"],[0.7777777777777778,\"#fb9f3a\"],[0.8888888888888888,\"#fdca26\"],[1.0,\"#f0f921\"]]}],\"heatmapgl\":[{\"type\":\"heatmapgl\",\"colorbar\":{\"outlinewidth\":0,\"ticks\":\"\"},\"colorscale\":[[0.0,\"#0d0887\"],[0.1111111111111111,\"#46039f\"],[0.2222222222222222,\"#7201a8\"],[0.3333333333333333,\"#9c179e\"],[0.4444444444444444,\"#bd3786\"],[0.5555555555555556,\"#d8576b\"],[0.6666666666666666,\"#ed7953\"],[0.7777777777777778,\"#fb9f3a\"],[0.8888888888888888,\"#fdca26\"],[1.0,\"#f0f921\"]]}],\"contourcarpet\":[{\"type\":\"contourcarpet\",\"colorbar\":{\"outlinewidth\":0,\"ticks\":\"\"}}],\"contour\":[{\"type\":\"contour\",\"colorbar\":{\"outlinewidth\":0,\"ticks\":\"\"},\"colorscale\":[[0.0,\"#0d0887\"],[0.1111111111111111,\"#46039f\"],[0.2222222222222222,\"#7201a8\"],[0.3333333333333333,\"#9c179e\"],[0.4444444444444444,\"#bd3786\"],[0.5555555555555556,\"#d8576b\"],[0.6666666666666666,\"#ed7953\"],[0.7777777777777778,\"#fb9f3a\"],[0.8888888888888888,\"#fdca26\"],[1.0,\"#f0f921\"]]}],\"surface\":[{\"type\":\"surface\",\"colorbar\":{\"outlinewidth\":0,\"ticks\":\"\"},\"colorscale\":[[0.0,\"#0d0887\"],[0.1111111111111111,\"#46039f\"],[0.2222222222222222,\"#7201a8\"],[0.3333333333333333,\"#9c179e\"],[0.4444444444444444,\"#bd3786\"],[0.5555555555555556,\"#d8576b\"],[0.6666666666666666,\"#ed7953\"],[0.7777777777777778,\"#fb9f3a\"],[0.8888888888888888,\"#fdca26\"],[1.0,\"#f0f921\"]]}],\"mesh3d\":[{\"type\":\"mesh3d\",\"colorbar\":{\"outlinewidth\":0,\"ticks\":\"\"}}],\"scatter\":[{\"fillpattern\":{\"fillmode\":\"overlay\",\"size\":10,\"solidity\":0.2},\"type\":\"scatter\"}],\"parcoords\":[{\"type\":\"parcoords\",\"line\":{\"colorbar\":{\"outlinewidth\":0,\"ticks\":\"\"}}}],\"scatterpolargl\":[{\"type\":\"scatterpolargl\",\"marker\":{\"colorbar\":{\"outlinewidth\":0,\"ticks\":\"\"}}}],\"bar\":[{\"error_x\":{\"color\":\"#2a3f5f\"},\"error_y\":{\"color\":\"#2a3f5f\"},\"marker\":{\"line\":{\"color\":\"#E5ECF6\",\"width\":0.5},\"pattern\":{\"fillmode\":\"overlay\",\"size\":10,\"solidity\":0.2}},\"type\":\"bar\"}],\"scattergeo\":[{\"type\":\"scattergeo\",\"marker\":{\"colorbar\":{\"outlinewidth\":0,\"ticks\":\"\"}}}],\"scatterpolar\":[{\"type\":\"scatterpolar\",\"marker\":{\"colorbar\":{\"outlinewidth\":0,\"ticks\":\"\"}}}],\"histogram\":[{\"marker\":{\"pattern\":{\"fillmode\":\"overlay\",\"size\":10,\"solidity\":0.2}},\"type\":\"histogram\"}],\"scattergl\":[{\"type\":\"scattergl\",\"marker\":{\"colorbar\":{\"outlinewidth\":0,\"ticks\":\"\"}}}],\"scatter3d\":[{\"type\":\"scatter3d\",\"line\":{\"colorbar\":{\"outlinewidth\":0,\"ticks\":\"\"}},\"marker\":{\"colorbar\":{\"outlinewidth\":0,\"ticks\":\"\"}}}],\"scattermapbox\":[{\"type\":\"scattermapbox\",\"marker\":{\"colorbar\":{\"outlinewidth\":0,\"ticks\":\"\"}}}],\"scatterternary\":[{\"type\":\"scatterternary\",\"marker\":{\"colorbar\":{\"outlinewidth\":0,\"ticks\":\"\"}}}],\"scattercarpet\":[{\"type\":\"scattercarpet\",\"marker\":{\"colorbar\":{\"outlinewidth\":0,\"ticks\":\"\"}}}],\"carpet\":[{\"aaxis\":{\"endlinecolor\":\"#2a3f5f\",\"gridcolor\":\"white\",\"linecolor\":\"white\",\"minorgridcolor\":\"white\",\"startlinecolor\":\"#2a3f5f\"},\"baxis\":{\"endlinecolor\":\"#2a3f5f\",\"gridcolor\":\"white\",\"linecolor\":\"white\",\"minorgridcolor\":\"white\",\"startlinecolor\":\"#2a3f5f\"},\"type\":\"carpet\"}],\"table\":[{\"cells\":{\"fill\":{\"color\":\"#EBF0F8\"},\"line\":{\"color\":\"white\"}},\"header\":{\"fill\":{\"color\":\"#C8D4E3\"},\"line\":{\"color\":\"white\"}},\"type\":\"table\"}],\"barpolar\":[{\"marker\":{\"line\":{\"color\":\"#E5ECF6\",\"width\":0.5},\"pattern\":{\"fillmode\":\"overlay\",\"size\":10,\"solidity\":0.2}},\"type\":\"barpolar\"}],\"pie\":[{\"automargin\":true,\"type\":\"pie\"}]},\"layout\":{\"autotypenumbers\":\"strict\",\"colorway\":[\"#636efa\",\"#EF553B\",\"#00cc96\",\"#ab63fa\",\"#FFA15A\",\"#19d3f3\",\"#FF6692\",\"#B6E880\",\"#FF97FF\",\"#FECB52\"],\"font\":{\"color\":\"#2a3f5f\"},\"hovermode\":\"closest\",\"hoverlabel\":{\"align\":\"left\"},\"paper_bgcolor\":\"white\",\"plot_bgcolor\":\"#E5ECF6\",\"polar\":{\"bgcolor\":\"#E5ECF6\",\"angularaxis\":{\"gridcolor\":\"white\",\"linecolor\":\"white\",\"ticks\":\"\"},\"radialaxis\":{\"gridcolor\":\"white\",\"linecolor\":\"white\",\"ticks\":\"\"}},\"ternary\":{\"bgcolor\":\"#E5ECF6\",\"aaxis\":{\"gridcolor\":\"white\",\"linecolor\":\"white\",\"ticks\":\"\"},\"baxis\":{\"gridcolor\":\"white\",\"linecolor\":\"white\",\"ticks\":\"\"},\"caxis\":{\"gridcolor\":\"white\",\"linecolor\":\"white\",\"ticks\":\"\"}},\"coloraxis\":{\"colorbar\":{\"outlinewidth\":0,\"ticks\":\"\"}},\"colorscale\":{\"sequential\":[[0.0,\"#0d0887\"],[0.1111111111111111,\"#46039f\"],[0.2222222222222222,\"#7201a8\"],[0.3333333333333333,\"#9c179e\"],[0.4444444444444444,\"#bd3786\"],[0.5555555555555556,\"#d8576b\"],[0.6666666666666666,\"#ed7953\"],[0.7777777777777778,\"#fb9f3a\"],[0.8888888888888888,\"#fdca26\"],[1.0,\"#f0f921\"]],\"sequentialminus\":[[0.0,\"#0d0887\"],[0.1111111111111111,\"#46039f\"],[0.2222222222222222,\"#7201a8\"],[0.3333333333333333,\"#9c179e\"],[0.4444444444444444,\"#bd3786\"],[0.5555555555555556,\"#d8576b\"],[0.6666666666666666,\"#ed7953\"],[0.7777777777777778,\"#fb9f3a\"],[0.8888888888888888,\"#fdca26\"],[1.0,\"#f0f921\"]],\"diverging\":[[0,\"#8e0152\"],[0.1,\"#c51b7d\"],[0.2,\"#de77ae\"],[0.3,\"#f1b6da\"],[0.4,\"#fde0ef\"],[0.5,\"#f7f7f7\"],[0.6,\"#e6f5d0\"],[0.7,\"#b8e186\"],[0.8,\"#7fbc41\"],[0.9,\"#4d9221\"],[1,\"#276419\"]]},\"xaxis\":{\"gridcolor\":\"white\",\"linecolor\":\"white\",\"ticks\":\"\",\"title\":{\"standoff\":15},\"zerolinecolor\":\"white\",\"automargin\":true,\"zerolinewidth\":2},\"yaxis\":{\"gridcolor\":\"white\",\"linecolor\":\"white\",\"ticks\":\"\",\"title\":{\"standoff\":15},\"zerolinecolor\":\"white\",\"automargin\":true,\"zerolinewidth\":2},\"scene\":{\"xaxis\":{\"backgroundcolor\":\"#E5ECF6\",\"gridcolor\":\"white\",\"linecolor\":\"white\",\"showbackground\":true,\"ticks\":\"\",\"zerolinecolor\":\"white\",\"gridwidth\":2},\"yaxis\":{\"backgroundcolor\":\"#E5ECF6\",\"gridcolor\":\"white\",\"linecolor\":\"white\",\"showbackground\":true,\"ticks\":\"\",\"zerolinecolor\":\"white\",\"gridwidth\":2},\"zaxis\":{\"backgroundcolor\":\"#E5ECF6\",\"gridcolor\":\"white\",\"linecolor\":\"white\",\"showbackground\":true,\"ticks\":\"\",\"zerolinecolor\":\"white\",\"gridwidth\":2}},\"shapedefaults\":{\"line\":{\"color\":\"#2a3f5f\"}},\"annotationdefaults\":{\"arrowcolor\":\"#2a3f5f\",\"arrowhead\":0,\"arrowwidth\":1},\"geo\":{\"bgcolor\":\"white\",\"landcolor\":\"#E5ECF6\",\"subunitcolor\":\"white\",\"showland\":true,\"showlakes\":true,\"lakecolor\":\"white\"},\"title\":{\"x\":0.05},\"mapbox\":{\"style\":\"light\"}}},\"title\":{\"text\":\"used car release by year\"},\"xaxis\":{\"title\":{\"text\":\"year\"}},\"yaxis\":{\"title\":{\"text\":\"number of used car\"}}},                        {\"responsive\": true}                    ).then(function(){\n",
       "                            \n",
       "var gd = document.getElementById('46d17401-3557-46af-97f6-4f94f0579014');\n",
       "var x = new MutationObserver(function (mutations, observer) {{\n",
       "        var display = window.getComputedStyle(gd).display;\n",
       "        if (!display || display === 'none') {{\n",
       "            console.log([gd, 'removed!']);\n",
       "            Plotly.purge(gd);\n",
       "            observer.disconnect();\n",
       "        }}\n",
       "}});\n",
       "\n",
       "// Listen for the removal of the full notebook cells\n",
       "var notebookContainer = gd.closest('#notebook-container');\n",
       "if (notebookContainer) {{\n",
       "    x.observe(notebookContainer, {childList: true});\n",
       "}}\n",
       "\n",
       "// Listen for the clearing of the current output cell\n",
       "var outputEl = gd.closest('.output');\n",
       "if (outputEl) {{\n",
       "    x.observe(outputEl, {childList: true});\n",
       "}}\n",
       "\n",
       "                        })                };                });            </script>        </div>"
      ]
     },
     "metadata": {},
     "output_type": "display_data"
    }
   ],
   "source": [
    "fig=go.Figure(go.Bar(x=grp_1['model_year'], y=grp_1['name'\n",
    "]))\n",
    "fig.update_layout(title_text='used car release by year', xaxis_title=\"year\",yaxis_title=\"number of used car\")\n",
    "fig.show()"
   ]
  },
  {
   "cell_type": "code",
   "execution_count": 10,
   "id": "b1b865a7",
   "metadata": {
    "execution": {
     "iopub.execute_input": "2022-05-22T11:44:05.047433Z",
     "iopub.status.busy": "2022-05-22T11:44:05.047149Z",
     "iopub.status.idle": "2022-05-22T11:44:05.055640Z",
     "shell.execute_reply": "2022-05-22T11:44:05.054816Z"
    },
    "papermill": {
     "duration": 0.037556,
     "end_time": "2022-05-22T11:44:05.057872",
     "exception": false,
     "start_time": "2022-05-22T11:44:05.020316",
     "status": "completed"
    },
    "tags": []
   },
   "outputs": [
    {
     "data": {
      "text/plain": [
       "<bound method Series.unique of 1        8500000.0\n",
       "2        2375000.0\n",
       "3        1050000.0\n",
       "4        3550000.0\n",
       "6        1490000.0\n",
       "           ...    \n",
       "75894    1350000.0\n",
       "75895    4600000.0\n",
       "75896    2300000.0\n",
       "75897    1380000.0\n",
       "75898     550000.0\n",
       "Name: price, Length: 63212, dtype: float64>"
      ]
     },
     "execution_count": 10,
     "metadata": {},
     "output_type": "execute_result"
    }
   ],
   "source": [
    "df['price'].unique"
   ]
  },
  {
   "cell_type": "markdown",
   "id": "5504ef5e",
   "metadata": {
    "papermill": {
     "duration": 0.025341,
     "end_time": "2022-05-22T11:44:05.109150",
     "exception": false,
     "start_time": "2022-05-22T11:44:05.083809",
     "status": "completed"
    },
    "tags": []
   },
   "source": [
    "**Best Used Cars based on model year > = 5 years**"
   ]
  },
  {
   "cell_type": "code",
   "execution_count": null,
   "id": "340e9472",
   "metadata": {
    "papermill": {
     "duration": 0.025392,
     "end_time": "2022-05-22T11:44:05.160393",
     "exception": false,
     "start_time": "2022-05-22T11:44:05.135001",
     "status": "completed"
    },
    "tags": []
   },
   "outputs": [],
   "source": []
  },
  {
   "cell_type": "code",
   "execution_count": 11,
   "id": "2d923b4b",
   "metadata": {
    "execution": {
     "iopub.execute_input": "2022-05-22T11:44:05.213348Z",
     "iopub.status.busy": "2022-05-22T11:44:05.213063Z",
     "iopub.status.idle": "2022-05-22T11:44:05.245797Z",
     "shell.execute_reply": "2022-05-22T11:44:05.244933Z"
    },
    "papermill": {
     "duration": 0.061924,
     "end_time": "2022-05-22T11:44:05.248119",
     "exception": false,
     "start_time": "2022-05-22T11:44:05.186195",
     "status": "completed"
    },
    "tags": []
   },
   "outputs": [
    {
     "data": {
      "text/html": [
       "<div>\n",
       "<style scoped>\n",
       "    .dataframe tbody tr th:only-of-type {\n",
       "        vertical-align: middle;\n",
       "    }\n",
       "\n",
       "    .dataframe tbody tr th {\n",
       "        vertical-align: top;\n",
       "    }\n",
       "\n",
       "    .dataframe thead th {\n",
       "        text-align: right;\n",
       "    }\n",
       "</style>\n",
       "<table border=\"1\" class=\"dataframe\">\n",
       "  <thead>\n",
       "    <tr style=\"text-align: right;\">\n",
       "      <th></th>\n",
       "      <th>name</th>\n",
       "      <th>location</th>\n",
       "      <th>model_year</th>\n",
       "      <th>mileage</th>\n",
       "      <th>engine_type</th>\n",
       "      <th>transmission</th>\n",
       "      <th>registered_in</th>\n",
       "      <th>color</th>\n",
       "      <th>assembly</th>\n",
       "      <th>engine_capacity</th>\n",
       "      <th>body_type</th>\n",
       "      <th>other_features_list</th>\n",
       "      <th>url</th>\n",
       "      <th>price</th>\n",
       "    </tr>\n",
       "  </thead>\n",
       "  <tbody>\n",
       "    <tr>\n",
       "      <th>1</th>\n",
       "      <td>Toyota Premio X EX Package 1.8 2018</td>\n",
       "      <td>Askari 6, Peshawar KPK</td>\n",
       "      <td>2018</td>\n",
       "      <td>17,000 km</td>\n",
       "      <td>Petrol</td>\n",
       "      <td>Automatic</td>\n",
       "      <td>Un-Registered</td>\n",
       "      <td>Peral White</td>\n",
       "      <td>Imported</td>\n",
       "      <td>1800 cc</td>\n",
       "      <td>Sedan</td>\n",
       "      <td>ABS,AM/FM Radio,Air Bags,Air Conditioning,Allo...</td>\n",
       "      <td>https://www.pakwheels.com/used-cars/toyota-pre...</td>\n",
       "      <td>8500000.0</td>\n",
       "    </tr>\n",
       "    <tr>\n",
       "      <th>2</th>\n",
       "      <td>Honda City Aspire 1.3 i-VTEC 2016</td>\n",
       "      <td>I- 8, Islamabad Islamabad</td>\n",
       "      <td>2016</td>\n",
       "      <td>59,000 km</td>\n",
       "      <td>Petrol</td>\n",
       "      <td>Manual</td>\n",
       "      <td>Islamabad</td>\n",
       "      <td>White</td>\n",
       "      <td>Local</td>\n",
       "      <td>1300 cc</td>\n",
       "      <td>Sedan</td>\n",
       "      <td>ABS,AM/FM Radio,Air Conditioning,Alloy Rims,CD...</td>\n",
       "      <td>https://www.pakwheels.com/used-cars/honda-city...</td>\n",
       "      <td>2375000.0</td>\n",
       "    </tr>\n",
       "    <tr>\n",
       "      <th>3</th>\n",
       "      <td>Suzuki Bolan VX Euro II 2018</td>\n",
       "      <td>Dhok Sayedan Road, Rawalpindi Punjab</td>\n",
       "      <td>2018</td>\n",
       "      <td>55,000 km</td>\n",
       "      <td>Petrol</td>\n",
       "      <td>Manual</td>\n",
       "      <td>Islamabad</td>\n",
       "      <td>White</td>\n",
       "      <td>Local</td>\n",
       "      <td>800 cc</td>\n",
       "      <td>Van</td>\n",
       "      <td>AM/FM Radio,Immobilizer Key</td>\n",
       "      <td>https://www.pakwheels.com/used-cars/suzuki-bol...</td>\n",
       "      <td>1050000.0</td>\n",
       "    </tr>\n",
       "    <tr>\n",
       "      <th>4</th>\n",
       "      <td>Suzuki Swift GLX CVT 2022</td>\n",
       "      <td>Karachi Sindh</td>\n",
       "      <td>2022</td>\n",
       "      <td>2 km</td>\n",
       "      <td>Petrol</td>\n",
       "      <td>Automatic</td>\n",
       "      <td>Sindh</td>\n",
       "      <td>Grey</td>\n",
       "      <td>Local</td>\n",
       "      <td>1200 cc</td>\n",
       "      <td>Hatchback</td>\n",
       "      <td>ABS,AM/FM Radio,Air Bags,Air Conditioning,Allo...</td>\n",
       "      <td>https://www.pakwheels.com/used-cars/suzuki-swi...</td>\n",
       "      <td>3550000.0</td>\n",
       "    </tr>\n",
       "    <tr>\n",
       "      <th>7</th>\n",
       "      <td>Toyota Aqua S 2017</td>\n",
       "      <td>Islamabad Islamabad</td>\n",
       "      <td>2017</td>\n",
       "      <td>97,000 km</td>\n",
       "      <td>Hybrid</td>\n",
       "      <td>Automatic</td>\n",
       "      <td>Un-Registered</td>\n",
       "      <td>Silver</td>\n",
       "      <td>Imported</td>\n",
       "      <td>1500 cc</td>\n",
       "      <td>Hatchback</td>\n",
       "      <td>ABS,AM/FM Radio,Air Bags,Air Conditioning,CD P...</td>\n",
       "      <td>https://www.pakwheels.com/used-cars/toyota-aqu...</td>\n",
       "      <td>3650000.0</td>\n",
       "    </tr>\n",
       "    <tr>\n",
       "      <th>...</th>\n",
       "      <td>...</td>\n",
       "      <td>...</td>\n",
       "      <td>...</td>\n",
       "      <td>...</td>\n",
       "      <td>...</td>\n",
       "      <td>...</td>\n",
       "      <td>...</td>\n",
       "      <td>...</td>\n",
       "      <td>...</td>\n",
       "      <td>...</td>\n",
       "      <td>...</td>\n",
       "      <td>...</td>\n",
       "      <td>...</td>\n",
       "      <td>...</td>\n",
       "    </tr>\n",
       "    <tr>\n",
       "      <th>75881</th>\n",
       "      <td>Toyota Vitz F 1.0 2019</td>\n",
       "      <td>Valencia Housing Society, Lahore Punjab</td>\n",
       "      <td>2019</td>\n",
       "      <td>91,000 km</td>\n",
       "      <td>Petrol</td>\n",
       "      <td>Automatic</td>\n",
       "      <td>Un-Registered</td>\n",
       "      <td>White</td>\n",
       "      <td>Imported</td>\n",
       "      <td>1000 cc</td>\n",
       "      <td>Hatchback</td>\n",
       "      <td>ABS,AM/FM Radio,Air Bags,Air Conditioning,CD P...</td>\n",
       "      <td>https://www.pakwheels.com/used-cars/toyota-vit...</td>\n",
       "      <td>2780000.0</td>\n",
       "    </tr>\n",
       "    <tr>\n",
       "      <th>75884</th>\n",
       "      <td>Honda City 1.3 i-VTEC 2017</td>\n",
       "      <td>Sakhi Hasan, Karachi Sindh</td>\n",
       "      <td>2017</td>\n",
       "      <td>58,000 km</td>\n",
       "      <td>Petrol</td>\n",
       "      <td>Manual</td>\n",
       "      <td>Karachi</td>\n",
       "      <td>Silver</td>\n",
       "      <td>Local</td>\n",
       "      <td>1300 cc</td>\n",
       "      <td>Sedan</td>\n",
       "      <td>ABS,AM/FM Radio,Air Conditioning,CD Player,DVD...</td>\n",
       "      <td>https://www.pakwheels.com/used-cars/honda-city...</td>\n",
       "      <td>2250000.0</td>\n",
       "    </tr>\n",
       "    <tr>\n",
       "      <th>75889</th>\n",
       "      <td>Toyota Aqua S 2018</td>\n",
       "      <td>Shahra-e-Qaideen, Karachi Sindh</td>\n",
       "      <td>2018</td>\n",
       "      <td>35,000 km</td>\n",
       "      <td>Hybrid</td>\n",
       "      <td>Automatic</td>\n",
       "      <td>Un-Registered</td>\n",
       "      <td>Silver</td>\n",
       "      <td>Imported</td>\n",
       "      <td>1500 cc</td>\n",
       "      <td>Hatchback</td>\n",
       "      <td>ABS,AM/FM Radio,Air Bags,Air Conditioning,CD P...</td>\n",
       "      <td>https://www.pakwheels.com/used-cars/toyota-aqu...</td>\n",
       "      <td>4000000.0</td>\n",
       "    </tr>\n",
       "    <tr>\n",
       "      <th>75891</th>\n",
       "      <td>Honda City 1.3 i-VTEC 2015</td>\n",
       "      <td>Bahria Town Rawalpindi, Rawalpindi Punjab</td>\n",
       "      <td>2015</td>\n",
       "      <td>109,915 km</td>\n",
       "      <td>Petrol</td>\n",
       "      <td>Manual</td>\n",
       "      <td>Islamabad</td>\n",
       "      <td>White</td>\n",
       "      <td>Local</td>\n",
       "      <td>1300 cc</td>\n",
       "      <td>Sedan</td>\n",
       "      <td>ABS,AM/FM Radio,Air Conditioning,CD Player,DVD...</td>\n",
       "      <td>https://www.pakwheels.com/used-cars/honda-city...</td>\n",
       "      <td>2350000.0</td>\n",
       "    </tr>\n",
       "    <tr>\n",
       "      <th>75895</th>\n",
       "      <td>Hyundai Elantra GLS 2021</td>\n",
       "      <td>Naval Housing Scheme, Karachi Sindh</td>\n",
       "      <td>2021</td>\n",
       "      <td>16,500 km</td>\n",
       "      <td>Petrol</td>\n",
       "      <td>Automatic</td>\n",
       "      <td>Un-Registered</td>\n",
       "      <td>Black</td>\n",
       "      <td>Imported</td>\n",
       "      <td>2000 cc</td>\n",
       "      <td>Sedan</td>\n",
       "      <td>ABS,AM/FM Radio,Air Bags,Air Conditioning,Allo...</td>\n",
       "      <td>https://www.pakwheels.com/used-cars/hyundai-el...</td>\n",
       "      <td>4600000.0</td>\n",
       "    </tr>\n",
       "  </tbody>\n",
       "</table>\n",
       "<p>30358 rows × 14 columns</p>\n",
       "</div>"
      ],
      "text/plain": [
       "                                      name  \\\n",
       "1      Toyota Premio X EX Package 1.8 2018   \n",
       "2        Honda City Aspire 1.3 i-VTEC 2016   \n",
       "3             Suzuki Bolan VX Euro II 2018   \n",
       "4                Suzuki Swift GLX CVT 2022   \n",
       "7                       Toyota Aqua S 2017   \n",
       "...                                    ...   \n",
       "75881               Toyota Vitz F 1.0 2019   \n",
       "75884           Honda City 1.3 i-VTEC 2017   \n",
       "75889                   Toyota Aqua S 2018   \n",
       "75891           Honda City 1.3 i-VTEC 2015   \n",
       "75895             Hyundai Elantra GLS 2021   \n",
       "\n",
       "                                        location  model_year     mileage  \\\n",
       "1                         Askari 6, Peshawar KPK        2018   17,000 km   \n",
       "2                      I- 8, Islamabad Islamabad        2016   59,000 km   \n",
       "3           Dhok Sayedan Road, Rawalpindi Punjab        2018   55,000 km   \n",
       "4                                  Karachi Sindh        2022        2 km   \n",
       "7                            Islamabad Islamabad        2017   97,000 km   \n",
       "...                                          ...         ...         ...   \n",
       "75881    Valencia Housing Society, Lahore Punjab        2019   91,000 km   \n",
       "75884                 Sakhi Hasan, Karachi Sindh        2017   58,000 km   \n",
       "75889            Shahra-e-Qaideen, Karachi Sindh        2018   35,000 km   \n",
       "75891  Bahria Town Rawalpindi, Rawalpindi Punjab        2015  109,915 km   \n",
       "75895        Naval Housing Scheme, Karachi Sindh        2021   16,500 km   \n",
       "\n",
       "      engine_type transmission  registered_in        color  assembly  \\\n",
       "1          Petrol    Automatic  Un-Registered  Peral White  Imported   \n",
       "2          Petrol       Manual      Islamabad        White     Local   \n",
       "3          Petrol       Manual      Islamabad        White     Local   \n",
       "4          Petrol    Automatic          Sindh         Grey     Local   \n",
       "7          Hybrid    Automatic  Un-Registered       Silver  Imported   \n",
       "...           ...          ...            ...          ...       ...   \n",
       "75881      Petrol    Automatic  Un-Registered        White  Imported   \n",
       "75884      Petrol       Manual        Karachi       Silver     Local   \n",
       "75889      Hybrid    Automatic  Un-Registered       Silver  Imported   \n",
       "75891      Petrol       Manual      Islamabad        White     Local   \n",
       "75895      Petrol    Automatic  Un-Registered        Black  Imported   \n",
       "\n",
       "      engine_capacity  body_type  \\\n",
       "1             1800 cc      Sedan   \n",
       "2             1300 cc      Sedan   \n",
       "3              800 cc        Van   \n",
       "4             1200 cc  Hatchback   \n",
       "7             1500 cc  Hatchback   \n",
       "...               ...        ...   \n",
       "75881         1000 cc  Hatchback   \n",
       "75884         1300 cc      Sedan   \n",
       "75889         1500 cc  Hatchback   \n",
       "75891         1300 cc      Sedan   \n",
       "75895         2000 cc      Sedan   \n",
       "\n",
       "                                     other_features_list  \\\n",
       "1      ABS,AM/FM Radio,Air Bags,Air Conditioning,Allo...   \n",
       "2      ABS,AM/FM Radio,Air Conditioning,Alloy Rims,CD...   \n",
       "3                            AM/FM Radio,Immobilizer Key   \n",
       "4      ABS,AM/FM Radio,Air Bags,Air Conditioning,Allo...   \n",
       "7      ABS,AM/FM Radio,Air Bags,Air Conditioning,CD P...   \n",
       "...                                                  ...   \n",
       "75881  ABS,AM/FM Radio,Air Bags,Air Conditioning,CD P...   \n",
       "75884  ABS,AM/FM Radio,Air Conditioning,CD Player,DVD...   \n",
       "75889  ABS,AM/FM Radio,Air Bags,Air Conditioning,CD P...   \n",
       "75891  ABS,AM/FM Radio,Air Conditioning,CD Player,DVD...   \n",
       "75895  ABS,AM/FM Radio,Air Bags,Air Conditioning,Allo...   \n",
       "\n",
       "                                                     url      price  \n",
       "1      https://www.pakwheels.com/used-cars/toyota-pre...  8500000.0  \n",
       "2      https://www.pakwheels.com/used-cars/honda-city...  2375000.0  \n",
       "3      https://www.pakwheels.com/used-cars/suzuki-bol...  1050000.0  \n",
       "4      https://www.pakwheels.com/used-cars/suzuki-swi...  3550000.0  \n",
       "7      https://www.pakwheels.com/used-cars/toyota-aqu...  3650000.0  \n",
       "...                                                  ...        ...  \n",
       "75881  https://www.pakwheels.com/used-cars/toyota-vit...  2780000.0  \n",
       "75884  https://www.pakwheels.com/used-cars/honda-city...  2250000.0  \n",
       "75889  https://www.pakwheels.com/used-cars/toyota-aqu...  4000000.0  \n",
       "75891  https://www.pakwheels.com/used-cars/honda-city...  2350000.0  \n",
       "75895  https://www.pakwheels.com/used-cars/hyundai-el...  4600000.0  \n",
       "\n",
       "[30358 rows x 14 columns]"
      ]
     },
     "execution_count": 11,
     "metadata": {},
     "output_type": "execute_result"
    }
   ],
   "source": [
    "df[df.model_year>=2015]"
   ]
  },
  {
   "cell_type": "markdown",
   "id": "5637d641",
   "metadata": {
    "papermill": {
     "duration": 0.027401,
     "end_time": "2022-05-22T11:44:05.305912",
     "exception": false,
     "start_time": "2022-05-22T11:44:05.278511",
     "status": "completed"
    },
    "tags": []
   },
   "source": [
    "Bar Plot price vs model year"
   ]
  },
  {
   "cell_type": "code",
   "execution_count": 12,
   "id": "4373512f",
   "metadata": {
    "execution": {
     "iopub.execute_input": "2022-05-22T11:44:05.360969Z",
     "iopub.status.busy": "2022-05-22T11:44:05.360646Z",
     "iopub.status.idle": "2022-05-22T11:45:15.644248Z",
     "shell.execute_reply": "2022-05-22T11:45:15.643310Z"
    },
    "papermill": {
     "duration": 70.314001,
     "end_time": "2022-05-22T11:45:15.646795",
     "exception": false,
     "start_time": "2022-05-22T11:44:05.332794",
     "status": "completed"
    },
    "tags": []
   },
   "outputs": [
    {
     "data": {
      "text/plain": [
       "Text(0.5, 1.0, 'price vs model year')"
      ]
     },
     "execution_count": 12,
     "metadata": {},
     "output_type": "execute_result"
    },
    {
     "data": {
      "image/png": "[encoded data removed]",
      "text/plain": [
       "<Figure size 1440x720 with 1 Axes>"
      ]
     },
     "metadata": {
      "needs_background": "light"
     },
     "output_type": "display_data"
    }
   ],
   "source": [
    "plt.figure(figsize=(20,10))\n",
    "sns.barplot(x=df['price'],y=df['model_year'])\n",
    "plt.title(\"price vs model year\")"
   ]
  },
  {
   "cell_type": "code",
   "execution_count": 13,
   "id": "4ded452a",
   "metadata": {
    "execution": {
     "iopub.execute_input": "2022-05-22T11:45:15.705799Z",
     "iopub.status.busy": "2022-05-22T11:45:15.705105Z",
     "iopub.status.idle": "2022-05-22T11:45:16.244103Z",
     "shell.execute_reply": "2022-05-22T11:45:16.243432Z"
    },
    "papermill": {
     "duration": 0.570899,
     "end_time": "2022-05-22T11:45:16.246251",
     "exception": false,
     "start_time": "2022-05-22T11:45:15.675352",
     "status": "completed"
    },
    "tags": []
   },
   "outputs": [
    {
     "data": {
      "text/plain": [
       "<seaborn.axisgrid.FacetGrid at 0x7f078e14f850>"
      ]
     },
     "execution_count": 13,
     "metadata": {},
     "output_type": "execute_result"
    },
    {
     "data": {
      "image/png": "[encoded data removed]",
      "text/plain": [
       "<Figure size 360x360 with 1 Axes>"
      ]
     },
     "metadata": {
      "needs_background": "light"
     },
     "output_type": "display_data"
    }
   ],
   "source": [
    "sns.displot(df.model_year,color='blue')"
   ]
  },
  {
   "cell_type": "code",
   "execution_count": 14,
   "id": "4c9b835f",
   "metadata": {
    "execution": {
     "iopub.execute_input": "2022-05-22T11:45:16.307141Z",
     "iopub.status.busy": "2022-05-22T11:45:16.306307Z",
     "iopub.status.idle": "2022-05-22T11:45:18.410709Z",
     "shell.execute_reply": "2022-05-22T11:45:18.409746Z"
    },
    "papermill": {
     "duration": 2.13773,
     "end_time": "2022-05-22T11:45:18.413298",
     "exception": false,
     "start_time": "2022-05-22T11:45:16.275568",
     "status": "completed"
    },
    "tags": []
   },
   "outputs": [
    {
     "data": {
      "text/plain": [
       "<seaborn.axisgrid.FacetGrid at 0x7f078e0fa790>"
      ]
     },
     "execution_count": 14,
     "metadata": {},
     "output_type": "execute_result"
    },
    {
     "data": {
      "image/png": "[encoded data removed]",
      "text/plain": [
       "<Figure size 360x360 with 1 Axes>"
      ]
     },
     "metadata": {
      "needs_background": "light"
     },
     "output_type": "display_data"
    }
   ],
   "source": [
    "sns.displot(df.price)"
   ]
  },
  {
   "cell_type": "code",
   "execution_count": 15,
   "id": "b19fd0f9",
   "metadata": {
    "execution": {
     "iopub.execute_input": "2022-05-22T11:45:18.477851Z",
     "iopub.status.busy": "2022-05-22T11:45:18.477061Z",
     "iopub.status.idle": "2022-05-22T11:45:18.786718Z",
     "shell.execute_reply": "2022-05-22T11:45:18.785714Z"
    },
    "papermill": {
     "duration": 0.343948,
     "end_time": "2022-05-22T11:45:18.788724",
     "exception": false,
     "start_time": "2022-05-22T11:45:18.444776",
     "status": "completed"
    },
    "tags": []
   },
   "outputs": [
    {
     "data": {
      "image/png": "[encoded data removed]",
      "text/plain": [
       "<Figure size 432x288 with 1 Axes>"
      ]
     },
     "metadata": {
      "needs_background": "light"
     },
     "output_type": "display_data"
    }
   ],
   "source": [
    "plt.scatter(df['model_year'],df['price'])\n",
    "plt.title(\"Model Type VS Price\")\n",
    "plt.show()"
   ]
  }
 ],
 "metadata": {
  "kernelspec": {
   "display_name": "Python 3",
   "language": "python",
   "name": "python3"
  },
  "language_info": {
   "codemirror_mode": {
    "name": "ipython",
    "version": 3
   },
   "file_extension": ".py",
   "mimetype": "text/x-python",
   "name": "python",
   "nbconvert_exporter": "python",
   "pygments_lexer": "ipython3",
   "version": "3.7.12"
  },
  "papermill": {
   "default_parameters": {},
   "duration": 90.631433,
   "end_time": "2022-05-22T11:45:20.547912",
   "environment_variables": {},
   "exception": null,
   "input_path": "__notebook__.ipynb",
   "output_path": "__notebook__.ipynb",
   "parameters": {},
   "start_time": "2022-05-22T11:43:49.916479",
   "version": "2.3.4"
  }
 },
 "nbformat": 4,
 "nbformat_minor": 5
}
