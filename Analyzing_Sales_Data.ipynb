{
  "nbformat": 4,
  "nbformat_minor": 0,
  "metadata": {
    "colab": {
      "name": "Analyzing Sales Data.ipynb",
      "provenance": [],
      "collapsed_sections": []
    },
    "kernelspec": {
      "name": "python3",
      "display_name": "Python 3"
    },
    "language_info": {
      "name": "python"
    }
  },
  "cells": [
    {
      "cell_type": "code",
      "execution_count": 2,
      "metadata": {
        "id": "kmZ0jUcGVT15"
      },
      "outputs": [],
      "source": [
        "import pandas as pd\n",
        "import numpy as np\n",
        "import seaborn as sns\n",
        "import matplotlib.pyplot as plt"
      ]
    },
    {
      "cell_type": "code",
      "source": [
        "data=pd.read_csv('https://query.data.world/s/rxrinidylmazqffztdb2esgvpxaqgh',delimiter='\\t')  #import data"
      ],
      "metadata": {
        "id": "NjS86CxeWNIK"
      },
      "execution_count": 3,
      "outputs": []
    },
    {
      "cell_type": "code",
      "source": [
        "data.to_csv('https://query.data.world/s/rxrinidylmazqffztdb2esgvpxaqgh')  #change format file txt to csv"
      ],
      "metadata": {
        "id": "iU7aTJhdbmHz"
      },
      "execution_count": 4,
      "outputs": []
    },
    {
      "cell_type": "code",
      "source": [
        "data"
      ],
      "metadata": {
        "colab": {
          "base_uri": "https://localhost:8080/",
          "height": 710
        },
        "id": "OiVYbOoQaEGv",
        "outputId": "6be40859-8cea-4800-8144-c610fd9fd39f"
      },
      "execution_count": 6,
      "outputs": [
        {
          "output_type": "execute_result",
          "data": {
            "text/plain": [
              "      Area Code  Cogs  Difference Between Actual and Target Profit  \\\n",
              "0           303    51                                          -35   \n",
              "1           970    52                                          -24   \n",
              "2           409    43                                          -22   \n",
              "3           850    38                                          -15   \n",
              "4           562    72                                            6   \n",
              "...         ...   ...                                          ...   \n",
              "1057        775   250                                          133   \n",
              "1058        971    88                                           48   \n",
              "1059        775   294                                         -285   \n",
              "1060        503   134                                           80   \n",
              "1061        435    20                                          -22   \n",
              "\n",
              "                         Date  Inventory  Margin   Market Size   Market  \\\n",
              "0     2012-10-01 00:00:00.000        503      71  Major Market  Central   \n",
              "1     2012-10-01 00:00:00.000        405      71  Major Market  Central   \n",
              "2     2012-10-01 00:00:00.000        419      64  Major Market    South   \n",
              "3     2012-10-01 00:00:00.000        871      56  Major Market     East   \n",
              "4     2012-10-01 00:00:00.000        650     110  Major Market     West   \n",
              "...                       ...        ...     ...           ...      ...   \n",
              "1057  2013-12-01 00:00:00.000       1820     251  Small Market     West   \n",
              "1058  2013-12-01 00:00:00.000        817     133  Small Market     West   \n",
              "1059  2013-12-01 00:00:00.000       8252    -294  Small Market     West   \n",
              "1060  2013-12-01 00:00:00.000        690     186  Small Market     West   \n",
              "1061  2013-12-01 00:00:00.000        218      25  Small Market     West   \n",
              "\n",
              "      Marketing  记录数  ...     Product Profit Sales       State  Target COGS  \\\n",
              "0            46    1  ...       Lemon     -5   122    Colorado           30   \n",
              "1            17    1  ...        Mint     26   123    Colorado           30   \n",
              "2            13    1  ...       Lemon     28   107       Texas           30   \n",
              "3            10    1  ...  Darjeeling     35    94     Florida           40   \n",
              "4            23    1  ...   Green Tea     56   182  California           20   \n",
              "...         ...  ...  ...         ...    ...   ...         ...          ...   \n",
              "1057         70    1  ...   Earl Grey    233   534      Nevada          180   \n",
              "1058         29    1  ...   Earl Grey    108   236      Oregon           60   \n",
              "1059        111    1  ...   Green Tea   -605    33      Nevada          210   \n",
              "1060         41    1  ...   Green Tea    180   341      Oregon           90   \n",
              "1061          7    1  ...   Green Tea    -22    48        Utah           10   \n",
              "\n",
              "     Target Margin  Target Profit  Target Sales  Total Expenses     Type  \n",
              "0               60             30            90              76    Decaf  \n",
              "1               60             50            90              45    Decaf  \n",
              "2               60             50            90              36    Decaf  \n",
              "3               60             50           100              21  Regular  \n",
              "4               60             50            80              54  Regular  \n",
              "...            ...            ...           ...             ...      ...  \n",
              "1057           180            100           360              94  Regular  \n",
              "1058           100             60           160              60  Regular  \n",
              "1059          -210           -320             0             145  Regular  \n",
              "1060           140            100           230              65  Regular  \n",
              "1061            20              0            30              40  Regular  \n",
              "\n",
              "[1062 rows x 22 columns]"
            ],
            "text/html": [
              "\n",
              "  <div id=\"df-9b5781f7-137f-49c6-813f-ca2976447618\">\n",
              "    <div class=\"colab-df-container\">\n",
              "      <div>\n",
              "<style scoped>\n",
              "    .dataframe tbody tr th:only-of-type {\n",
              "        vertical-align: middle;\n",
              "    }\n",
              "\n",
              "    .dataframe tbody tr th {\n",
              "        vertical-align: top;\n",
              "    }\n",
              "\n",
              "    .dataframe thead th {\n",
              "        text-align: right;\n",
              "    }\n",
              "</style>\n",
              "<table border=\"1\" class=\"dataframe\">\n",
              "  <thead>\n",
              "    <tr style=\"text-align: right;\">\n",
              "      <th></th>\n",
              "      <th>Area Code</th>\n",
              "      <th>Cogs</th>\n",
              "      <th>Difference Between Actual and Target Profit</th>\n",
              "      <th>Date</th>\n",
              "      <th>Inventory</th>\n",
              "      <th>Margin</th>\n",
              "      <th>Market Size</th>\n",
              "      <th>Market</th>\n",
              "      <th>Marketing</th>\n",
              "      <th>记录数</th>\n",
              "      <th>...</th>\n",
              "      <th>Product</th>\n",
              "      <th>Profit</th>\n",
              "      <th>Sales</th>\n",
              "      <th>State</th>\n",
              "      <th>Target COGS</th>\n",
              "      <th>Target Margin</th>\n",
              "      <th>Target Profit</th>\n",
              "      <th>Target Sales</th>\n",
              "      <th>Total Expenses</th>\n",
              "      <th>Type</th>\n",
              "    </tr>\n",
              "  </thead>\n",
              "  <tbody>\n",
              "    <tr>\n",
              "      <th>0</th>\n",
              "      <td>303</td>\n",
              "      <td>51</td>\n",
              "      <td>-35</td>\n",
              "      <td>2012-10-01 00:00:00.000</td>\n",
              "      <td>503</td>\n",
              "      <td>71</td>\n",
              "      <td>Major Market</td>\n",
              "      <td>Central</td>\n",
              "      <td>46</td>\n",
              "      <td>1</td>\n",
              "      <td>...</td>\n",
              "      <td>Lemon</td>\n",
              "      <td>-5</td>\n",
              "      <td>122</td>\n",
              "      <td>Colorado</td>\n",
              "      <td>30</td>\n",
              "      <td>60</td>\n",
              "      <td>30</td>\n",
              "      <td>90</td>\n",
              "      <td>76</td>\n",
              "      <td>Decaf</td>\n",
              "    </tr>\n",
              "    <tr>\n",
              "      <th>1</th>\n",
              "      <td>970</td>\n",
              "      <td>52</td>\n",
              "      <td>-24</td>\n",
              "      <td>2012-10-01 00:00:00.000</td>\n",
              "      <td>405</td>\n",
              "      <td>71</td>\n",
              "      <td>Major Market</td>\n",
              "      <td>Central</td>\n",
              "      <td>17</td>\n",
              "      <td>1</td>\n",
              "      <td>...</td>\n",
              "      <td>Mint</td>\n",
              "      <td>26</td>\n",
              "      <td>123</td>\n",
              "      <td>Colorado</td>\n",
              "      <td>30</td>\n",
              "      <td>60</td>\n",
              "      <td>50</td>\n",
              "      <td>90</td>\n",
              "      <td>45</td>\n",
              "      <td>Decaf</td>\n",
              "    </tr>\n",
              "    <tr>\n",
              "      <th>2</th>\n",
              "      <td>409</td>\n",
              "      <td>43</td>\n",
              "      <td>-22</td>\n",
              "      <td>2012-10-01 00:00:00.000</td>\n",
              "      <td>419</td>\n",
              "      <td>64</td>\n",
              "      <td>Major Market</td>\n",
              "      <td>South</td>\n",
              "      <td>13</td>\n",
              "      <td>1</td>\n",
              "      <td>...</td>\n",
              "      <td>Lemon</td>\n",
              "      <td>28</td>\n",
              "      <td>107</td>\n",
              "      <td>Texas</td>\n",
              "      <td>30</td>\n",
              "      <td>60</td>\n",
              "      <td>50</td>\n",
              "      <td>90</td>\n",
              "      <td>36</td>\n",
              "      <td>Decaf</td>\n",
              "    </tr>\n",
              "    <tr>\n",
              "      <th>3</th>\n",
              "      <td>850</td>\n",
              "      <td>38</td>\n",
              "      <td>-15</td>\n",
              "      <td>2012-10-01 00:00:00.000</td>\n",
              "      <td>871</td>\n",
              "      <td>56</td>\n",
              "      <td>Major Market</td>\n",
              "      <td>East</td>\n",
              "      <td>10</td>\n",
              "      <td>1</td>\n",
              "      <td>...</td>\n",
              "      <td>Darjeeling</td>\n",
              "      <td>35</td>\n",
              "      <td>94</td>\n",
              "      <td>Florida</td>\n",
              "      <td>40</td>\n",
              "      <td>60</td>\n",
              "      <td>50</td>\n",
              "      <td>100</td>\n",
              "      <td>21</td>\n",
              "      <td>Regular</td>\n",
              "    </tr>\n",
              "    <tr>\n",
              "      <th>4</th>\n",
              "      <td>562</td>\n",
              "      <td>72</td>\n",
              "      <td>6</td>\n",
              "      <td>2012-10-01 00:00:00.000</td>\n",
              "      <td>650</td>\n",
              "      <td>110</td>\n",
              "      <td>Major Market</td>\n",
              "      <td>West</td>\n",
              "      <td>23</td>\n",
              "      <td>1</td>\n",
              "      <td>...</td>\n",
              "      <td>Green Tea</td>\n",
              "      <td>56</td>\n",
              "      <td>182</td>\n",
              "      <td>California</td>\n",
              "      <td>20</td>\n",
              "      <td>60</td>\n",
              "      <td>50</td>\n",
              "      <td>80</td>\n",
              "      <td>54</td>\n",
              "      <td>Regular</td>\n",
              "    </tr>\n",
              "    <tr>\n",
              "      <th>...</th>\n",
              "      <td>...</td>\n",
              "      <td>...</td>\n",
              "      <td>...</td>\n",
              "      <td>...</td>\n",
              "      <td>...</td>\n",
              "      <td>...</td>\n",
              "      <td>...</td>\n",
              "      <td>...</td>\n",
              "      <td>...</td>\n",
              "      <td>...</td>\n",
              "      <td>...</td>\n",
              "      <td>...</td>\n",
              "      <td>...</td>\n",
              "      <td>...</td>\n",
              "      <td>...</td>\n",
              "      <td>...</td>\n",
              "      <td>...</td>\n",
              "      <td>...</td>\n",
              "      <td>...</td>\n",
              "      <td>...</td>\n",
              "      <td>...</td>\n",
              "    </tr>\n",
              "    <tr>\n",
              "      <th>1057</th>\n",
              "      <td>775</td>\n",
              "      <td>250</td>\n",
              "      <td>133</td>\n",
              "      <td>2013-12-01 00:00:00.000</td>\n",
              "      <td>1820</td>\n",
              "      <td>251</td>\n",
              "      <td>Small Market</td>\n",
              "      <td>West</td>\n",
              "      <td>70</td>\n",
              "      <td>1</td>\n",
              "      <td>...</td>\n",
              "      <td>Earl Grey</td>\n",
              "      <td>233</td>\n",
              "      <td>534</td>\n",
              "      <td>Nevada</td>\n",
              "      <td>180</td>\n",
              "      <td>180</td>\n",
              "      <td>100</td>\n",
              "      <td>360</td>\n",
              "      <td>94</td>\n",
              "      <td>Regular</td>\n",
              "    </tr>\n",
              "    <tr>\n",
              "      <th>1058</th>\n",
              "      <td>971</td>\n",
              "      <td>88</td>\n",
              "      <td>48</td>\n",
              "      <td>2013-12-01 00:00:00.000</td>\n",
              "      <td>817</td>\n",
              "      <td>133</td>\n",
              "      <td>Small Market</td>\n",
              "      <td>West</td>\n",
              "      <td>29</td>\n",
              "      <td>1</td>\n",
              "      <td>...</td>\n",
              "      <td>Earl Grey</td>\n",
              "      <td>108</td>\n",
              "      <td>236</td>\n",
              "      <td>Oregon</td>\n",
              "      <td>60</td>\n",
              "      <td>100</td>\n",
              "      <td>60</td>\n",
              "      <td>160</td>\n",
              "      <td>60</td>\n",
              "      <td>Regular</td>\n",
              "    </tr>\n",
              "    <tr>\n",
              "      <th>1059</th>\n",
              "      <td>775</td>\n",
              "      <td>294</td>\n",
              "      <td>-285</td>\n",
              "      <td>2013-12-01 00:00:00.000</td>\n",
              "      <td>8252</td>\n",
              "      <td>-294</td>\n",
              "      <td>Small Market</td>\n",
              "      <td>West</td>\n",
              "      <td>111</td>\n",
              "      <td>1</td>\n",
              "      <td>...</td>\n",
              "      <td>Green Tea</td>\n",
              "      <td>-605</td>\n",
              "      <td>33</td>\n",
              "      <td>Nevada</td>\n",
              "      <td>210</td>\n",
              "      <td>-210</td>\n",
              "      <td>-320</td>\n",
              "      <td>0</td>\n",
              "      <td>145</td>\n",
              "      <td>Regular</td>\n",
              "    </tr>\n",
              "    <tr>\n",
              "      <th>1060</th>\n",
              "      <td>503</td>\n",
              "      <td>134</td>\n",
              "      <td>80</td>\n",
              "      <td>2013-12-01 00:00:00.000</td>\n",
              "      <td>690</td>\n",
              "      <td>186</td>\n",
              "      <td>Small Market</td>\n",
              "      <td>West</td>\n",
              "      <td>41</td>\n",
              "      <td>1</td>\n",
              "      <td>...</td>\n",
              "      <td>Green Tea</td>\n",
              "      <td>180</td>\n",
              "      <td>341</td>\n",
              "      <td>Oregon</td>\n",
              "      <td>90</td>\n",
              "      <td>140</td>\n",
              "      <td>100</td>\n",
              "      <td>230</td>\n",
              "      <td>65</td>\n",
              "      <td>Regular</td>\n",
              "    </tr>\n",
              "    <tr>\n",
              "      <th>1061</th>\n",
              "      <td>435</td>\n",
              "      <td>20</td>\n",
              "      <td>-22</td>\n",
              "      <td>2013-12-01 00:00:00.000</td>\n",
              "      <td>218</td>\n",
              "      <td>25</td>\n",
              "      <td>Small Market</td>\n",
              "      <td>West</td>\n",
              "      <td>7</td>\n",
              "      <td>1</td>\n",
              "      <td>...</td>\n",
              "      <td>Green Tea</td>\n",
              "      <td>-22</td>\n",
              "      <td>48</td>\n",
              "      <td>Utah</td>\n",
              "      <td>10</td>\n",
              "      <td>20</td>\n",
              "      <td>0</td>\n",
              "      <td>30</td>\n",
              "      <td>40</td>\n",
              "      <td>Regular</td>\n",
              "    </tr>\n",
              "  </tbody>\n",
              "</table>\n",
              "<p>1062 rows × 22 columns</p>\n",
              "</div>\n",
              "      <button class=\"colab-df-convert\" onclick=\"convertToInteractive('df-9b5781f7-137f-49c6-813f-ca2976447618')\"\n",
              "              title=\"Convert this dataframe to an interactive table.\"\n",
              "              style=\"display:none;\">\n",
              "        \n",
              "  <svg xmlns=\"http://www.w3.org/2000/svg\" height=\"24px\"viewBox=\"0 0 24 24\"\n",
              "       width=\"24px\">\n",
              "    <path d=\"M0 0h24v24H0V0z\" fill=\"none\"/>\n",
              "    <path d=\"M18.56 5.44l.94 2.06.94-2.06 2.06-.94-2.06-.94-.94-2.06-.94 2.06-2.06.94zm-11 1L8.5 8.5l.94-2.06 2.06-.94-2.06-.94L8.5 2.5l-.94 2.06-2.06.94zm10 10l.94 2.06.94-2.06 2.06-.94-2.06-.94-.94-2.06-.94 2.06-2.06.94z\"/><path d=\"M17.41 7.96l-1.37-1.37c-.4-.4-.92-.59-1.43-.59-.52 0-1.04.2-1.43.59L10.3 9.45l-7.72 7.72c-.78.78-.78 2.05 0 2.83L4 21.41c.39.39.9.59 1.41.59.51 0 1.02-.2 1.41-.59l7.78-7.78 2.81-2.81c.8-.78.8-2.07 0-2.86zM5.41 20L4 18.59l7.72-7.72 1.47 1.35L5.41 20z\"/>\n",
              "  </svg>\n",
              "      </button>\n",
              "      \n",
              "  <style>\n",
              "    .colab-df-container {\n",
              "      display:flex;\n",
              "      flex-wrap:wrap;\n",
              "      gap: 12px;\n",
              "    }\n",
              "\n",
              "    .colab-df-convert {\n",
              "      background-color: #E8F0FE;\n",
              "      border: none;\n",
              "      border-radius: 50%;\n",
              "      cursor: pointer;\n",
              "      display: none;\n",
              "      fill: #1967D2;\n",
              "      height: 32px;\n",
              "      padding: 0 0 0 0;\n",
              "      width: 32px;\n",
              "    }\n",
              "\n",
              "    .colab-df-convert:hover {\n",
              "      background-color: #E2EBFA;\n",
              "      box-shadow: 0px 1px 2px rgba(60, 64, 67, 0.3), 0px 1px 3px 1px rgba(60, 64, 67, 0.15);\n",
              "      fill: #174EA6;\n",
              "    }\n",
              "\n",
              "    [theme=dark] .colab-df-convert {\n",
              "      background-color: #3B4455;\n",
              "      fill: #D2E3FC;\n",
              "    }\n",
              "\n",
              "    [theme=dark] .colab-df-convert:hover {\n",
              "      background-color: #434B5C;\n",
              "      box-shadow: 0px 1px 3px 1px rgba(0, 0, 0, 0.15);\n",
              "      filter: drop-shadow(0px 1px 2px rgba(0, 0, 0, 0.3));\n",
              "      fill: #FFFFFF;\n",
              "    }\n",
              "  </style>\n",
              "\n",
              "      <script>\n",
              "        const buttonEl =\n",
              "          document.querySelector('#df-9b5781f7-137f-49c6-813f-ca2976447618 button.colab-df-convert');\n",
              "        buttonEl.style.display =\n",
              "          google.colab.kernel.accessAllowed ? 'block' : 'none';\n",
              "\n",
              "        async function convertToInteractive(key) {\n",
              "          const element = document.querySelector('#df-9b5781f7-137f-49c6-813f-ca2976447618');\n",
              "          const dataTable =\n",
              "            await google.colab.kernel.invokeFunction('convertToInteractive',\n",
              "                                                     [key], {});\n",
              "          if (!dataTable) return;\n",
              "\n",
              "          const docLinkHtml = 'Like what you see? Visit the ' +\n",
              "            '<a target=\"_blank\" href=https://colab.research.google.com/notebooks/data_table.ipynb>data table notebook</a>'\n",
              "            + ' to learn more about interactive tables.';\n",
              "          element.innerHTML = '';\n",
              "          dataTable['output_type'] = 'display_data';\n",
              "          await google.colab.output.renderOutput(dataTable, element);\n",
              "          const docLink = document.createElement('div');\n",
              "          docLink.innerHTML = docLinkHtml;\n",
              "          element.appendChild(docLink);\n",
              "        }\n",
              "      </script>\n",
              "    </div>\n",
              "  </div>\n",
              "  "
            ]
          },
          "metadata": {},
          "execution_count": 6
        }
      ]
    },
    {
      "cell_type": "code",
      "source": [
        "data.dtypes "
      ],
      "metadata": {
        "colab": {
          "base_uri": "https://localhost:8080/"
        },
        "id": "GluEUL_2b1RI",
        "outputId": "70b30378-5d86-496a-82f5-19f041378430"
      },
      "execution_count": 7,
      "outputs": [
        {
          "output_type": "execute_result",
          "data": {
            "text/plain": [
              "Area Code                                       int64\n",
              "Cogs                                            int64\n",
              "Difference Between Actual and Target Profit     int64\n",
              "Date                                           object\n",
              "Inventory                                       int64\n",
              "Margin                                          int64\n",
              "Market Size                                    object\n",
              "Market                                         object\n",
              "Marketing                                       int64\n",
              "记录数                                             int64\n",
              "Product Line                                   object\n",
              "Product Type                                   object\n",
              "Product                                        object\n",
              "Profit                                          int64\n",
              "Sales                                           int64\n",
              "State                                          object\n",
              "Target COGS                                     int64\n",
              "Target Margin                                   int64\n",
              "Target Profit                                   int64\n",
              "Target Sales                                    int64\n",
              "Total Expenses                                  int64\n",
              "Type                                           object\n",
              "dtype: object"
            ]
          },
          "metadata": {},
          "execution_count": 7
        }
      ]
    },
    {
      "cell_type": "code",
      "source": [
        "data.info"
      ],
      "metadata": {
        "colab": {
          "base_uri": "https://localhost:8080/"
        },
        "id": "44Xmzg3we5u5",
        "outputId": "39e2a6b7-6da3-4148-f5ee-7c0860c1805a"
      },
      "execution_count": 8,
      "outputs": [
        {
          "output_type": "execute_result",
          "data": {
            "text/plain": [
              "<bound method DataFrame.info of       Area Code  Cogs  Difference Between Actual and Target Profit  \\\n",
              "0           303    51                                          -35   \n",
              "1           970    52                                          -24   \n",
              "2           409    43                                          -22   \n",
              "3           850    38                                          -15   \n",
              "4           562    72                                            6   \n",
              "...         ...   ...                                          ...   \n",
              "1057        775   250                                          133   \n",
              "1058        971    88                                           48   \n",
              "1059        775   294                                         -285   \n",
              "1060        503   134                                           80   \n",
              "1061        435    20                                          -22   \n",
              "\n",
              "                         Date  Inventory  Margin   Market Size   Market  \\\n",
              "0     2012-10-01 00:00:00.000        503      71  Major Market  Central   \n",
              "1     2012-10-01 00:00:00.000        405      71  Major Market  Central   \n",
              "2     2012-10-01 00:00:00.000        419      64  Major Market    South   \n",
              "3     2012-10-01 00:00:00.000        871      56  Major Market     East   \n",
              "4     2012-10-01 00:00:00.000        650     110  Major Market     West   \n",
              "...                       ...        ...     ...           ...      ...   \n",
              "1057  2013-12-01 00:00:00.000       1820     251  Small Market     West   \n",
              "1058  2013-12-01 00:00:00.000        817     133  Small Market     West   \n",
              "1059  2013-12-01 00:00:00.000       8252    -294  Small Market     West   \n",
              "1060  2013-12-01 00:00:00.000        690     186  Small Market     West   \n",
              "1061  2013-12-01 00:00:00.000        218      25  Small Market     West   \n",
              "\n",
              "      Marketing  记录数  ...     Product Profit Sales       State  Target COGS  \\\n",
              "0            46    1  ...       Lemon     -5   122    Colorado           30   \n",
              "1            17    1  ...        Mint     26   123    Colorado           30   \n",
              "2            13    1  ...       Lemon     28   107       Texas           30   \n",
              "3            10    1  ...  Darjeeling     35    94     Florida           40   \n",
              "4            23    1  ...   Green Tea     56   182  California           20   \n",
              "...         ...  ...  ...         ...    ...   ...         ...          ...   \n",
              "1057         70    1  ...   Earl Grey    233   534      Nevada          180   \n",
              "1058         29    1  ...   Earl Grey    108   236      Oregon           60   \n",
              "1059        111    1  ...   Green Tea   -605    33      Nevada          210   \n",
              "1060         41    1  ...   Green Tea    180   341      Oregon           90   \n",
              "1061          7    1  ...   Green Tea    -22    48        Utah           10   \n",
              "\n",
              "     Target Margin  Target Profit  Target Sales  Total Expenses     Type  \n",
              "0               60             30            90              76    Decaf  \n",
              "1               60             50            90              45    Decaf  \n",
              "2               60             50            90              36    Decaf  \n",
              "3               60             50           100              21  Regular  \n",
              "4               60             50            80              54  Regular  \n",
              "...            ...            ...           ...             ...      ...  \n",
              "1057           180            100           360              94  Regular  \n",
              "1058           100             60           160              60  Regular  \n",
              "1059          -210           -320             0             145  Regular  \n",
              "1060           140            100           230              65  Regular  \n",
              "1061            20              0            30              40  Regular  \n",
              "\n",
              "[1062 rows x 22 columns]>"
            ]
          },
          "metadata": {},
          "execution_count": 8
        }
      ]
    },
    {
      "cell_type": "code",
      "source": [
        "data['Product Line'].value_counts()"
      ],
      "metadata": {
        "colab": {
          "base_uri": "https://localhost:8080/"
        },
        "id": "jz-T3XBsmogQ",
        "outputId": "7fece42e-23d0-4da9-dff2-c053897b5933"
      },
      "execution_count": 9,
      "outputs": [
        {
          "output_type": "execute_result",
          "data": {
            "text/plain": [
              "Beans     558\n",
              "Leaves    504\n",
              "Name: Product Line, dtype: int64"
            ]
          },
          "metadata": {},
          "execution_count": 9
        }
      ]
    },
    {
      "cell_type": "code",
      "source": [
        "data['State'].value_counts()"
      ],
      "metadata": {
        "colab": {
          "base_uri": "https://localhost:8080/"
        },
        "id": "oV30TBAxe-PB",
        "outputId": "653082b2-e877-4227-cd72-87be94181366"
      },
      "execution_count": 10,
      "outputs": [
        {
          "output_type": "execute_result",
          "data": {
            "text/plain": [
              "California       72\n",
              "Utah             72\n",
              "Colorado         66\n",
              "Nevada           66\n",
              "Oregon           66\n",
              "Washington       60\n",
              "Missouri         54\n",
              "Florida          54\n",
              "Iowa             54\n",
              "Ohio             54\n",
              "Illinois         54\n",
              "Wisconsin        54\n",
              "New York         48\n",
              "Texas            42\n",
              "New Hampshire    42\n",
              "Oklahoma         42\n",
              "New Mexico       42\n",
              "Connecticut      42\n",
              "Louisiana        42\n",
              "Massachusetts    36\n",
              "Name: State, dtype: int64"
            ]
          },
          "metadata": {},
          "execution_count": 10
        }
      ]
    },
    {
      "cell_type": "code",
      "source": [
        "data['Date'] = pd.to_datetime(data['Date'])  #change Date\n",
        "data.Date.dtype"
      ],
      "metadata": {
        "colab": {
          "base_uri": "https://localhost:8080/"
        },
        "id": "tE7gTq3Fgvue",
        "outputId": "2b3d1219-cd8a-4de9-8e3d-bacf59cb9e60"
      },
      "execution_count": 12,
      "outputs": [
        {
          "output_type": "execute_result",
          "data": {
            "text/plain": [
              "dtype('<M8[ns]')"
            ]
          },
          "metadata": {},
          "execution_count": 12
        }
      ]
    },
    {
      "cell_type": "code",
      "source": [
        "data.groupby('State')['Sales'].sum()"
      ],
      "metadata": {
        "colab": {
          "base_uri": "https://localhost:8080/"
        },
        "id": "19ioy6LBhEto",
        "outputId": "5c5b90c6-9aea-4cb0-9f93-957085c3feb2"
      },
      "execution_count": 11,
      "outputs": [
        {
          "output_type": "execute_result",
          "data": {
            "text/plain": [
              "State\n",
              "California       23032\n",
              "Colorado         12112\n",
              "Connecticut       6670\n",
              "Florida           8825\n",
              "Illinois         16812\n",
              "Iowa             13359\n",
              "Louisiana         6193\n",
              "Massachusetts     7339\n",
              "Missouri          6072\n",
              "Nevada           14822\n",
              "New Hampshire     3543\n",
              "New Mexico        3805\n",
              "New York         17731\n",
              "Ohio              8787\n",
              "Oklahoma          7298\n",
              "Oregon           10661\n",
              "Texas             9092\n",
              "Utah              9159\n",
              "Washington        9744\n",
              "Wisconsin         7839\n",
              "Name: Sales, dtype: int64"
            ]
          },
          "metadata": {},
          "execution_count": 11
        }
      ]
    },
    {
      "cell_type": "code",
      "source": [
        "plt.figure(figsize=(25,12))\n",
        "sns.barplot(x='State',y='Sales',data=data).set(title='Total Sales per State ')"
      ],
      "metadata": {
        "colab": {
          "base_uri": "https://localhost:8080/",
          "height": 722
        },
        "id": "YIvhgO78i5mA",
        "outputId": "4e823df7-ffda-4dd1-ff6a-52535d103014"
      },
      "execution_count": 13,
      "outputs": [
        {
          "output_type": "execute_result",
          "data": {
            "text/plain": [
              "[Text(0.5, 1.0, 'Total Sales per State ')]"
            ]
          },
          "metadata": {},
          "execution_count": 13
        },
        {
          "output_type": "display_data",
          "data": {
            "text/plain": [
              "<Figure size 1800x864 with 1 Axes>"
            ],
            "image/png": "[encoded data removed]"
          },
          "metadata": {
            "needs_background": "light"
          }
        }
      ]
    },
    {
      "cell_type": "code",
      "source": [
        "plt.figure(figsize=(25,12))\n",
        "sns.barplot(x='State', y='Sales', hue='Product Line', data=data).set(title='State Performance by Product Line')"
      ],
      "metadata": {
        "colab": {
          "base_uri": "https://localhost:8080/",
          "height": 722
        },
        "id": "IQpy4osjm9xi",
        "outputId": "6a450cd2-4fc1-4b22-c2b9-e55ddb90a02b"
      },
      "execution_count": 14,
      "outputs": [
        {
          "output_type": "execute_result",
          "data": {
            "text/plain": [
              "[Text(0.5, 1.0, 'State Performance by Product Line')]"
            ]
          },
          "metadata": {},
          "execution_count": 14
        },
        {
          "output_type": "display_data",
          "data": {
            "text/plain": [
              "<Figure size 1800x864 with 1 Axes>"
            ],
            "image/png": "[encoded data removed]"
          },
          "metadata": {
            "needs_background": "light"
          }
        }
      ]
    },
    {
      "cell_type": "code",
      "source": [
        "data.groupby('Product Line')['Sales'].mean()"
      ],
      "metadata": {
        "colab": {
          "base_uri": "https://localhost:8080/"
        },
        "id": "1DoxF827nIil",
        "outputId": "24c4c3e8-4d1b-4006-fd7e-f0ea8c5a2d8b"
      },
      "execution_count": 15,
      "outputs": [
        {
          "output_type": "execute_result",
          "data": {
            "text/plain": [
              "Product Line\n",
              "Beans     194.240143\n",
              "Leaves    187.517857\n",
              "Name: Sales, dtype: float64"
            ]
          },
          "metadata": {},
          "execution_count": 15
        }
      ]
    },
    {
      "cell_type": "code",
      "source": [
        "plt.figure(figsize=(25,12))\n",
        "sns.barplot(x='State', y='Sales', hue='Product Type', data=data).set(title='State Performance by Product Type')"
      ],
      "metadata": {
        "colab": {
          "base_uri": "https://localhost:8080/",
          "height": 722
        },
        "id": "SN6_D3TYpars",
        "outputId": "e240a2af-08c6-4a7b-bdd5-bfd5cf3e8061"
      },
      "execution_count": 16,
      "outputs": [
        {
          "output_type": "execute_result",
          "data": {
            "text/plain": [
              "[Text(0.5, 1.0, 'State Performance by Product Type')]"
            ]
          },
          "metadata": {},
          "execution_count": 16
        },
        {
          "output_type": "display_data",
          "data": {
            "text/plain": [
              "<Figure size 1800x864 with 1 Axes>"
            ],
            "image/png": "[encoded data removed]"
          },
          "metadata": {
            "needs_background": "light"
          }
        }
      ]
    },
    {
      "cell_type": "code",
      "source": [
        "data.groupby('Product Type')['Sales'].mean()"
      ],
      "metadata": {
        "colab": {
          "base_uri": "https://localhost:8080/"
        },
        "id": "bDNqKRbbpJo1",
        "outputId": "55c35467-e3f3-473b-81ca-8f2c80c1207f"
      },
      "execution_count": 17,
      "outputs": [
        {
          "output_type": "execute_result",
          "data": {
            "text/plain": [
              "Product Type\n",
              "Coffee        198.382576\n",
              "Espresso      190.520408\n",
              "Herbal Tea    195.776515\n",
              "Tea           178.433333\n",
              "Name: Sales, dtype: float64"
            ]
          },
          "metadata": {},
          "execution_count": 17
        }
      ]
    },
    {
      "cell_type": "code",
      "source": [
        "plt.figure(figsize=(25,12))\n",
        "sns.barplot(x='State', y='Sales', hue='Product', data=data).set(title='State Performance by Product')"
      ],
      "metadata": {
        "colab": {
          "base_uri": "https://localhost:8080/",
          "height": 722
        },
        "id": "iedyi9nHpzuT",
        "outputId": "204a0c1b-cc48-40fb-95b7-93e2b63675d2"
      },
      "execution_count": 18,
      "outputs": [
        {
          "output_type": "execute_result",
          "data": {
            "text/plain": [
              "[Text(0.5, 1.0, 'State Performance by Product')]"
            ]
          },
          "metadata": {},
          "execution_count": 18
        },
        {
          "output_type": "display_data",
          "data": {
            "text/plain": [
              "<Figure size 1800x864 with 1 Axes>"
            ],
            "image/png": "[encoded data removed]"
          },
          "metadata": {
            "needs_background": "light"
          }
        }
      ]
    },
    {
      "cell_type": "code",
      "source": [
        "data.groupby('Product')['Sales'].mean()"
      ],
      "metadata": {
        "colab": {
          "base_uri": "https://localhost:8080/"
        },
        "id": "8LZy3o6_qBEc",
        "outputId": "341f47d8-5f96-4b78-f63d-a89d2b6e9989"
      },
      "execution_count": 19,
      "outputs": [
        {
          "output_type": "execute_result",
          "data": {
            "text/plain": [
              "Product\n",
              "Amaretto             141.270833\n",
              "Caffe Latte          160.462963\n",
              "Caffe Mocha          180.966667\n",
              "Chamomile            200.989583\n",
              "Colombian            256.341667\n",
              "Darjeeling           184.979167\n",
              "Decaf Espresso       185.176471\n",
              "Decaf Irish Cream    154.489583\n",
              "Earl Grey            229.805556\n",
              "Green Tea            118.333333\n",
              "Lemon                200.400000\n",
              "Mint                 173.791667\n",
              "Regular Espresso     374.666667\n",
              "Name: Sales, dtype: float64"
            ]
          },
          "metadata": {},
          "execution_count": 19
        }
      ]
    },
    {
      "cell_type": "code",
      "source": [
        "plt.figure(figsize=(25,12))\n",
        "sns.barplot(x='Product', y='Sales', hue='Market Size', data=data).set(title='Total Sales Product per Market Size')"
      ],
      "metadata": {
        "colab": {
          "base_uri": "https://localhost:8080/",
          "height": 722
        },
        "id": "i21Loc93qTA1",
        "outputId": "8097cfc6-92b1-4ad0-d6f9-e3fb6e881cab"
      },
      "execution_count": 20,
      "outputs": [
        {
          "output_type": "execute_result",
          "data": {
            "text/plain": [
              "[Text(0.5, 1.0, 'Total Sales Product per Market Size')]"
            ]
          },
          "metadata": {},
          "execution_count": 20
        },
        {
          "output_type": "display_data",
          "data": {
            "text/plain": [
              "<Figure size 1800x864 with 1 Axes>"
            ],
            "image/png": "[encoded data removed]"
          },
          "metadata": {
            "needs_background": "light"
          }
        }
      ]
    },
    {
      "cell_type": "code",
      "source": [
        ""
      ],
      "metadata": {
        "id": "G2h_NwG7d8FS"
      },
      "execution_count": null,
      "outputs": []
    },
    {
      "cell_type": "code",
      "source": [
        ""
      ],
      "metadata": {
        "id": "2gV7Z3UogbPt"
      },
      "execution_count": null,
      "outputs": []
    }
  ]
}