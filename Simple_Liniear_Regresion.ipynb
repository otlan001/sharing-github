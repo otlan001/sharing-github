{
  "nbformat": 4,
  "nbformat_minor": 0,
  "metadata": {
    "colab": {
      "name": "Simple Liniear Regresion.ipynb",
      "provenance": [],
      "collapsed_sections": []
    },
    "kernelspec": {
      "name": "python3",
      "display_name": "Python 3"
    },
    "language_info": {
      "name": "python"
    }
  },
  "cells": [
    {
      "cell_type": "code",
      "execution_count": 59,
      "metadata": {
        "id": "lfXIxvVApiZL"
      },
      "outputs": [],
      "source": [
        "import numpy as np\n",
        "import pandas as pd\n",
        "import matplotlib.pyplot as plt\n",
        "import plotly.express as px\n",
        "import math\n",
        "import plotly.graph_objects as go\n",
        "from sklearn.metrics import mean_squared_error\n"
      ]
    },
    {
      "cell_type": "code",
      "source": [
        "data=pd.read_csv('https://query.data.world/s/rxrinidylmazqffztdb2esgvpxaqgh',delimiter='\\t')  #import data"
      ],
      "metadata": {
        "id": "GCFj6ilqpwD1"
      },
      "execution_count": 4,
      "outputs": []
    },
    {
      "cell_type": "code",
      "source": [
        "data.to_csv('https://query.data.world/s/rxrinidylmazqffztdb2esgvpxaqgh')  #change format file txt to csv"
      ],
      "metadata": {
        "id": "ZouBHuMLp_5A"
      },
      "execution_count": 5,
      "outputs": []
    },
    {
      "cell_type": "markdown",
      "source": [
        "Simple Linear Regression\n",
        "\n",
        "Data just example. I select random data for my learning.\n",
        "In this case, I use data sales with column Sales and Profit\n",
        "\n"
      ],
      "metadata": {
        "id": "HFvAzDmguceV"
      }
    },
    {
      "cell_type": "code",
      "source": [
        "data[['Sales','Profit']].head(10)"
      ],
      "metadata": {
        "colab": {
          "base_uri": "https://localhost:8080/",
          "height": 363
        },
        "id": "-ctqCU1rs0UI",
        "outputId": "ebb6d463-ad94-4537-9fe0-dbfe053d5850"
      },
      "execution_count": 12,
      "outputs": [
        {
          "output_type": "execute_result",
          "data": {
            "text/plain": [
              "   Sales  Profit\n",
              "0    122      -5\n",
              "1    123      26\n",
              "2    107      28\n",
              "3     94      35\n",
              "4    182      56\n",
              "5     43      31\n",
              "6    111      21\n",
              "7     66      21\n",
              "8     68       7\n",
              "9     99      37"
            ],
            "text/html": [
              "\n",
              "  <div id=\"df-0c45aa05-88a5-4fe8-a1cc-525800d1ff39\">\n",
              "    <div class=\"colab-df-container\">\n",
              "      <div>\n",
              "<style scoped>\n",
              "    .dataframe tbody tr th:only-of-type {\n",
              "        vertical-align: middle;\n",
              "    }\n",
              "\n",
              "    .dataframe tbody tr th {\n",
              "        vertical-align: top;\n",
              "    }\n",
              "\n",
              "    .dataframe thead th {\n",
              "        text-align: right;\n",
              "    }\n",
              "</style>\n",
              "<table border=\"1\" class=\"dataframe\">\n",
              "  <thead>\n",
              "    <tr style=\"text-align: right;\">\n",
              "      <th></th>\n",
              "      <th>Sales</th>\n",
              "      <th>Profit</th>\n",
              "    </tr>\n",
              "  </thead>\n",
              "  <tbody>\n",
              "    <tr>\n",
              "      <th>0</th>\n",
              "      <td>122</td>\n",
              "      <td>-5</td>\n",
              "    </tr>\n",
              "    <tr>\n",
              "      <th>1</th>\n",
              "      <td>123</td>\n",
              "      <td>26</td>\n",
              "    </tr>\n",
              "    <tr>\n",
              "      <th>2</th>\n",
              "      <td>107</td>\n",
              "      <td>28</td>\n",
              "    </tr>\n",
              "    <tr>\n",
              "      <th>3</th>\n",
              "      <td>94</td>\n",
              "      <td>35</td>\n",
              "    </tr>\n",
              "    <tr>\n",
              "      <th>4</th>\n",
              "      <td>182</td>\n",
              "      <td>56</td>\n",
              "    </tr>\n",
              "    <tr>\n",
              "      <th>5</th>\n",
              "      <td>43</td>\n",
              "      <td>31</td>\n",
              "    </tr>\n",
              "    <tr>\n",
              "      <th>6</th>\n",
              "      <td>111</td>\n",
              "      <td>21</td>\n",
              "    </tr>\n",
              "    <tr>\n",
              "      <th>7</th>\n",
              "      <td>66</td>\n",
              "      <td>21</td>\n",
              "    </tr>\n",
              "    <tr>\n",
              "      <th>8</th>\n",
              "      <td>68</td>\n",
              "      <td>7</td>\n",
              "    </tr>\n",
              "    <tr>\n",
              "      <th>9</th>\n",
              "      <td>99</td>\n",
              "      <td>37</td>\n",
              "    </tr>\n",
              "  </tbody>\n",
              "</table>\n",
              "</div>\n",
              "      <button class=\"colab-df-convert\" onclick=\"convertToInteractive('df-0c45aa05-88a5-4fe8-a1cc-525800d1ff39')\"\n",
              "              title=\"Convert this dataframe to an interactive table.\"\n",
              "              style=\"display:none;\">\n",
              "        \n",
              "  <svg xmlns=\"http://www.w3.org/2000/svg\" height=\"24px\"viewBox=\"0 0 24 24\"\n",
              "       width=\"24px\">\n",
              "    <path d=\"M0 0h24v24H0V0z\" fill=\"none\"/>\n",
              "    <path d=\"M18.56 5.44l.94 2.06.94-2.06 2.06-.94-2.06-.94-.94-2.06-.94 2.06-2.06.94zm-11 1L8.5 8.5l.94-2.06 2.06-.94-2.06-.94L8.5 2.5l-.94 2.06-2.06.94zm10 10l.94 2.06.94-2.06 2.06-.94-2.06-.94-.94-2.06-.94 2.06-2.06.94z\"/><path d=\"M17.41 7.96l-1.37-1.37c-.4-.4-.92-.59-1.43-.59-.52 0-1.04.2-1.43.59L10.3 9.45l-7.72 7.72c-.78.78-.78 2.05 0 2.83L4 21.41c.39.39.9.59 1.41.59.51 0 1.02-.2 1.41-.59l7.78-7.78 2.81-2.81c.8-.78.8-2.07 0-2.86zM5.41 20L4 18.59l7.72-7.72 1.47 1.35L5.41 20z\"/>\n",
              "  </svg>\n",
              "      </button>\n",
              "      \n",
              "  <style>\n",
              "    .colab-df-container {\n",
              "      display:flex;\n",
              "      flex-wrap:wrap;\n",
              "      gap: 12px;\n",
              "    }\n",
              "\n",
              "    .colab-df-convert {\n",
              "      background-color: #E8F0FE;\n",
              "      border: none;\n",
              "      border-radius: 50%;\n",
              "      cursor: pointer;\n",
              "      display: none;\n",
              "      fill: #1967D2;\n",
              "      height: 32px;\n",
              "      padding: 0 0 0 0;\n",
              "      width: 32px;\n",
              "    }\n",
              "\n",
              "    .colab-df-convert:hover {\n",
              "      background-color: #E2EBFA;\n",
              "      box-shadow: 0px 1px 2px rgba(60, 64, 67, 0.3), 0px 1px 3px 1px rgba(60, 64, 67, 0.15);\n",
              "      fill: #174EA6;\n",
              "    }\n",
              "\n",
              "    [theme=dark] .colab-df-convert {\n",
              "      background-color: #3B4455;\n",
              "      fill: #D2E3FC;\n",
              "    }\n",
              "\n",
              "    [theme=dark] .colab-df-convert:hover {\n",
              "      background-color: #434B5C;\n",
              "      box-shadow: 0px 1px 3px 1px rgba(0, 0, 0, 0.15);\n",
              "      filter: drop-shadow(0px 1px 2px rgba(0, 0, 0, 0.3));\n",
              "      fill: #FFFFFF;\n",
              "    }\n",
              "  </style>\n",
              "\n",
              "      <script>\n",
              "        const buttonEl =\n",
              "          document.querySelector('#df-0c45aa05-88a5-4fe8-a1cc-525800d1ff39 button.colab-df-convert');\n",
              "        buttonEl.style.display =\n",
              "          google.colab.kernel.accessAllowed ? 'block' : 'none';\n",
              "\n",
              "        async function convertToInteractive(key) {\n",
              "          const element = document.querySelector('#df-0c45aa05-88a5-4fe8-a1cc-525800d1ff39');\n",
              "          const dataTable =\n",
              "            await google.colab.kernel.invokeFunction('convertToInteractive',\n",
              "                                                     [key], {});\n",
              "          if (!dataTable) return;\n",
              "\n",
              "          const docLinkHtml = 'Like what you see? Visit the ' +\n",
              "            '<a target=\"_blank\" href=https://colab.research.google.com/notebooks/data_table.ipynb>data table notebook</a>'\n",
              "            + ' to learn more about interactive tables.';\n",
              "          element.innerHTML = '';\n",
              "          dataTable['output_type'] = 'display_data';\n",
              "          await google.colab.output.renderOutput(dataTable, element);\n",
              "          const docLink = document.createElement('div');\n",
              "          docLink.innerHTML = docLinkHtml;\n",
              "          element.appendChild(docLink);\n",
              "        }\n",
              "      </script>\n",
              "    </div>\n",
              "  </div>\n",
              "  "
            ]
          },
          "metadata": {},
          "execution_count": 12
        }
      ]
    },
    {
      "cell_type": "code",
      "source": [
        "fig = px.box(data['Sales'], points = 'all')\n",
        "fig.update_layout(title = f'Distribution of Sales',title_x=0.5, yaxis_title= \"Number of Sales\")\n",
        "fig.show()\n"
      ],
      "metadata": {
        "colab": {
          "base_uri": "https://localhost:8080/",
          "height": 542
        },
        "id": "5MKtgx3PveqM",
        "outputId": "2d436c2c-ea82-4a51-bed4-c142cea37807"
      },
      "execution_count": 19,
      "outputs": [
        {
          "output_type": "display_data",
          "data": {
            "text/html": [
              "<html>\n",
              "<head><meta charset=\"utf-8\" /></head>\n",
              "<body>\n",
              "    <div>            <script src=\"https://cdnjs.cloudflare.com/ajax/libs/mathjax/2.7.5/MathJax.js?config=TeX-AMS-MML_SVG\"></script><script type=\"text/javascript\">if (window.MathJax) {MathJax.Hub.Config({SVG: {font: \"STIX-Web\"}});}</script>                <script type=\"text/javascript\">window.PlotlyConfig = {MathJaxConfig: 'local'};</script>\n",
              "        <script src=\"https://cdn.plot.ly/plotly-2.8.3.min.js\"></script>                <div id=\"92c6f2e0-640f-4acb-af44-ab82a53c0f64\" class=\"plotly-graph-div\" style=\"height:525px; width:100%;\"></div>            <script type=\"text/javascript\">                                    window.PLOTLYENV=window.PLOTLYENV || {};                                    if (document.getElementById(\"92c6f2e0-640f-4acb-af44-ab82a53c0f64\")) {                    Plotly.newPlot(                        \"92c6f2e0-640f-4acb-af44-ab82a53c0f64\",                        [{\"alignmentgroup\":\"True\",\"boxpoints\":\"all\",\"hovertemplate\":\"variable=%{x}<br>value=%{y}<extra></extra>\",\"legendgroup\":\"\",\"marker\":{\"color\":\"#636efa\"},\"name\":\"\",\"notched\":false,\"offsetgroup\":\"\",\"orientation\":\"v\",\"showlegend\":false,\"x\":[\"Sales\",\"Sales\",\"Sales\",\"Sales\",\"Sales\",\"Sales\",\"Sales\",\"Sales\",\"Sales\",\"Sales\",\"Sales\",\"Sales\",\"Sales\",\"Sales\",\"Sales\",\"Sales\",\"Sales\",\"Sales\",\"Sales\",\"Sales\",\"Sales\",\"Sales\",\"Sales\",\"Sales\",\"Sales\",\"Sales\",\"Sales\",\"Sales\",\"Sales\",\"Sales\",\"Sales\",\"Sales\",\"Sales\",\"Sales\",\"Sales\",\"Sales\",\"Sales\",\"Sales\",\"Sales\",\"Sales\",\"Sales\",\"Sales\",\"Sales\",\"Sales\",\"Sales\",\"Sales\",\"Sales\",\"Sales\",\"Sales\",\"Sales\",\"Sales\",\"Sales\",\"Sales\",\"Sales\",\"Sales\",\"Sales\",\"Sales\",\"Sales\",\"Sales\",\"Sales\",\"Sales\",\"Sales\",\"Sales\",\"Sales\",\"Sales\",\"Sales\",\"Sales\",\"Sales\",\"Sales\",\"Sales\",\"Sales\",\"Sales\",\"Sales\",\"Sales\",\"Sales\",\"Sales\",\"Sales\",\"Sales\",\"Sales\",\"Sales\",\"Sales\",\"Sales\",\"Sales\",\"Sales\",\"Sales\",\"Sales\",\"Sales\",\"Sales\",\"Sales\",\"Sales\",\"Sales\",\"Sales\",\"Sales\",\"Sales\",\"Sales\",\"Sales\",\"Sales\",\"Sales\",\"Sales\",\"Sales\",\"Sales\",\"Sales\",\"Sales\",\"Sales\",\"Sales\",\"Sales\",\"Sales\",\"Sales\",\"Sales\",\"Sales\",\"Sales\",\"Sales\",\"Sales\",\"Sales\",\"Sales\",\"Sales\",\"Sales\",\"Sales\",\"Sales\",\"Sales\",\"Sales\",\"Sales\",\"Sales\",\"Sales\",\"Sales\",\"Sales\",\"Sales\",\"Sales\",\"Sales\",\"Sales\",\"Sales\",\"Sales\",\"Sales\",\"Sales\",\"Sales\",\"Sales\",\"Sales\",\"Sales\",\"Sales\",\"Sales\",\"Sales\",\"Sales\",\"Sales\",\"Sales\",\"Sales\",\"Sales\",\"Sales\",\"Sales\",\"Sales\",\"Sales\",\"Sales\",\"Sales\",\"Sales\",\"Sales\",\"Sales\",\"Sales\",\"Sales\",\"Sales\",\"Sales\",\"Sales\",\"Sales\",\"Sales\",\"Sales\",\"Sales\",\"Sales\",\"Sales\",\"Sales\",\"Sales\",\"Sales\",\"Sales\",\"Sales\",\"Sales\",\"Sales\",\"Sales\",\"Sales\",\"Sales\",\"Sales\",\"Sales\",\"Sales\",\"Sales\",\"Sales\",\"Sales\",\"Sales\",\"Sales\",\"Sales\",\"Sales\",\"Sales\",\"Sales\",\"Sales\",\"Sales\",\"Sales\",\"Sales\",\"Sales\",\"Sales\",\"Sales\",\"Sales\",\"Sales\",\"Sales\",\"Sales\",\"Sales\",\"Sales\",\"Sales\",\"Sales\",\"Sales\",\"Sales\",\"Sales\",\"Sales\",\"Sales\",\"Sales\",\"Sales\",\"Sales\",\"Sales\",\"Sales\",\"Sales\",\"Sales\",\"Sales\",\"Sales\",\"Sales\",\"Sales\",\"Sales\",\"Sales\",\"Sales\",\"Sales\",\"Sales\",\"Sales\",\"Sales\",\"Sales\",\"Sales\",\"Sales\",\"Sales\",\"Sales\",\"Sales\",\"Sales\",\"Sales\",\"Sales\",\"Sales\",\"Sales\",\"Sales\",\"Sales\",\"Sales\",\"Sales\",\"Sales\",\"Sales\",\"Sales\",\"Sales\",\"Sales\",\"Sales\",\"Sales\",\"Sales\",\"Sales\",\"Sales\",\"Sales\",\"Sales\",\"Sales\",\"Sales\",\"Sales\",\"Sales\",\"Sales\",\"Sales\",\"Sales\",\"Sales\",\"Sales\",\"Sales\",\"Sales\",\"Sales\",\"Sales\",\"Sales\",\"Sales\",\"Sales\",\"Sales\",\"Sales\",\"Sales\",\"Sales\",\"Sales\",\"Sales\",\"Sales\",\"Sales\",\"Sales\",\"Sales\",\"Sales\",\"Sales\",\"Sales\",\"Sales\",\"Sales\",\"Sales\",\"Sales\",\"Sales\",\"Sales\",\"Sales\",\"Sales\",\"Sales\",\"Sales\",\"Sales\",\"Sales\",\"Sales\",\"Sales\",\"Sales\",\"Sales\",\"Sales\",\"Sales\",\"Sales\",\"Sales\",\"Sales\",\"Sales\",\"Sales\",\"Sales\",\"Sales\",\"Sales\",\"Sales\",\"Sales\",\"Sales\",\"Sales\",\"Sales\",\"Sales\",\"Sales\",\"Sales\",\"Sales\",\"Sales\",\"Sales\",\"Sales\",\"Sales\",\"Sales\",\"Sales\",\"Sales\",\"Sales\",\"Sales\",\"Sales\",\"Sales\",\"Sales\",\"Sales\",\"Sales\",\"Sales\",\"Sales\",\"Sales\",\"Sales\",\"Sales\",\"Sales\",\"Sales\",\"Sales\",\"Sales\",\"Sales\",\"Sales\",\"Sales\",\"Sales\",\"Sales\",\"Sales\",\"Sales\",\"Sales\",\"Sales\",\"Sales\",\"Sales\",\"Sales\",\"Sales\",\"Sales\",\"Sales\",\"Sales\",\"Sales\",\"Sales\",\"Sales\",\"Sales\",\"Sales\",\"Sales\",\"Sales\",\"Sales\",\"Sales\",\"Sales\",\"Sales\",\"Sales\",\"Sales\",\"Sales\",\"Sales\",\"Sales\",\"Sales\",\"Sales\",\"Sales\",\"Sales\",\"Sales\",\"Sales\",\"Sales\",\"Sales\",\"Sales\",\"Sales\",\"Sales\",\"Sales\",\"Sales\",\"Sales\",\"Sales\",\"Sales\",\"Sales\",\"Sales\",\"Sales\",\"Sales\",\"Sales\",\"Sales\",\"Sales\",\"Sales\",\"Sales\",\"Sales\",\"Sales\",\"Sales\",\"Sales\",\"Sales\",\"Sales\",\"Sales\",\"Sales\",\"Sales\",\"Sales\",\"Sales\",\"Sales\",\"Sales\",\"Sales\",\"Sales\",\"Sales\",\"Sales\",\"Sales\",\"Sales\",\"Sales\",\"Sales\",\"Sales\",\"Sales\",\"Sales\",\"Sales\",\"Sales\",\"Sales\",\"Sales\",\"Sales\",\"Sales\",\"Sales\",\"Sales\",\"Sales\",\"Sales\",\"Sales\",\"Sales\",\"Sales\",\"Sales\",\"Sales\",\"Sales\",\"Sales\",\"Sales\",\"Sales\",\"Sales\",\"Sales\",\"Sales\",\"Sales\",\"Sales\",\"Sales\",\"Sales\",\"Sales\",\"Sales\",\"Sales\",\"Sales\",\"Sales\",\"Sales\",\"Sales\",\"Sales\",\"Sales\",\"Sales\",\"Sales\",\"Sales\",\"Sales\",\"Sales\",\"Sales\",\"Sales\",\"Sales\",\"Sales\",\"Sales\",\"Sales\",\"Sales\",\"Sales\",\"Sales\",\"Sales\",\"Sales\",\"Sales\",\"Sales\",\"Sales\",\"Sales\",\"Sales\",\"Sales\",\"Sales\",\"Sales\",\"Sales\",\"Sales\",\"Sales\",\"Sales\",\"Sales\",\"Sales\",\"Sales\",\"Sales\",\"Sales\",\"Sales\",\"Sales\",\"Sales\",\"Sales\",\"Sales\",\"Sales\",\"Sales\",\"Sales\",\"Sales\",\"Sales\",\"Sales\",\"Sales\",\"Sales\",\"Sales\",\"Sales\",\"Sales\",\"Sales\",\"Sales\",\"Sales\",\"Sales\",\"Sales\",\"Sales\",\"Sales\",\"Sales\",\"Sales\",\"Sales\",\"Sales\",\"Sales\",\"Sales\",\"Sales\",\"Sales\",\"Sales\",\"Sales\",\"Sales\",\"Sales\",\"Sales\",\"Sales\",\"Sales\",\"Sales\",\"Sales\",\"Sales\",\"Sales\",\"Sales\",\"Sales\",\"Sales\",\"Sales\",\"Sales\",\"Sales\",\"Sales\",\"Sales\",\"Sales\",\"Sales\",\"Sales\",\"Sales\",\"Sales\",\"Sales\",\"Sales\",\"Sales\",\"Sales\",\"Sales\",\"Sales\",\"Sales\",\"Sales\",\"Sales\",\"Sales\",\"Sales\",\"Sales\",\"Sales\",\"Sales\",\"Sales\",\"Sales\",\"Sales\",\"Sales\",\"Sales\",\"Sales\",\"Sales\",\"Sales\",\"Sales\",\"Sales\",\"Sales\",\"Sales\",\"Sales\",\"Sales\",\"Sales\",\"Sales\",\"Sales\",\"Sales\",\"Sales\",\"Sales\",\"Sales\",\"Sales\",\"Sales\",\"Sales\",\"Sales\",\"Sales\",\"Sales\",\"Sales\",\"Sales\",\"Sales\",\"Sales\",\"Sales\",\"Sales\",\"Sales\",\"Sales\",\"Sales\",\"Sales\",\"Sales\",\"Sales\",\"Sales\",\"Sales\",\"Sales\",\"Sales\",\"Sales\",\"Sales\",\"Sales\",\"Sales\",\"Sales\",\"Sales\",\"Sales\",\"Sales\",\"Sales\",\"Sales\",\"Sales\",\"Sales\",\"Sales\",\"Sales\",\"Sales\",\"Sales\",\"Sales\",\"Sales\",\"Sales\",\"Sales\",\"Sales\",\"Sales\",\"Sales\",\"Sales\",\"Sales\",\"Sales\",\"Sales\",\"Sales\",\"Sales\",\"Sales\",\"Sales\",\"Sales\",\"Sales\",\"Sales\",\"Sales\",\"Sales\",\"Sales\",\"Sales\",\"Sales\",\"Sales\",\"Sales\",\"Sales\",\"Sales\",\"Sales\",\"Sales\",\"Sales\",\"Sales\",\"Sales\",\"Sales\",\"Sales\",\"Sales\",\"Sales\",\"Sales\",\"Sales\",\"Sales\",\"Sales\",\"Sales\",\"Sales\",\"Sales\",\"Sales\",\"Sales\",\"Sales\",\"Sales\",\"Sales\",\"Sales\",\"Sales\",\"Sales\",\"Sales\",\"Sales\",\"Sales\",\"Sales\",\"Sales\",\"Sales\",\"Sales\",\"Sales\",\"Sales\",\"Sales\",\"Sales\",\"Sales\",\"Sales\",\"Sales\",\"Sales\",\"Sales\",\"Sales\",\"Sales\",\"Sales\",\"Sales\",\"Sales\",\"Sales\",\"Sales\",\"Sales\",\"Sales\",\"Sales\",\"Sales\",\"Sales\",\"Sales\",\"Sales\",\"Sales\",\"Sales\",\"Sales\",\"Sales\",\"Sales\",\"Sales\",\"Sales\",\"Sales\",\"Sales\",\"Sales\",\"Sales\",\"Sales\",\"Sales\",\"Sales\",\"Sales\",\"Sales\",\"Sales\",\"Sales\",\"Sales\",\"Sales\",\"Sales\",\"Sales\",\"Sales\",\"Sales\",\"Sales\",\"Sales\",\"Sales\",\"Sales\",\"Sales\",\"Sales\",\"Sales\",\"Sales\",\"Sales\",\"Sales\",\"Sales\",\"Sales\",\"Sales\",\"Sales\",\"Sales\",\"Sales\",\"Sales\",\"Sales\",\"Sales\",\"Sales\",\"Sales\",\"Sales\",\"Sales\",\"Sales\",\"Sales\",\"Sales\",\"Sales\",\"Sales\",\"Sales\",\"Sales\",\"Sales\",\"Sales\",\"Sales\",\"Sales\",\"Sales\",\"Sales\",\"Sales\",\"Sales\",\"Sales\",\"Sales\",\"Sales\",\"Sales\",\"Sales\",\"Sales\",\"Sales\",\"Sales\",\"Sales\",\"Sales\",\"Sales\",\"Sales\",\"Sales\",\"Sales\",\"Sales\",\"Sales\",\"Sales\",\"Sales\",\"Sales\",\"Sales\",\"Sales\",\"Sales\",\"Sales\",\"Sales\",\"Sales\",\"Sales\",\"Sales\",\"Sales\",\"Sales\",\"Sales\",\"Sales\",\"Sales\",\"Sales\",\"Sales\",\"Sales\",\"Sales\",\"Sales\",\"Sales\",\"Sales\",\"Sales\",\"Sales\",\"Sales\",\"Sales\",\"Sales\",\"Sales\",\"Sales\",\"Sales\",\"Sales\",\"Sales\",\"Sales\",\"Sales\",\"Sales\",\"Sales\",\"Sales\",\"Sales\",\"Sales\",\"Sales\",\"Sales\",\"Sales\",\"Sales\",\"Sales\",\"Sales\",\"Sales\",\"Sales\",\"Sales\",\"Sales\",\"Sales\",\"Sales\",\"Sales\",\"Sales\",\"Sales\",\"Sales\",\"Sales\",\"Sales\",\"Sales\",\"Sales\",\"Sales\",\"Sales\",\"Sales\",\"Sales\",\"Sales\",\"Sales\",\"Sales\",\"Sales\",\"Sales\",\"Sales\",\"Sales\",\"Sales\",\"Sales\",\"Sales\",\"Sales\",\"Sales\",\"Sales\",\"Sales\",\"Sales\",\"Sales\",\"Sales\",\"Sales\",\"Sales\",\"Sales\",\"Sales\",\"Sales\",\"Sales\",\"Sales\",\"Sales\",\"Sales\",\"Sales\",\"Sales\",\"Sales\",\"Sales\",\"Sales\",\"Sales\",\"Sales\",\"Sales\",\"Sales\",\"Sales\",\"Sales\",\"Sales\",\"Sales\",\"Sales\",\"Sales\",\"Sales\",\"Sales\",\"Sales\",\"Sales\",\"Sales\",\"Sales\",\"Sales\",\"Sales\",\"Sales\",\"Sales\",\"Sales\",\"Sales\",\"Sales\",\"Sales\",\"Sales\",\"Sales\",\"Sales\",\"Sales\",\"Sales\",\"Sales\",\"Sales\",\"Sales\",\"Sales\",\"Sales\",\"Sales\",\"Sales\",\"Sales\",\"Sales\",\"Sales\",\"Sales\",\"Sales\",\"Sales\",\"Sales\",\"Sales\",\"Sales\",\"Sales\",\"Sales\",\"Sales\",\"Sales\",\"Sales\",\"Sales\",\"Sales\",\"Sales\",\"Sales\",\"Sales\",\"Sales\",\"Sales\",\"Sales\",\"Sales\",\"Sales\",\"Sales\",\"Sales\",\"Sales\",\"Sales\",\"Sales\",\"Sales\",\"Sales\",\"Sales\",\"Sales\",\"Sales\",\"Sales\",\"Sales\",\"Sales\",\"Sales\",\"Sales\",\"Sales\",\"Sales\",\"Sales\",\"Sales\",\"Sales\",\"Sales\",\"Sales\",\"Sales\",\"Sales\",\"Sales\",\"Sales\",\"Sales\",\"Sales\",\"Sales\",\"Sales\",\"Sales\",\"Sales\",\"Sales\",\"Sales\",\"Sales\",\"Sales\",\"Sales\",\"Sales\",\"Sales\",\"Sales\",\"Sales\",\"Sales\",\"Sales\",\"Sales\",\"Sales\",\"Sales\",\"Sales\",\"Sales\",\"Sales\",\"Sales\",\"Sales\",\"Sales\",\"Sales\",\"Sales\",\"Sales\",\"Sales\",\"Sales\",\"Sales\",\"Sales\",\"Sales\",\"Sales\",\"Sales\",\"Sales\",\"Sales\",\"Sales\",\"Sales\",\"Sales\",\"Sales\",\"Sales\",\"Sales\",\"Sales\",\"Sales\",\"Sales\",\"Sales\",\"Sales\",\"Sales\",\"Sales\",\"Sales\",\"Sales\",\"Sales\",\"Sales\",\"Sales\",\"Sales\",\"Sales\",\"Sales\",\"Sales\",\"Sales\",\"Sales\",\"Sales\",\"Sales\",\"Sales\",\"Sales\",\"Sales\",\"Sales\",\"Sales\",\"Sales\",\"Sales\",\"Sales\",\"Sales\",\"Sales\",\"Sales\",\"Sales\",\"Sales\",\"Sales\",\"Sales\",\"Sales\",\"Sales\",\"Sales\",\"Sales\",\"Sales\",\"Sales\",\"Sales\",\"Sales\",\"Sales\",\"Sales\",\"Sales\",\"Sales\",\"Sales\",\"Sales\",\"Sales\",\"Sales\",\"Sales\",\"Sales\",\"Sales\",\"Sales\",\"Sales\",\"Sales\",\"Sales\",\"Sales\",\"Sales\",\"Sales\"],\"x0\":\" \",\"xaxis\":\"x\",\"y\":[122,123,107,94,182,43,111,66,68,99,120,114,109,144,77,120,109,118,120,119,99,205,218,92,123,92,120,164,114,124,123,125,88,81,78,88,120,121,113,109,106,141,121,121,113,109,115,90,147,99,133,112,127,145,176,127,101,133,77,85,82,122,131,118,88,118,107,160,153,139,160,131,130,131,114,100,194,46,118,70,72,106,128,121,116,153,82,128,116,126,128,127,106,218,232,98,131,98,128,175,121,132,131,133,94,86,83,94,128,129,120,116,113,150,129,129,120,116,123,96,157,106,142,119,135,155,188,135,108,142,82,91,87,130,140,126,94,126,114,171,163,148,171,140,90,174,120,118,66,187,51,58,177,142,113,144,159,92,88,124,92,70,78,80,123,43,122,56,106,74,106,78,150,120,120,99,101,99,99,99,103,116,82,85,43,106,69,58,107,103,106,82,118,131,96,185,128,126,70,199,54,62,189,151,120,153,169,98,94,132,98,75,83,85,131,46,130,60,113,79,113,83,160,128,128,106,108,106,106,106,110,124,87,91,46,113,74,62,114,110,113,87,126,140,90,90,109,113,68,109,79,68,92,60,43,109,144,80,121,52,82,64,64,76,80,43,81,122,122,82,76,74,43,106,73,82,103,75,73,56,43,77,85,88,69,89,88,43,107,89,106,96,96,116,120,72,116,84,72,98,64,46,116,153,85,129,55,87,68,68,81,85,46,86,130,130,87,81,79,46,113,78,87,110,80,78,60,46,82,91,94,74,95,94,46,114,95,113,122,123,107,116,182,118,159,123,126,126,114,125,114,125,138,138,123,124,132,109,147,124,184,147,141,112,127,168,133,139,114,123,127,131,118,98,127,145,127,122,120,123,130,131,114,124,194,126,169,131,134,134,121,133,121,133,147,147,131,132,141,116,157,132,196,157,150,119,135,179,142,148,121,131,135,140,126,104,135,155,135,130,128,131,53,66,126,120,53,92,58,52,56,53,43,77,52,61,77,52,92,113,56,76,52,74,64,63,39,80,82,76,56,89,58,41,69,45,73,56,60,41,73,56,70,134,128,56,98,62,55,60,56,46,82,55,65,82,55,98,120,60,81,55,79,68,67,42,85,87,81,60,95,62,44,74,48,78,60,64,44,78,187,123,187,182,142,79,205,126,218,159,124,138,189,150,114,164,147,115,125,124,138,141,132,103,168,133,168,101,145,112,114,145,153,199,131,199,194,151,84,218,134,232,169,132,147,201,160,121,175,157,123,133,132,147,150,141,110,179,142,179,108,155,119,121,155,163,90,520,302,118,119,114,205,56,236,177,230,490,189,290,197,200,245,231,39,184,224,525,302,160,221,120,122,185,45,320,214,41,250,96,554,322,126,127,121,218,60,251,189,245,522,201,309,210,213,261,246,42,196,239,559,322,171,236,128,130,197,48,341,228,44,266,313,144,325,289,334,153,346,308,218,202,205,474,650,230,69,322,765,51,513,164,265,302,187,245,180,197,454,623,224,61,363,675,52,576,160,198,290,320,195,221,510,699,250,66,306,657,747,148,210,302,232,215,218,505,693,245,74,343,815,54,547,175,282,322,199,261,192,210,484,664,239,65,387,719,55,614,171,211,309,341,208,236,543,745,266,70,326,700,796,158,224,322,265,298,182,478,120,302,367,187,598,322,322,302,265,205,218,205,23,202,177,230,99,174,598,298,109,478,567,56,198,278,189,423,290,412,123,532,363,363,290,198,197,189,245,200,23,180,39,184,224,132,164,532,278,423,545,210,312,168,501,302,534,133,576,306,306,302,210,221,320,185,24,195,153,250,123,176,576,312,501,654,45,282,318,194,509,128,322,391,199,637,343,343,322,282,218,232,218,25,215,189,245,106,185,637,318,116,509,604,60,211,296,201,451,309,439,131,567,387,387,309,211,210,201,261,213,25,192,42,196,239,141,175,567,296,451,581,224,332,179,534,322,569,142,614,326,326,322,224,236,341,197,26,208,163,266,131,188,614,332,534,697,48,130,598,109,650,478,298,265,520,302,107,177,230,322,174,122,142,144,111,167,51,52,236,298,313,367,205,298,109,598,53,478,21,56,146,532,116,623,423,289,198,490,290,184,224,363,150,128,156,39,231,289,325,412,200,278,532,423,197,32,245,192,576,102,699,501,322,210,525,302,153,250,306,176,139,176,41,214,322,289,534,185,312,576,501,221,31,320,45,139,637,116,693,509,318,282,554,322,114,189,245,343,185,130,151,153,118,178,54,55,251,318,334,391,218,318,116,637,56,509,22,60,156,567,124,664,451,308,211,522,309,196,239,387,160,136,166,42,246,308,346,439,213,296,567,451,210,34,261,205,614,109,745,534,343,224,559,322,163,266,326,188,148,188,44,228,343,308,569,197,332,614,534,236,33,341,48],\"y0\":\" \",\"yaxis\":\"y\",\"type\":\"box\"}],                        {\"template\":{\"data\":{\"bar\":[{\"error_x\":{\"color\":\"#2a3f5f\"},\"error_y\":{\"color\":\"#2a3f5f\"},\"marker\":{\"line\":{\"color\":\"#E5ECF6\",\"width\":0.5},\"pattern\":{\"fillmode\":\"overlay\",\"size\":10,\"solidity\":0.2}},\"type\":\"bar\"}],\"barpolar\":[{\"marker\":{\"line\":{\"color\":\"#E5ECF6\",\"width\":0.5},\"pattern\":{\"fillmode\":\"overlay\",\"size\":10,\"solidity\":0.2}},\"type\":\"barpolar\"}],\"carpet\":[{\"aaxis\":{\"endlinecolor\":\"#2a3f5f\",\"gridcolor\":\"white\",\"linecolor\":\"white\",\"minorgridcolor\":\"white\",\"startlinecolor\":\"#2a3f5f\"},\"baxis\":{\"endlinecolor\":\"#2a3f5f\",\"gridcolor\":\"white\",\"linecolor\":\"white\",\"minorgridcolor\":\"white\",\"startlinecolor\":\"#2a3f5f\"},\"type\":\"carpet\"}],\"choropleth\":[{\"colorbar\":{\"outlinewidth\":0,\"ticks\":\"\"},\"type\":\"choropleth\"}],\"contour\":[{\"colorbar\":{\"outlinewidth\":0,\"ticks\":\"\"},\"colorscale\":[[0.0,\"#0d0887\"],[0.1111111111111111,\"#46039f\"],[0.2222222222222222,\"#7201a8\"],[0.3333333333333333,\"#9c179e\"],[0.4444444444444444,\"#bd3786\"],[0.5555555555555556,\"#d8576b\"],[0.6666666666666666,\"#ed7953\"],[0.7777777777777778,\"#fb9f3a\"],[0.8888888888888888,\"#fdca26\"],[1.0,\"#f0f921\"]],\"type\":\"contour\"}],\"contourcarpet\":[{\"colorbar\":{\"outlinewidth\":0,\"ticks\":\"\"},\"type\":\"contourcarpet\"}],\"heatmap\":[{\"colorbar\":{\"outlinewidth\":0,\"ticks\":\"\"},\"colorscale\":[[0.0,\"#0d0887\"],[0.1111111111111111,\"#46039f\"],[0.2222222222222222,\"#7201a8\"],[0.3333333333333333,\"#9c179e\"],[0.4444444444444444,\"#bd3786\"],[0.5555555555555556,\"#d8576b\"],[0.6666666666666666,\"#ed7953\"],[0.7777777777777778,\"#fb9f3a\"],[0.8888888888888888,\"#fdca26\"],[1.0,\"#f0f921\"]],\"type\":\"heatmap\"}],\"heatmapgl\":[{\"colorbar\":{\"outlinewidth\":0,\"ticks\":\"\"},\"colorscale\":[[0.0,\"#0d0887\"],[0.1111111111111111,\"#46039f\"],[0.2222222222222222,\"#7201a8\"],[0.3333333333333333,\"#9c179e\"],[0.4444444444444444,\"#bd3786\"],[0.5555555555555556,\"#d8576b\"],[0.6666666666666666,\"#ed7953\"],[0.7777777777777778,\"#fb9f3a\"],[0.8888888888888888,\"#fdca26\"],[1.0,\"#f0f921\"]],\"type\":\"heatmapgl\"}],\"histogram\":[{\"marker\":{\"pattern\":{\"fillmode\":\"overlay\",\"size\":10,\"solidity\":0.2}},\"type\":\"histogram\"}],\"histogram2d\":[{\"colorbar\":{\"outlinewidth\":0,\"ticks\":\"\"},\"colorscale\":[[0.0,\"#0d0887\"],[0.1111111111111111,\"#46039f\"],[0.2222222222222222,\"#7201a8\"],[0.3333333333333333,\"#9c179e\"],[0.4444444444444444,\"#bd3786\"],[0.5555555555555556,\"#d8576b\"],[0.6666666666666666,\"#ed7953\"],[0.7777777777777778,\"#fb9f3a\"],[0.8888888888888888,\"#fdca26\"],[1.0,\"#f0f921\"]],\"type\":\"histogram2d\"}],\"histogram2dcontour\":[{\"colorbar\":{\"outlinewidth\":0,\"ticks\":\"\"},\"colorscale\":[[0.0,\"#0d0887\"],[0.1111111111111111,\"#46039f\"],[0.2222222222222222,\"#7201a8\"],[0.3333333333333333,\"#9c179e\"],[0.4444444444444444,\"#bd3786\"],[0.5555555555555556,\"#d8576b\"],[0.6666666666666666,\"#ed7953\"],[0.7777777777777778,\"#fb9f3a\"],[0.8888888888888888,\"#fdca26\"],[1.0,\"#f0f921\"]],\"type\":\"histogram2dcontour\"}],\"mesh3d\":[{\"colorbar\":{\"outlinewidth\":0,\"ticks\":\"\"},\"type\":\"mesh3d\"}],\"parcoords\":[{\"line\":{\"colorbar\":{\"outlinewidth\":0,\"ticks\":\"\"}},\"type\":\"parcoords\"}],\"pie\":[{\"automargin\":true,\"type\":\"pie\"}],\"scatter\":[{\"marker\":{\"colorbar\":{\"outlinewidth\":0,\"ticks\":\"\"}},\"type\":\"scatter\"}],\"scatter3d\":[{\"line\":{\"colorbar\":{\"outlinewidth\":0,\"ticks\":\"\"}},\"marker\":{\"colorbar\":{\"outlinewidth\":0,\"ticks\":\"\"}},\"type\":\"scatter3d\"}],\"scattercarpet\":[{\"marker\":{\"colorbar\":{\"outlinewidth\":0,\"ticks\":\"\"}},\"type\":\"scattercarpet\"}],\"scattergeo\":[{\"marker\":{\"colorbar\":{\"outlinewidth\":0,\"ticks\":\"\"}},\"type\":\"scattergeo\"}],\"scattergl\":[{\"marker\":{\"colorbar\":{\"outlinewidth\":0,\"ticks\":\"\"}},\"type\":\"scattergl\"}],\"scattermapbox\":[{\"marker\":{\"colorbar\":{\"outlinewidth\":0,\"ticks\":\"\"}},\"type\":\"scattermapbox\"}],\"scatterpolar\":[{\"marker\":{\"colorbar\":{\"outlinewidth\":0,\"ticks\":\"\"}},\"type\":\"scatterpolar\"}],\"scatterpolargl\":[{\"marker\":{\"colorbar\":{\"outlinewidth\":0,\"ticks\":\"\"}},\"type\":\"scatterpolargl\"}],\"scatterternary\":[{\"marker\":{\"colorbar\":{\"outlinewidth\":0,\"ticks\":\"\"}},\"type\":\"scatterternary\"}],\"surface\":[{\"colorbar\":{\"outlinewidth\":0,\"ticks\":\"\"},\"colorscale\":[[0.0,\"#0d0887\"],[0.1111111111111111,\"#46039f\"],[0.2222222222222222,\"#7201a8\"],[0.3333333333333333,\"#9c179e\"],[0.4444444444444444,\"#bd3786\"],[0.5555555555555556,\"#d8576b\"],[0.6666666666666666,\"#ed7953\"],[0.7777777777777778,\"#fb9f3a\"],[0.8888888888888888,\"#fdca26\"],[1.0,\"#f0f921\"]],\"type\":\"surface\"}],\"table\":[{\"cells\":{\"fill\":{\"color\":\"#EBF0F8\"},\"line\":{\"color\":\"white\"}},\"header\":{\"fill\":{\"color\":\"#C8D4E3\"},\"line\":{\"color\":\"white\"}},\"type\":\"table\"}]},\"layout\":{\"annotationdefaults\":{\"arrowcolor\":\"#2a3f5f\",\"arrowhead\":0,\"arrowwidth\":1},\"autotypenumbers\":\"strict\",\"coloraxis\":{\"colorbar\":{\"outlinewidth\":0,\"ticks\":\"\"}},\"colorscale\":{\"diverging\":[[0,\"#8e0152\"],[0.1,\"#c51b7d\"],[0.2,\"#de77ae\"],[0.3,\"#f1b6da\"],[0.4,\"#fde0ef\"],[0.5,\"#f7f7f7\"],[0.6,\"#e6f5d0\"],[0.7,\"#b8e186\"],[0.8,\"#7fbc41\"],[0.9,\"#4d9221\"],[1,\"#276419\"]],\"sequential\":[[0.0,\"#0d0887\"],[0.1111111111111111,\"#46039f\"],[0.2222222222222222,\"#7201a8\"],[0.3333333333333333,\"#9c179e\"],[0.4444444444444444,\"#bd3786\"],[0.5555555555555556,\"#d8576b\"],[0.6666666666666666,\"#ed7953\"],[0.7777777777777778,\"#fb9f3a\"],[0.8888888888888888,\"#fdca26\"],[1.0,\"#f0f921\"]],\"sequentialminus\":[[0.0,\"#0d0887\"],[0.1111111111111111,\"#46039f\"],[0.2222222222222222,\"#7201a8\"],[0.3333333333333333,\"#9c179e\"],[0.4444444444444444,\"#bd3786\"],[0.5555555555555556,\"#d8576b\"],[0.6666666666666666,\"#ed7953\"],[0.7777777777777778,\"#fb9f3a\"],[0.8888888888888888,\"#fdca26\"],[1.0,\"#f0f921\"]]},\"colorway\":[\"#636efa\",\"#EF553B\",\"#00cc96\",\"#ab63fa\",\"#FFA15A\",\"#19d3f3\",\"#FF6692\",\"#B6E880\",\"#FF97FF\",\"#FECB52\"],\"font\":{\"color\":\"#2a3f5f\"},\"geo\":{\"bgcolor\":\"white\",\"lakecolor\":\"white\",\"landcolor\":\"#E5ECF6\",\"showlakes\":true,\"showland\":true,\"subunitcolor\":\"white\"},\"hoverlabel\":{\"align\":\"left\"},\"hovermode\":\"closest\",\"mapbox\":{\"style\":\"light\"},\"paper_bgcolor\":\"white\",\"plot_bgcolor\":\"#E5ECF6\",\"polar\":{\"angularaxis\":{\"gridcolor\":\"white\",\"linecolor\":\"white\",\"ticks\":\"\"},\"bgcolor\":\"#E5ECF6\",\"radialaxis\":{\"gridcolor\":\"white\",\"linecolor\":\"white\",\"ticks\":\"\"}},\"scene\":{\"xaxis\":{\"backgroundcolor\":\"#E5ECF6\",\"gridcolor\":\"white\",\"gridwidth\":2,\"linecolor\":\"white\",\"showbackground\":true,\"ticks\":\"\",\"zerolinecolor\":\"white\"},\"yaxis\":{\"backgroundcolor\":\"#E5ECF6\",\"gridcolor\":\"white\",\"gridwidth\":2,\"linecolor\":\"white\",\"showbackground\":true,\"ticks\":\"\",\"zerolinecolor\":\"white\"},\"zaxis\":{\"backgroundcolor\":\"#E5ECF6\",\"gridcolor\":\"white\",\"gridwidth\":2,\"linecolor\":\"white\",\"showbackground\":true,\"ticks\":\"\",\"zerolinecolor\":\"white\"}},\"shapedefaults\":{\"line\":{\"color\":\"#2a3f5f\"}},\"ternary\":{\"aaxis\":{\"gridcolor\":\"white\",\"linecolor\":\"white\",\"ticks\":\"\"},\"baxis\":{\"gridcolor\":\"white\",\"linecolor\":\"white\",\"ticks\":\"\"},\"bgcolor\":\"#E5ECF6\",\"caxis\":{\"gridcolor\":\"white\",\"linecolor\":\"white\",\"ticks\":\"\"}},\"title\":{\"x\":0.05},\"xaxis\":{\"automargin\":true,\"gridcolor\":\"white\",\"linecolor\":\"white\",\"ticks\":\"\",\"title\":{\"standoff\":15},\"zerolinecolor\":\"white\",\"zerolinewidth\":2},\"yaxis\":{\"automargin\":true,\"gridcolor\":\"white\",\"linecolor\":\"white\",\"ticks\":\"\",\"title\":{\"standoff\":15},\"zerolinecolor\":\"white\",\"zerolinewidth\":2}}},\"xaxis\":{\"anchor\":\"y\",\"domain\":[0.0,1.0],\"title\":{\"text\":\"variable\"}},\"yaxis\":{\"anchor\":\"x\",\"domain\":[0.0,1.0],\"title\":{\"text\":\"Number of Sales\"}},\"legend\":{\"tracegroupgap\":0},\"margin\":{\"t\":60},\"boxmode\":\"group\",\"title\":{\"text\":\"Distribution of Sales\",\"x\":0.5}},                        {\"responsive\": true}                    ).then(function(){\n",
              "                            \n",
              "var gd = document.getElementById('92c6f2e0-640f-4acb-af44-ab82a53c0f64');\n",
              "var x = new MutationObserver(function (mutations, observer) {{\n",
              "        var display = window.getComputedStyle(gd).display;\n",
              "        if (!display || display === 'none') {{\n",
              "            console.log([gd, 'removed!']);\n",
              "            Plotly.purge(gd);\n",
              "            observer.disconnect();\n",
              "        }}\n",
              "}});\n",
              "\n",
              "// Listen for the removal of the full notebook cells\n",
              "var notebookContainer = gd.closest('#notebook-container');\n",
              "if (notebookContainer) {{\n",
              "    x.observe(notebookContainer, {childList: true});\n",
              "}}\n",
              "\n",
              "// Listen for the clearing of the current output cell\n",
              "var outputEl = gd.closest('.output');\n",
              "if (outputEl) {{\n",
              "    x.observe(outputEl, {childList: true});\n",
              "}}\n",
              "\n",
              "                        })                };                            </script>        </div>\n",
              "</body>\n",
              "</html>"
            ]
          },
          "metadata": {}
        }
      ]
    },
    {
      "cell_type": "code",
      "source": [
        "fig = px.box(data['Profit'], points = 'all')\n",
        "fig.update_layout(title = f'Distribution of Profit',title_x=0.5, yaxis_title= \"Number of Profit\")\n",
        "fig.show()"
      ],
      "metadata": {
        "colab": {
          "base_uri": "https://localhost:8080/",
          "height": 542
        },
        "id": "eQhu6DppwfC6",
        "outputId": "9eb13c9a-372d-415a-b096-41ac7068c49e"
      },
      "execution_count": 18,
      "outputs": [
        {
          "output_type": "display_data",
          "data": {
            "text/html": [
              "<html>\n",
              "<head><meta charset=\"utf-8\" /></head>\n",
              "<body>\n",
              "    <div>            <script src=\"https://cdnjs.cloudflare.com/ajax/libs/mathjax/2.7.5/MathJax.js?config=TeX-AMS-MML_SVG\"></script><script type=\"text/javascript\">if (window.MathJax) {MathJax.Hub.Config({SVG: {font: \"STIX-Web\"}});}</script>                <script type=\"text/javascript\">window.PlotlyConfig = {MathJaxConfig: 'local'};</script>\n",
              "        <script src=\"https://cdn.plot.ly/plotly-2.8.3.min.js\"></script>                <div id=\"8fb00d98-727c-40ab-9991-47e9b5353c42\" class=\"plotly-graph-div\" style=\"height:525px; width:100%;\"></div>            <script type=\"text/javascript\">                                    window.PLOTLYENV=window.PLOTLYENV || {};                                    if (document.getElementById(\"8fb00d98-727c-40ab-9991-47e9b5353c42\")) {                    Plotly.newPlot(                        \"8fb00d98-727c-40ab-9991-47e9b5353c42\",                        [{\"alignmentgroup\":\"True\",\"boxpoints\":\"all\",\"hovertemplate\":\"variable=%{x}<br>value=%{y}<extra></extra>\",\"legendgroup\":\"\",\"marker\":{\"color\":\"#636efa\"},\"name\":\"\",\"notched\":false,\"offsetgroup\":\"\",\"orientation\":\"v\",\"showlegend\":false,\"x\":[\"Profit\",\"Profit\",\"Profit\",\"Profit\",\"Profit\",\"Profit\",\"Profit\",\"Profit\",\"Profit\",\"Profit\",\"Profit\",\"Profit\",\"Profit\",\"Profit\",\"Profit\",\"Profit\",\"Profit\",\"Profit\",\"Profit\",\"Profit\",\"Profit\",\"Profit\",\"Profit\",\"Profit\",\"Profit\",\"Profit\",\"Profit\",\"Profit\",\"Profit\",\"Profit\",\"Profit\",\"Profit\",\"Profit\",\"Profit\",\"Profit\",\"Profit\",\"Profit\",\"Profit\",\"Profit\",\"Profit\",\"Profit\",\"Profit\",\"Profit\",\"Profit\",\"Profit\",\"Profit\",\"Profit\",\"Profit\",\"Profit\",\"Profit\",\"Profit\",\"Profit\",\"Profit\",\"Profit\",\"Profit\",\"Profit\",\"Profit\",\"Profit\",\"Profit\",\"Profit\",\"Profit\",\"Profit\",\"Profit\",\"Profit\",\"Profit\",\"Profit\",\"Profit\",\"Profit\",\"Profit\",\"Profit\",\"Profit\",\"Profit\",\"Profit\",\"Profit\",\"Profit\",\"Profit\",\"Profit\",\"Profit\",\"Profit\",\"Profit\",\"Profit\",\"Profit\",\"Profit\",\"Profit\",\"Profit\",\"Profit\",\"Profit\",\"Profit\",\"Profit\",\"Profit\",\"Profit\",\"Profit\",\"Profit\",\"Profit\",\"Profit\",\"Profit\",\"Profit\",\"Profit\",\"Profit\",\"Profit\",\"Profit\",\"Profit\",\"Profit\",\"Profit\",\"Profit\",\"Profit\",\"Profit\",\"Profit\",\"Profit\",\"Profit\",\"Profit\",\"Profit\",\"Profit\",\"Profit\",\"Profit\",\"Profit\",\"Profit\",\"Profit\",\"Profit\",\"Profit\",\"Profit\",\"Profit\",\"Profit\",\"Profit\",\"Profit\",\"Profit\",\"Profit\",\"Profit\",\"Profit\",\"Profit\",\"Profit\",\"Profit\",\"Profit\",\"Profit\",\"Profit\",\"Profit\",\"Profit\",\"Profit\",\"Profit\",\"Profit\",\"Profit\",\"Profit\",\"Profit\",\"Profit\",\"Profit\",\"Profit\",\"Profit\",\"Profit\",\"Profit\",\"Profit\",\"Profit\",\"Profit\",\"Profit\",\"Profit\",\"Profit\",\"Profit\",\"Profit\",\"Profit\",\"Profit\",\"Profit\",\"Profit\",\"Profit\",\"Profit\",\"Profit\",\"Profit\",\"Profit\",\"Profit\",\"Profit\",\"Profit\",\"Profit\",\"Profit\",\"Profit\",\"Profit\",\"Profit\",\"Profit\",\"Profit\",\"Profit\",\"Profit\",\"Profit\",\"Profit\",\"Profit\",\"Profit\",\"Profit\",\"Profit\",\"Profit\",\"Profit\",\"Profit\",\"Profit\",\"Profit\",\"Profit\",\"Profit\",\"Profit\",\"Profit\",\"Profit\",\"Profit\",\"Profit\",\"Profit\",\"Profit\",\"Profit\",\"Profit\",\"Profit\",\"Profit\",\"Profit\",\"Profit\",\"Profit\",\"Profit\",\"Profit\",\"Profit\",\"Profit\",\"Profit\",\"Profit\",\"Profit\",\"Profit\",\"Profit\",\"Profit\",\"Profit\",\"Profit\",\"Profit\",\"Profit\",\"Profit\",\"Profit\",\"Profit\",\"Profit\",\"Profit\",\"Profit\",\"Profit\",\"Profit\",\"Profit\",\"Profit\",\"Profit\",\"Profit\",\"Profit\",\"Profit\",\"Profit\",\"Profit\",\"Profit\",\"Profit\",\"Profit\",\"Profit\",\"Profit\",\"Profit\",\"Profit\",\"Profit\",\"Profit\",\"Profit\",\"Profit\",\"Profit\",\"Profit\",\"Profit\",\"Profit\",\"Profit\",\"Profit\",\"Profit\",\"Profit\",\"Profit\",\"Profit\",\"Profit\",\"Profit\",\"Profit\",\"Profit\",\"Profit\",\"Profit\",\"Profit\",\"Profit\",\"Profit\",\"Profit\",\"Profit\",\"Profit\",\"Profit\",\"Profit\",\"Profit\",\"Profit\",\"Profit\",\"Profit\",\"Profit\",\"Profit\",\"Profit\",\"Profit\",\"Profit\",\"Profit\",\"Profit\",\"Profit\",\"Profit\",\"Profit\",\"Profit\",\"Profit\",\"Profit\",\"Profit\",\"Profit\",\"Profit\",\"Profit\",\"Profit\",\"Profit\",\"Profit\",\"Profit\",\"Profit\",\"Profit\",\"Profit\",\"Profit\",\"Profit\",\"Profit\",\"Profit\",\"Profit\",\"Profit\",\"Profit\",\"Profit\",\"Profit\",\"Profit\",\"Profit\",\"Profit\",\"Profit\",\"Profit\",\"Profit\",\"Profit\",\"Profit\",\"Profit\",\"Profit\",\"Profit\",\"Profit\",\"Profit\",\"Profit\",\"Profit\",\"Profit\",\"Profit\",\"Profit\",\"Profit\",\"Profit\",\"Profit\",\"Profit\",\"Profit\",\"Profit\",\"Profit\",\"Profit\",\"Profit\",\"Profit\",\"Profit\",\"Profit\",\"Profit\",\"Profit\",\"Profit\",\"Profit\",\"Profit\",\"Profit\",\"Profit\",\"Profit\",\"Profit\",\"Profit\",\"Profit\",\"Profit\",\"Profit\",\"Profit\",\"Profit\",\"Profit\",\"Profit\",\"Profit\",\"Profit\",\"Profit\",\"Profit\",\"Profit\",\"Profit\",\"Profit\",\"Profit\",\"Profit\",\"Profit\",\"Profit\",\"Profit\",\"Profit\",\"Profit\",\"Profit\",\"Profit\",\"Profit\",\"Profit\",\"Profit\",\"Profit\",\"Profit\",\"Profit\",\"Profit\",\"Profit\",\"Profit\",\"Profit\",\"Profit\",\"Profit\",\"Profit\",\"Profit\",\"Profit\",\"Profit\",\"Profit\",\"Profit\",\"Profit\",\"Profit\",\"Profit\",\"Profit\",\"Profit\",\"Profit\",\"Profit\",\"Profit\",\"Profit\",\"Profit\",\"Profit\",\"Profit\",\"Profit\",\"Profit\",\"Profit\",\"Profit\",\"Profit\",\"Profit\",\"Profit\",\"Profit\",\"Profit\",\"Profit\",\"Profit\",\"Profit\",\"Profit\",\"Profit\",\"Profit\",\"Profit\",\"Profit\",\"Profit\",\"Profit\",\"Profit\",\"Profit\",\"Profit\",\"Profit\",\"Profit\",\"Profit\",\"Profit\",\"Profit\",\"Profit\",\"Profit\",\"Profit\",\"Profit\",\"Profit\",\"Profit\",\"Profit\",\"Profit\",\"Profit\",\"Profit\",\"Profit\",\"Profit\",\"Profit\",\"Profit\",\"Profit\",\"Profit\",\"Profit\",\"Profit\",\"Profit\",\"Profit\",\"Profit\",\"Profit\",\"Profit\",\"Profit\",\"Profit\",\"Profit\",\"Profit\",\"Profit\",\"Profit\",\"Profit\",\"Profit\",\"Profit\",\"Profit\",\"Profit\",\"Profit\",\"Profit\",\"Profit\",\"Profit\",\"Profit\",\"Profit\",\"Profit\",\"Profit\",\"Profit\",\"Profit\",\"Profit\",\"Profit\",\"Profit\",\"Profit\",\"Profit\",\"Profit\",\"Profit\",\"Profit\",\"Profit\",\"Profit\",\"Profit\",\"Profit\",\"Profit\",\"Profit\",\"Profit\",\"Profit\",\"Profit\",\"Profit\",\"Profit\",\"Profit\",\"Profit\",\"Profit\",\"Profit\",\"Profit\",\"Profit\",\"Profit\",\"Profit\",\"Profit\",\"Profit\",\"Profit\",\"Profit\",\"Profit\",\"Profit\",\"Profit\",\"Profit\",\"Profit\",\"Profit\",\"Profit\",\"Profit\",\"Profit\",\"Profit\",\"Profit\",\"Profit\",\"Profit\",\"Profit\",\"Profit\",\"Profit\",\"Profit\",\"Profit\",\"Profit\",\"Profit\",\"Profit\",\"Profit\",\"Profit\",\"Profit\",\"Profit\",\"Profit\",\"Profit\",\"Profit\",\"Profit\",\"Profit\",\"Profit\",\"Profit\",\"Profit\",\"Profit\",\"Profit\",\"Profit\",\"Profit\",\"Profit\",\"Profit\",\"Profit\",\"Profit\",\"Profit\",\"Profit\",\"Profit\",\"Profit\",\"Profit\",\"Profit\",\"Profit\",\"Profit\",\"Profit\",\"Profit\",\"Profit\",\"Profit\",\"Profit\",\"Profit\",\"Profit\",\"Profit\",\"Profit\",\"Profit\",\"Profit\",\"Profit\",\"Profit\",\"Profit\",\"Profit\",\"Profit\",\"Profit\",\"Profit\",\"Profit\",\"Profit\",\"Profit\",\"Profit\",\"Profit\",\"Profit\",\"Profit\",\"Profit\",\"Profit\",\"Profit\",\"Profit\",\"Profit\",\"Profit\",\"Profit\",\"Profit\",\"Profit\",\"Profit\",\"Profit\",\"Profit\",\"Profit\",\"Profit\",\"Profit\",\"Profit\",\"Profit\",\"Profit\",\"Profit\",\"Profit\",\"Profit\",\"Profit\",\"Profit\",\"Profit\",\"Profit\",\"Profit\",\"Profit\",\"Profit\",\"Profit\",\"Profit\",\"Profit\",\"Profit\",\"Profit\",\"Profit\",\"Profit\",\"Profit\",\"Profit\",\"Profit\",\"Profit\",\"Profit\",\"Profit\",\"Profit\",\"Profit\",\"Profit\",\"Profit\",\"Profit\",\"Profit\",\"Profit\",\"Profit\",\"Profit\",\"Profit\",\"Profit\",\"Profit\",\"Profit\",\"Profit\",\"Profit\",\"Profit\",\"Profit\",\"Profit\",\"Profit\",\"Profit\",\"Profit\",\"Profit\",\"Profit\",\"Profit\",\"Profit\",\"Profit\",\"Profit\",\"Profit\",\"Profit\",\"Profit\",\"Profit\",\"Profit\",\"Profit\",\"Profit\",\"Profit\",\"Profit\",\"Profit\",\"Profit\",\"Profit\",\"Profit\",\"Profit\",\"Profit\",\"Profit\",\"Profit\",\"Profit\",\"Profit\",\"Profit\",\"Profit\",\"Profit\",\"Profit\",\"Profit\",\"Profit\",\"Profit\",\"Profit\",\"Profit\",\"Profit\",\"Profit\",\"Profit\",\"Profit\",\"Profit\",\"Profit\",\"Profit\",\"Profit\",\"Profit\",\"Profit\",\"Profit\",\"Profit\",\"Profit\",\"Profit\",\"Profit\",\"Profit\",\"Profit\",\"Profit\",\"Profit\",\"Profit\",\"Profit\",\"Profit\",\"Profit\",\"Profit\",\"Profit\",\"Profit\",\"Profit\",\"Profit\",\"Profit\",\"Profit\",\"Profit\",\"Profit\",\"Profit\",\"Profit\",\"Profit\",\"Profit\",\"Profit\",\"Profit\",\"Profit\",\"Profit\",\"Profit\",\"Profit\",\"Profit\",\"Profit\",\"Profit\",\"Profit\",\"Profit\",\"Profit\",\"Profit\",\"Profit\",\"Profit\",\"Profit\",\"Profit\",\"Profit\",\"Profit\",\"Profit\",\"Profit\",\"Profit\",\"Profit\",\"Profit\",\"Profit\",\"Profit\",\"Profit\",\"Profit\",\"Profit\",\"Profit\",\"Profit\",\"Profit\",\"Profit\",\"Profit\",\"Profit\",\"Profit\",\"Profit\",\"Profit\",\"Profit\",\"Profit\",\"Profit\",\"Profit\",\"Profit\",\"Profit\",\"Profit\",\"Profit\",\"Profit\",\"Profit\",\"Profit\",\"Profit\",\"Profit\",\"Profit\",\"Profit\",\"Profit\",\"Profit\",\"Profit\",\"Profit\",\"Profit\",\"Profit\",\"Profit\",\"Profit\",\"Profit\",\"Profit\",\"Profit\",\"Profit\",\"Profit\",\"Profit\",\"Profit\",\"Profit\",\"Profit\",\"Profit\",\"Profit\",\"Profit\",\"Profit\",\"Profit\",\"Profit\",\"Profit\",\"Profit\",\"Profit\",\"Profit\",\"Profit\",\"Profit\",\"Profit\",\"Profit\",\"Profit\",\"Profit\",\"Profit\",\"Profit\",\"Profit\",\"Profit\",\"Profit\",\"Profit\",\"Profit\",\"Profit\",\"Profit\",\"Profit\",\"Profit\",\"Profit\",\"Profit\",\"Profit\",\"Profit\",\"Profit\",\"Profit\",\"Profit\",\"Profit\",\"Profit\",\"Profit\",\"Profit\",\"Profit\",\"Profit\",\"Profit\",\"Profit\",\"Profit\",\"Profit\",\"Profit\",\"Profit\",\"Profit\",\"Profit\",\"Profit\",\"Profit\",\"Profit\",\"Profit\",\"Profit\",\"Profit\",\"Profit\",\"Profit\",\"Profit\",\"Profit\",\"Profit\",\"Profit\",\"Profit\",\"Profit\",\"Profit\",\"Profit\",\"Profit\",\"Profit\",\"Profit\",\"Profit\",\"Profit\",\"Profit\",\"Profit\",\"Profit\",\"Profit\",\"Profit\",\"Profit\",\"Profit\",\"Profit\",\"Profit\",\"Profit\",\"Profit\",\"Profit\",\"Profit\",\"Profit\",\"Profit\",\"Profit\",\"Profit\",\"Profit\",\"Profit\",\"Profit\",\"Profit\",\"Profit\",\"Profit\",\"Profit\",\"Profit\",\"Profit\",\"Profit\",\"Profit\",\"Profit\",\"Profit\",\"Profit\",\"Profit\",\"Profit\",\"Profit\",\"Profit\",\"Profit\",\"Profit\",\"Profit\",\"Profit\",\"Profit\",\"Profit\",\"Profit\",\"Profit\",\"Profit\",\"Profit\",\"Profit\",\"Profit\",\"Profit\",\"Profit\",\"Profit\",\"Profit\",\"Profit\",\"Profit\",\"Profit\",\"Profit\",\"Profit\",\"Profit\",\"Profit\",\"Profit\",\"Profit\",\"Profit\",\"Profit\",\"Profit\",\"Profit\",\"Profit\",\"Profit\",\"Profit\",\"Profit\",\"Profit\",\"Profit\",\"Profit\",\"Profit\",\"Profit\",\"Profit\",\"Profit\",\"Profit\",\"Profit\",\"Profit\",\"Profit\",\"Profit\",\"Profit\",\"Profit\",\"Profit\",\"Profit\",\"Profit\",\"Profit\",\"Profit\",\"Profit\",\"Profit\",\"Profit\",\"Profit\",\"Profit\",\"Profit\",\"Profit\",\"Profit\",\"Profit\",\"Profit\",\"Profit\",\"Profit\",\"Profit\",\"Profit\",\"Profit\",\"Profit\",\"Profit\",\"Profit\",\"Profit\",\"Profit\",\"Profit\",\"Profit\",\"Profit\",\"Profit\",\"Profit\",\"Profit\",\"Profit\",\"Profit\",\"Profit\",\"Profit\",\"Profit\",\"Profit\",\"Profit\",\"Profit\",\"Profit\",\"Profit\",\"Profit\",\"Profit\",\"Profit\",\"Profit\",\"Profit\",\"Profit\",\"Profit\",\"Profit\",\"Profit\",\"Profit\",\"Profit\",\"Profit\",\"Profit\",\"Profit\",\"Profit\",\"Profit\",\"Profit\",\"Profit\",\"Profit\",\"Profit\",\"Profit\",\"Profit\",\"Profit\",\"Profit\",\"Profit\",\"Profit\",\"Profit\",\"Profit\",\"Profit\",\"Profit\",\"Profit\",\"Profit\",\"Profit\",\"Profit\",\"Profit\",\"Profit\",\"Profit\",\"Profit\",\"Profit\",\"Profit\",\"Profit\",\"Profit\",\"Profit\",\"Profit\",\"Profit\",\"Profit\",\"Profit\",\"Profit\",\"Profit\",\"Profit\",\"Profit\",\"Profit\",\"Profit\",\"Profit\",\"Profit\",\"Profit\",\"Profit\",\"Profit\",\"Profit\",\"Profit\",\"Profit\",\"Profit\",\"Profit\",\"Profit\",\"Profit\",\"Profit\",\"Profit\",\"Profit\",\"Profit\",\"Profit\",\"Profit\",\"Profit\",\"Profit\",\"Profit\",\"Profit\",\"Profit\",\"Profit\",\"Profit\",\"Profit\",\"Profit\",\"Profit\",\"Profit\",\"Profit\",\"Profit\",\"Profit\",\"Profit\",\"Profit\",\"Profit\",\"Profit\",\"Profit\",\"Profit\",\"Profit\"],\"x0\":\" \",\"xaxis\":\"x\",\"y\":[-5,26,28,35,56,31,21,21,7,37,33,24,-7,1,-2,12,-6,45,33,47,36,64,76,26,48,27,-8,44,31,15,48,29,31,27,28,30,34,14,30,20,-8,49,13,13,30,20,44,33,1,30,52,-6,29,23,50,28,24,53,27,31,28,28,-3,-5,1,-5,30,16,27,36,17,-3,-7,39,42,52,83,46,31,31,10,55,49,36,-10,1,-3,18,-9,67,49,70,53,95,113,39,71,40,-12,65,46,22,71,43,46,40,42,45,50,21,45,30,-12,73,19,19,45,30,65,49,1,45,77,-9,43,34,74,42,36,79,40,46,42,42,-4,-7,1,-7,45,24,40,53,25,-4,27,48,13,27,20,79,10,18,34,35,30,0,57,27,30,15,27,23,28,29,47,31,-8,16,-7,-4,-8,27,38,33,34,29,24,-20,29,29,6,26,29,30,32,27,8,17,31,6,28,28,-4,-3,40,71,19,40,30,117,15,27,50,52,45,0,85,40,45,22,40,34,42,43,70,46,-12,24,-10,-6,-12,40,56,49,50,43,36,-30,43,43,9,39,43,45,47,40,12,25,46,9,42,42,-6,-4,27,26,-26,30,7,-6,28,6,13,18,32,-6,0,29,13,11,8,5,5,-3,29,31,27,-9,-8,9,-3,-4,32,-7,25,29,7,26,25,13,31,26,30,2,7,11,2,32,30,12,28,40,39,-39,45,10,-9,42,9,19,27,47,-9,0,43,19,16,12,7,7,-4,43,46,40,-13,-12,13,-4,-6,47,-10,37,43,10,39,37,19,46,39,45,3,10,16,3,47,45,18,42,-5,26,28,-11,55,46,58,27,16,16,23,-3,32,-4,32,32,47,26,52,20,1,16,38,2,49,-6,29,47,53,36,21,47,37,-2,-4,1,28,22,36,28,46,47,-7,39,42,-16,82,68,86,40,24,24,34,-4,47,-6,47,47,70,39,77,30,1,24,56,3,73,-9,43,70,79,53,31,70,55,-3,-6,1,42,33,53,42,68,70,16,20,16,13,15,14,17,15,-12,15,32,-3,14,17,-3,14,14,31,17,-4,11,-4,5,19,8,28,9,-3,12,12,17,10,8,-16,24,13,19,10,25,24,30,24,19,22,21,25,22,-18,22,47,-4,21,25,-4,21,21,46,25,-6,16,-6,7,28,12,42,13,-4,18,18,25,15,12,-24,36,19,28,15,37,78,26,78,55,35,28,65,15,76,57,16,33,59,38,32,45,2,44,-4,27,33,48,51,6,47,52,47,25,22,-7,21,23,26,116,39,116,82,52,42,96,22,113,85,24,49,88,56,47,67,3,65,-6,40,49,71,76,9,70,77,70,37,33,-10,31,34,39,26,185,133,45,47,23,74,-12,87,34,17,174,59,127,62,71,89,85,9,38,15,188,133,16,72,46,27,66,-15,121,77,9,20,39,275,197,67,70,34,110,-18,129,50,25,258,88,188,92,105,132,126,13,56,22,279,197,24,107,68,40,98,-22,180,114,13,30,115,1,122,105,171,1,181,156,76,60,64,348,247,18,-202,92,435,10,129,-170,115,134,78,89,51,63,324,236,15,-202,108,381,11,204,-156,84,127,122,58,73,390,271,21,-224,87,312,309,-189,89,133,113,89,95,516,367,27,-300,137,646,15,191,-252,171,199,116,132,76,93,481,350,22,-300,160,565,16,303,-232,125,188,181,86,108,579,402,31,-332,129,463,459,-280,132,197,116,115,56,149,12,133,120,79,224,92,92,133,116,65,76,74,-2,61,35,18,36,48,224,114,-26,149,183,-11,84,106,58,129,128,139,48,196,107,107,127,84,62,59,89,70,-3,51,8,38,16,51,45,196,107,129,173,88,122,47,157,134,194,53,216,87,87,133,88,72,121,66,-1,57,26,20,48,50,216,123,156,216,-16,172,171,83,221,18,197,178,117,332,137,137,197,172,96,113,110,-3,91,52,27,53,71,332,169,-39,221,272,-16,125,157,86,191,190,206,71,291,159,159,188,125,92,88,132,104,-4,76,12,56,24,76,67,291,159,191,257,131,181,70,233,199,288,79,321,129,129,197,131,107,180,98,-1,85,39,30,71,74,321,183,232,321,-24,-117,225,-74,247,149,27,115,186,134,29,34,17,91,48,-5,36,21,22,56,10,14,87,26,115,120,73,114,-27,224,16,149,-363,-12,-127,197,-56,235,129,26,84,174,128,38,16,108,39,14,50,9,85,26,122,138,70,107,196,128,62,-340,89,-149,216,-88,271,157,31,89,188,134,26,20,87,51,36,58,10,77,32,105,194,66,122,215,157,73,-408,121,-15,-174,334,-110,367,221,40,171,276,199,43,50,25,135,71,-7,53,31,33,83,15,21,129,39,171,178,108,169,-40,332,24,221,-539,-18,-188,292,-83,349,191,39,125,258,190,56,24,160,58,21,74,13,126,39,181,205,104,159,291,190,92,-505,132,-221,321,-131,402,233,46,132,279,199,39,30,129,76,53,86,15,114,47,156,288,98,181,319,233,108,-605,180,-22],\"y0\":\" \",\"yaxis\":\"y\",\"type\":\"box\"}],                        {\"template\":{\"data\":{\"bar\":[{\"error_x\":{\"color\":\"#2a3f5f\"},\"error_y\":{\"color\":\"#2a3f5f\"},\"marker\":{\"line\":{\"color\":\"#E5ECF6\",\"width\":0.5},\"pattern\":{\"fillmode\":\"overlay\",\"size\":10,\"solidity\":0.2}},\"type\":\"bar\"}],\"barpolar\":[{\"marker\":{\"line\":{\"color\":\"#E5ECF6\",\"width\":0.5},\"pattern\":{\"fillmode\":\"overlay\",\"size\":10,\"solidity\":0.2}},\"type\":\"barpolar\"}],\"carpet\":[{\"aaxis\":{\"endlinecolor\":\"#2a3f5f\",\"gridcolor\":\"white\",\"linecolor\":\"white\",\"minorgridcolor\":\"white\",\"startlinecolor\":\"#2a3f5f\"},\"baxis\":{\"endlinecolor\":\"#2a3f5f\",\"gridcolor\":\"white\",\"linecolor\":\"white\",\"minorgridcolor\":\"white\",\"startlinecolor\":\"#2a3f5f\"},\"type\":\"carpet\"}],\"choropleth\":[{\"colorbar\":{\"outlinewidth\":0,\"ticks\":\"\"},\"type\":\"choropleth\"}],\"contour\":[{\"colorbar\":{\"outlinewidth\":0,\"ticks\":\"\"},\"colorscale\":[[0.0,\"#0d0887\"],[0.1111111111111111,\"#46039f\"],[0.2222222222222222,\"#7201a8\"],[0.3333333333333333,\"#9c179e\"],[0.4444444444444444,\"#bd3786\"],[0.5555555555555556,\"#d8576b\"],[0.6666666666666666,\"#ed7953\"],[0.7777777777777778,\"#fb9f3a\"],[0.8888888888888888,\"#fdca26\"],[1.0,\"#f0f921\"]],\"type\":\"contour\"}],\"contourcarpet\":[{\"colorbar\":{\"outlinewidth\":0,\"ticks\":\"\"},\"type\":\"contourcarpet\"}],\"heatmap\":[{\"colorbar\":{\"outlinewidth\":0,\"ticks\":\"\"},\"colorscale\":[[0.0,\"#0d0887\"],[0.1111111111111111,\"#46039f\"],[0.2222222222222222,\"#7201a8\"],[0.3333333333333333,\"#9c179e\"],[0.4444444444444444,\"#bd3786\"],[0.5555555555555556,\"#d8576b\"],[0.6666666666666666,\"#ed7953\"],[0.7777777777777778,\"#fb9f3a\"],[0.8888888888888888,\"#fdca26\"],[1.0,\"#f0f921\"]],\"type\":\"heatmap\"}],\"heatmapgl\":[{\"colorbar\":{\"outlinewidth\":0,\"ticks\":\"\"},\"colorscale\":[[0.0,\"#0d0887\"],[0.1111111111111111,\"#46039f\"],[0.2222222222222222,\"#7201a8\"],[0.3333333333333333,\"#9c179e\"],[0.4444444444444444,\"#bd3786\"],[0.5555555555555556,\"#d8576b\"],[0.6666666666666666,\"#ed7953\"],[0.7777777777777778,\"#fb9f3a\"],[0.8888888888888888,\"#fdca26\"],[1.0,\"#f0f921\"]],\"type\":\"heatmapgl\"}],\"histogram\":[{\"marker\":{\"pattern\":{\"fillmode\":\"overlay\",\"size\":10,\"solidity\":0.2}},\"type\":\"histogram\"}],\"histogram2d\":[{\"colorbar\":{\"outlinewidth\":0,\"ticks\":\"\"},\"colorscale\":[[0.0,\"#0d0887\"],[0.1111111111111111,\"#46039f\"],[0.2222222222222222,\"#7201a8\"],[0.3333333333333333,\"#9c179e\"],[0.4444444444444444,\"#bd3786\"],[0.5555555555555556,\"#d8576b\"],[0.6666666666666666,\"#ed7953\"],[0.7777777777777778,\"#fb9f3a\"],[0.8888888888888888,\"#fdca26\"],[1.0,\"#f0f921\"]],\"type\":\"histogram2d\"}],\"histogram2dcontour\":[{\"colorbar\":{\"outlinewidth\":0,\"ticks\":\"\"},\"colorscale\":[[0.0,\"#0d0887\"],[0.1111111111111111,\"#46039f\"],[0.2222222222222222,\"#7201a8\"],[0.3333333333333333,\"#9c179e\"],[0.4444444444444444,\"#bd3786\"],[0.5555555555555556,\"#d8576b\"],[0.6666666666666666,\"#ed7953\"],[0.7777777777777778,\"#fb9f3a\"],[0.8888888888888888,\"#fdca26\"],[1.0,\"#f0f921\"]],\"type\":\"histogram2dcontour\"}],\"mesh3d\":[{\"colorbar\":{\"outlinewidth\":0,\"ticks\":\"\"},\"type\":\"mesh3d\"}],\"parcoords\":[{\"line\":{\"colorbar\":{\"outlinewidth\":0,\"ticks\":\"\"}},\"type\":\"parcoords\"}],\"pie\":[{\"automargin\":true,\"type\":\"pie\"}],\"scatter\":[{\"marker\":{\"colorbar\":{\"outlinewidth\":0,\"ticks\":\"\"}},\"type\":\"scatter\"}],\"scatter3d\":[{\"line\":{\"colorbar\":{\"outlinewidth\":0,\"ticks\":\"\"}},\"marker\":{\"colorbar\":{\"outlinewidth\":0,\"ticks\":\"\"}},\"type\":\"scatter3d\"}],\"scattercarpet\":[{\"marker\":{\"colorbar\":{\"outlinewidth\":0,\"ticks\":\"\"}},\"type\":\"scattercarpet\"}],\"scattergeo\":[{\"marker\":{\"colorbar\":{\"outlinewidth\":0,\"ticks\":\"\"}},\"type\":\"scattergeo\"}],\"scattergl\":[{\"marker\":{\"colorbar\":{\"outlinewidth\":0,\"ticks\":\"\"}},\"type\":\"scattergl\"}],\"scattermapbox\":[{\"marker\":{\"colorbar\":{\"outlinewidth\":0,\"ticks\":\"\"}},\"type\":\"scattermapbox\"}],\"scatterpolar\":[{\"marker\":{\"colorbar\":{\"outlinewidth\":0,\"ticks\":\"\"}},\"type\":\"scatterpolar\"}],\"scatterpolargl\":[{\"marker\":{\"colorbar\":{\"outlinewidth\":0,\"ticks\":\"\"}},\"type\":\"scatterpolargl\"}],\"scatterternary\":[{\"marker\":{\"colorbar\":{\"outlinewidth\":0,\"ticks\":\"\"}},\"type\":\"scatterternary\"}],\"surface\":[{\"colorbar\":{\"outlinewidth\":0,\"ticks\":\"\"},\"colorscale\":[[0.0,\"#0d0887\"],[0.1111111111111111,\"#46039f\"],[0.2222222222222222,\"#7201a8\"],[0.3333333333333333,\"#9c179e\"],[0.4444444444444444,\"#bd3786\"],[0.5555555555555556,\"#d8576b\"],[0.6666666666666666,\"#ed7953\"],[0.7777777777777778,\"#fb9f3a\"],[0.8888888888888888,\"#fdca26\"],[1.0,\"#f0f921\"]],\"type\":\"surface\"}],\"table\":[{\"cells\":{\"fill\":{\"color\":\"#EBF0F8\"},\"line\":{\"color\":\"white\"}},\"header\":{\"fill\":{\"color\":\"#C8D4E3\"},\"line\":{\"color\":\"white\"}},\"type\":\"table\"}]},\"layout\":{\"annotationdefaults\":{\"arrowcolor\":\"#2a3f5f\",\"arrowhead\":0,\"arrowwidth\":1},\"autotypenumbers\":\"strict\",\"coloraxis\":{\"colorbar\":{\"outlinewidth\":0,\"ticks\":\"\"}},\"colorscale\":{\"diverging\":[[0,\"#8e0152\"],[0.1,\"#c51b7d\"],[0.2,\"#de77ae\"],[0.3,\"#f1b6da\"],[0.4,\"#fde0ef\"],[0.5,\"#f7f7f7\"],[0.6,\"#e6f5d0\"],[0.7,\"#b8e186\"],[0.8,\"#7fbc41\"],[0.9,\"#4d9221\"],[1,\"#276419\"]],\"sequential\":[[0.0,\"#0d0887\"],[0.1111111111111111,\"#46039f\"],[0.2222222222222222,\"#7201a8\"],[0.3333333333333333,\"#9c179e\"],[0.4444444444444444,\"#bd3786\"],[0.5555555555555556,\"#d8576b\"],[0.6666666666666666,\"#ed7953\"],[0.7777777777777778,\"#fb9f3a\"],[0.8888888888888888,\"#fdca26\"],[1.0,\"#f0f921\"]],\"sequentialminus\":[[0.0,\"#0d0887\"],[0.1111111111111111,\"#46039f\"],[0.2222222222222222,\"#7201a8\"],[0.3333333333333333,\"#9c179e\"],[0.4444444444444444,\"#bd3786\"],[0.5555555555555556,\"#d8576b\"],[0.6666666666666666,\"#ed7953\"],[0.7777777777777778,\"#fb9f3a\"],[0.8888888888888888,\"#fdca26\"],[1.0,\"#f0f921\"]]},\"colorway\":[\"#636efa\",\"#EF553B\",\"#00cc96\",\"#ab63fa\",\"#FFA15A\",\"#19d3f3\",\"#FF6692\",\"#B6E880\",\"#FF97FF\",\"#FECB52\"],\"font\":{\"color\":\"#2a3f5f\"},\"geo\":{\"bgcolor\":\"white\",\"lakecolor\":\"white\",\"landcolor\":\"#E5ECF6\",\"showlakes\":true,\"showland\":true,\"subunitcolor\":\"white\"},\"hoverlabel\":{\"align\":\"left\"},\"hovermode\":\"closest\",\"mapbox\":{\"style\":\"light\"},\"paper_bgcolor\":\"white\",\"plot_bgcolor\":\"#E5ECF6\",\"polar\":{\"angularaxis\":{\"gridcolor\":\"white\",\"linecolor\":\"white\",\"ticks\":\"\"},\"bgcolor\":\"#E5ECF6\",\"radialaxis\":{\"gridcolor\":\"white\",\"linecolor\":\"white\",\"ticks\":\"\"}},\"scene\":{\"xaxis\":{\"backgroundcolor\":\"#E5ECF6\",\"gridcolor\":\"white\",\"gridwidth\":2,\"linecolor\":\"white\",\"showbackground\":true,\"ticks\":\"\",\"zerolinecolor\":\"white\"},\"yaxis\":{\"backgroundcolor\":\"#E5ECF6\",\"gridcolor\":\"white\",\"gridwidth\":2,\"linecolor\":\"white\",\"showbackground\":true,\"ticks\":\"\",\"zerolinecolor\":\"white\"},\"zaxis\":{\"backgroundcolor\":\"#E5ECF6\",\"gridcolor\":\"white\",\"gridwidth\":2,\"linecolor\":\"white\",\"showbackground\":true,\"ticks\":\"\",\"zerolinecolor\":\"white\"}},\"shapedefaults\":{\"line\":{\"color\":\"#2a3f5f\"}},\"ternary\":{\"aaxis\":{\"gridcolor\":\"white\",\"linecolor\":\"white\",\"ticks\":\"\"},\"baxis\":{\"gridcolor\":\"white\",\"linecolor\":\"white\",\"ticks\":\"\"},\"bgcolor\":\"#E5ECF6\",\"caxis\":{\"gridcolor\":\"white\",\"linecolor\":\"white\",\"ticks\":\"\"}},\"title\":{\"x\":0.05},\"xaxis\":{\"automargin\":true,\"gridcolor\":\"white\",\"linecolor\":\"white\",\"ticks\":\"\",\"title\":{\"standoff\":15},\"zerolinecolor\":\"white\",\"zerolinewidth\":2},\"yaxis\":{\"automargin\":true,\"gridcolor\":\"white\",\"linecolor\":\"white\",\"ticks\":\"\",\"title\":{\"standoff\":15},\"zerolinecolor\":\"white\",\"zerolinewidth\":2}}},\"xaxis\":{\"anchor\":\"y\",\"domain\":[0.0,1.0],\"title\":{\"text\":\"variable\"}},\"yaxis\":{\"anchor\":\"x\",\"domain\":[0.0,1.0],\"title\":{\"text\":\"Number of Profit\"}},\"legend\":{\"tracegroupgap\":0},\"margin\":{\"t\":60},\"boxmode\":\"group\",\"title\":{\"text\":\"Distribution of Profit\",\"x\":0.5}},                        {\"responsive\": true}                    ).then(function(){\n",
              "                            \n",
              "var gd = document.getElementById('8fb00d98-727c-40ab-9991-47e9b5353c42');\n",
              "var x = new MutationObserver(function (mutations, observer) {{\n",
              "        var display = window.getComputedStyle(gd).display;\n",
              "        if (!display || display === 'none') {{\n",
              "            console.log([gd, 'removed!']);\n",
              "            Plotly.purge(gd);\n",
              "            observer.disconnect();\n",
              "        }}\n",
              "}});\n",
              "\n",
              "// Listen for the removal of the full notebook cells\n",
              "var notebookContainer = gd.closest('#notebook-container');\n",
              "if (notebookContainer) {{\n",
              "    x.observe(notebookContainer, {childList: true});\n",
              "}}\n",
              "\n",
              "// Listen for the clearing of the current output cell\n",
              "var outputEl = gd.closest('.output');\n",
              "if (outputEl) {{\n",
              "    x.observe(outputEl, {childList: true});\n",
              "}}\n",
              "\n",
              "                        })                };                            </script>        </div>\n",
              "</body>\n",
              "</html>"
            ]
          },
          "metadata": {}
        }
      ]
    },
    {
      "cell_type": "code",
      "source": [
        "fig=px.scatter(data['Sales'],data['Profit'])\n",
        "fig.update_layout(title='Scatter Plot Sales VS Profit', xaxis_title =\"Sales\",yaxis_title=\"Profit\")\n",
        "fig.show()"
      ],
      "metadata": {
        "colab": {
          "base_uri": "https://localhost:8080/",
          "height": 542
        },
        "id": "lQ0NA9-4xwOf",
        "outputId": "67118a35-078c-4466-8645-bfcf63be8fa5"
      },
      "execution_count": 30,
      "outputs": [
        {
          "output_type": "display_data",
          "data": {
            "text/html": [
              "<html>\n",
              "<head><meta charset=\"utf-8\" /></head>\n",
              "<body>\n",
              "    <div>            <script src=\"https://cdnjs.cloudflare.com/ajax/libs/mathjax/2.7.5/MathJax.js?config=TeX-AMS-MML_SVG\"></script><script type=\"text/javascript\">if (window.MathJax) {MathJax.Hub.Config({SVG: {font: \"STIX-Web\"}});}</script>                <script type=\"text/javascript\">window.PlotlyConfig = {MathJaxConfig: 'local'};</script>\n",
              "        <script src=\"https://cdn.plot.ly/plotly-2.8.3.min.js\"></script>                <div id=\"3a9b762d-6bb1-424c-9ab3-242fc9493349\" class=\"plotly-graph-div\" style=\"height:525px; width:100%;\"></div>            <script type=\"text/javascript\">                                    window.PLOTLYENV=window.PLOTLYENV || {};                                    if (document.getElementById(\"3a9b762d-6bb1-424c-9ab3-242fc9493349\")) {                    Plotly.newPlot(                        \"3a9b762d-6bb1-424c-9ab3-242fc9493349\",                        [{\"hovertemplate\":\"x=%{x}<br>index=%{y}<extra></extra>\",\"legendgroup\":\"\",\"marker\":{\"color\":\"#636efa\",\"symbol\":\"circle\"},\"mode\":\"markers\",\"name\":\"\",\"showlegend\":false,\"x\":[-5,26,28,35,56,31,21,21,7,37,33,24,-7,1,-2,12,-6,45,33,47,36,64,76,26,48,27,-8,44,31,15,48,29,31,27,28,30,34,14,30,20,-8,49,13,13,30,20,44,33,1,30,52,-6,29,23,50,28,24,53,27,31,28,28,-3,-5,1,-5,30,16,27,36,17,-3,-7,39,42,52,83,46,31,31,10,55,49,36,-10,1,-3,18,-9,67,49,70,53,95,113,39,71,40,-12,65,46,22,71,43,46,40,42,45,50,21,45,30,-12,73,19,19,45,30,65,49,1,45,77,-9,43,34,74,42,36,79,40,46,42,42,-4,-7,1,-7,45,24,40,53,25,-4,27,48,13,27,20,79,10,18,34,35,30,0,57,27,30,15,27,23,28,29,47,31,-8,16,-7,-4,-8,27,38,33,34,29,24,-20,29,29,6,26,29,30,32,27,8,17,31,6,28,28,-4,-3,40,71,19,40,30,117,15,27,50,52,45,0,85,40,45,22,40,34,42,43,70,46,-12,24,-10,-6,-12,40,56,49,50,43,36,-30,43,43,9,39,43,45,47,40,12,25,46,9,42,42,-6,-4,27,26,-26,30,7,-6,28,6,13,18,32,-6,0,29,13,11,8,5,5,-3,29,31,27,-9,-8,9,-3,-4,32,-7,25,29,7,26,25,13,31,26,30,2,7,11,2,32,30,12,28,40,39,-39,45,10,-9,42,9,19,27,47,-9,0,43,19,16,12,7,7,-4,43,46,40,-13,-12,13,-4,-6,47,-10,37,43,10,39,37,19,46,39,45,3,10,16,3,47,45,18,42,-5,26,28,-11,55,46,58,27,16,16,23,-3,32,-4,32,32,47,26,52,20,1,16,38,2,49,-6,29,47,53,36,21,47,37,-2,-4,1,28,22,36,28,46,47,-7,39,42,-16,82,68,86,40,24,24,34,-4,47,-6,47,47,70,39,77,30,1,24,56,3,73,-9,43,70,79,53,31,70,55,-3,-6,1,42,33,53,42,68,70,16,20,16,13,15,14,17,15,-12,15,32,-3,14,17,-3,14,14,31,17,-4,11,-4,5,19,8,28,9,-3,12,12,17,10,8,-16,24,13,19,10,25,24,30,24,19,22,21,25,22,-18,22,47,-4,21,25,-4,21,21,46,25,-6,16,-6,7,28,12,42,13,-4,18,18,25,15,12,-24,36,19,28,15,37,78,26,78,55,35,28,65,15,76,57,16,33,59,38,32,45,2,44,-4,27,33,48,51,6,47,52,47,25,22,-7,21,23,26,116,39,116,82,52,42,96,22,113,85,24,49,88,56,47,67,3,65,-6,40,49,71,76,9,70,77,70,37,33,-10,31,34,39,26,185,133,45,47,23,74,-12,87,34,17,174,59,127,62,71,89,85,9,38,15,188,133,16,72,46,27,66,-15,121,77,9,20,39,275,197,67,70,34,110,-18,129,50,25,258,88,188,92,105,132,126,13,56,22,279,197,24,107,68,40,98,-22,180,114,13,30,115,1,122,105,171,1,181,156,76,60,64,348,247,18,-202,92,435,10,129,-170,115,134,78,89,51,63,324,236,15,-202,108,381,11,204,-156,84,127,122,58,73,390,271,21,-224,87,312,309,-189,89,133,113,89,95,516,367,27,-300,137,646,15,191,-252,171,199,116,132,76,93,481,350,22,-300,160,565,16,303,-232,125,188,181,86,108,579,402,31,-332,129,463,459,-280,132,197,116,115,56,149,12,133,120,79,224,92,92,133,116,65,76,74,-2,61,35,18,36,48,224,114,-26,149,183,-11,84,106,58,129,128,139,48,196,107,107,127,84,62,59,89,70,-3,51,8,38,16,51,45,196,107,129,173,88,122,47,157,134,194,53,216,87,87,133,88,72,121,66,-1,57,26,20,48,50,216,123,156,216,-16,172,171,83,221,18,197,178,117,332,137,137,197,172,96,113,110,-3,91,52,27,53,71,332,169,-39,221,272,-16,125,157,86,191,190,206,71,291,159,159,188,125,92,88,132,104,-4,76,12,56,24,76,67,291,159,191,257,131,181,70,233,199,288,79,321,129,129,197,131,107,180,98,-1,85,39,30,71,74,321,183,232,321,-24,-117,225,-74,247,149,27,115,186,134,29,34,17,91,48,-5,36,21,22,56,10,14,87,26,115,120,73,114,-27,224,16,149,-363,-12,-127,197,-56,235,129,26,84,174,128,38,16,108,39,14,50,9,85,26,122,138,70,107,196,128,62,-340,89,-149,216,-88,271,157,31,89,188,134,26,20,87,51,36,58,10,77,32,105,194,66,122,215,157,73,-408,121,-15,-174,334,-110,367,221,40,171,276,199,43,50,25,135,71,-7,53,31,33,83,15,21,129,39,171,178,108,169,-40,332,24,221,-539,-18,-188,292,-83,349,191,39,125,258,190,56,24,160,58,21,74,13,126,39,181,205,104,159,291,190,92,-505,132,-221,321,-131,402,233,46,132,279,199,39,30,129,76,53,86,15,114,47,156,288,98,181,319,233,108,-605,180,-22],\"xaxis\":\"x\",\"y\":[0,1,2,3,4,5,6,7,8,9,10,11,12,13,14,15,16,17,18,19,20,21,22,23,24,25,26,27,28,29,30,31,32,33,34,35,36,37,38,39,40,41,42,43,44,45,46,47,48,49,50,51,52,53,54,55,56,57,58,59,60,61,62,63,64,65,66,67,68,69,70,71,72,73,74,75,76,77,78,79,80,81,82,83,84,85,86,87,88,89,90,91,92,93,94,95,96,97,98,99,100,101,102,103,104,105,106,107,108,109,110,111,112,113,114,115,116,117,118,119,120,121,122,123,124,125,126,127,128,129,130,131,132,133,134,135,136,137,138,139,140,141,142,143,144,145,146,147,148,149,150,151,152,153,154,155,156,157,158,159,160,161,162,163,164,165,166,167,168,169,170,171,172,173,174,175,176,177,178,179,180,181,182,183,184,185,186,187,188,189,190,191,192,193,194,195,196,197,198,199,200,201,202,203,204,205,206,207,208,209,210,211,212,213,214,215,216,217,218,219,220,221,222,223,224,225,226,227,228,229,230,231,232,233,234,235,236,237,238,239,240,241,242,243,244,245,246,247,248,249,250,251,252,253,254,255,256,257,258,259,260,261,262,263,264,265,266,267,268,269,270,271,272,273,274,275,276,277,278,279,280,281,282,283,284,285,286,287,288,289,290,291,292,293,294,295,296,297,298,299,300,301,302,303,304,305,306,307,308,309,310,311,312,313,314,315,316,317,318,319,320,321,322,323,324,325,326,327,328,329,330,331,332,333,334,335,336,337,338,339,340,341,342,343,344,345,346,347,348,349,350,351,352,353,354,355,356,357,358,359,360,361,362,363,364,365,366,367,368,369,370,371,372,373,374,375,376,377,378,379,380,381,382,383,384,385,386,387,388,389,390,391,392,393,394,395,396,397,398,399,400,401,402,403,404,405,406,407,408,409,410,411,412,413,414,415,416,417,418,419,420,421,422,423,424,425,426,427,428,429,430,431,432,433,434,435,436,437,438,439,440,441,442,443,444,445,446,447,448,449,450,451,452,453,454,455,456,457,458,459,460,461,462,463,464,465,466,467,468,469,470,471,472,473,474,475,476,477,478,479,480,481,482,483,484,485,486,487,488,489,490,491,492,493,494,495,496,497,498,499,500,501,502,503,504,505,506,507,508,509,510,511,512,513,514,515,516,517,518,519,520,521,522,523,524,525,526,527,528,529,530,531,532,533,534,535,536,537,538,539,540,541,542,543,544,545,546,547,548,549,550,551,552,553,554,555,556,557,558,559,560,561,562,563,564,565,566,567,568,569,570,571,572,573,574,575,576,577,578,579,580,581,582,583,584,585,586,587,588,589,590,591,592,593,594,595,596,597,598,599,600,601,602,603,604,605,606,607,608,609,610,611,612,613,614,615,616,617,618,619,620,621,622,623,624,625,626,627,628,629,630,631,632,633,634,635,636,637,638,639,640,641,642,643,644,645,646,647,648,649,650,651,652,653,654,655,656,657,658,659,660,661,662,663,664,665,666,667,668,669,670,671,672,673,674,675,676,677,678,679,680,681,682,683,684,685,686,687,688,689,690,691,692,693,694,695,696,697,698,699,700,701,702,703,704,705,706,707,708,709,710,711,712,713,714,715,716,717,718,719,720,721,722,723,724,725,726,727,728,729,730,731,732,733,734,735,736,737,738,739,740,741,742,743,744,745,746,747,748,749,750,751,752,753,754,755,756,757,758,759,760,761,762,763,764,765,766,767,768,769,770,771,772,773,774,775,776,777,778,779,780,781,782,783,784,785,786,787,788,789,790,791,792,793,794,795,796,797,798,799,800,801,802,803,804,805,806,807,808,809,810,811,812,813,814,815,816,817,818,819,820,821,822,823,824,825,826,827,828,829,830,831,832,833,834,835,836,837,838,839,840,841,842,843,844,845,846,847,848,849,850,851,852,853,854,855,856,857,858,859,860,861,862,863,864,865,866,867,868,869,870,871,872,873,874,875,876,877,878,879,880,881,882,883,884,885,886,887,888,889,890,891,892,893,894,895,896,897,898,899,900,901,902,903,904,905,906,907,908,909,910,911,912,913,914,915,916,917,918,919,920,921,922,923,924,925,926,927,928,929,930,931,932,933,934,935,936,937,938,939,940,941,942,943,944,945,946,947,948,949,950,951,952,953,954,955,956,957,958,959,960,961,962,963,964,965,966,967,968,969,970,971,972,973,974,975,976,977,978,979,980,981,982,983,984,985,986,987,988,989,990,991,992,993,994,995,996,997,998,999,1000,1001,1002,1003,1004,1005,1006,1007,1008,1009,1010,1011,1012,1013,1014,1015,1016,1017,1018,1019,1020,1021,1022,1023,1024,1025,1026,1027,1028,1029,1030,1031,1032,1033,1034,1035,1036,1037,1038,1039,1040,1041,1042,1043,1044,1045,1046,1047,1048,1049,1050,1051,1052,1053,1054,1055,1056,1057,1058,1059,1060,1061],\"yaxis\":\"y\",\"type\":\"scattergl\"}],                        {\"template\":{\"data\":{\"bar\":[{\"error_x\":{\"color\":\"#2a3f5f\"},\"error_y\":{\"color\":\"#2a3f5f\"},\"marker\":{\"line\":{\"color\":\"#E5ECF6\",\"width\":0.5},\"pattern\":{\"fillmode\":\"overlay\",\"size\":10,\"solidity\":0.2}},\"type\":\"bar\"}],\"barpolar\":[{\"marker\":{\"line\":{\"color\":\"#E5ECF6\",\"width\":0.5},\"pattern\":{\"fillmode\":\"overlay\",\"size\":10,\"solidity\":0.2}},\"type\":\"barpolar\"}],\"carpet\":[{\"aaxis\":{\"endlinecolor\":\"#2a3f5f\",\"gridcolor\":\"white\",\"linecolor\":\"white\",\"minorgridcolor\":\"white\",\"startlinecolor\":\"#2a3f5f\"},\"baxis\":{\"endlinecolor\":\"#2a3f5f\",\"gridcolor\":\"white\",\"linecolor\":\"white\",\"minorgridcolor\":\"white\",\"startlinecolor\":\"#2a3f5f\"},\"type\":\"carpet\"}],\"choropleth\":[{\"colorbar\":{\"outlinewidth\":0,\"ticks\":\"\"},\"type\":\"choropleth\"}],\"contour\":[{\"colorbar\":{\"outlinewidth\":0,\"ticks\":\"\"},\"colorscale\":[[0.0,\"#0d0887\"],[0.1111111111111111,\"#46039f\"],[0.2222222222222222,\"#7201a8\"],[0.3333333333333333,\"#9c179e\"],[0.4444444444444444,\"#bd3786\"],[0.5555555555555556,\"#d8576b\"],[0.6666666666666666,\"#ed7953\"],[0.7777777777777778,\"#fb9f3a\"],[0.8888888888888888,\"#fdca26\"],[1.0,\"#f0f921\"]],\"type\":\"contour\"}],\"contourcarpet\":[{\"colorbar\":{\"outlinewidth\":0,\"ticks\":\"\"},\"type\":\"contourcarpet\"}],\"heatmap\":[{\"colorbar\":{\"outlinewidth\":0,\"ticks\":\"\"},\"colorscale\":[[0.0,\"#0d0887\"],[0.1111111111111111,\"#46039f\"],[0.2222222222222222,\"#7201a8\"],[0.3333333333333333,\"#9c179e\"],[0.4444444444444444,\"#bd3786\"],[0.5555555555555556,\"#d8576b\"],[0.6666666666666666,\"#ed7953\"],[0.7777777777777778,\"#fb9f3a\"],[0.8888888888888888,\"#fdca26\"],[1.0,\"#f0f921\"]],\"type\":\"heatmap\"}],\"heatmapgl\":[{\"colorbar\":{\"outlinewidth\":0,\"ticks\":\"\"},\"colorscale\":[[0.0,\"#0d0887\"],[0.1111111111111111,\"#46039f\"],[0.2222222222222222,\"#7201a8\"],[0.3333333333333333,\"#9c179e\"],[0.4444444444444444,\"#bd3786\"],[0.5555555555555556,\"#d8576b\"],[0.6666666666666666,\"#ed7953\"],[0.7777777777777778,\"#fb9f3a\"],[0.8888888888888888,\"#fdca26\"],[1.0,\"#f0f921\"]],\"type\":\"heatmapgl\"}],\"histogram\":[{\"marker\":{\"pattern\":{\"fillmode\":\"overlay\",\"size\":10,\"solidity\":0.2}},\"type\":\"histogram\"}],\"histogram2d\":[{\"colorbar\":{\"outlinewidth\":0,\"ticks\":\"\"},\"colorscale\":[[0.0,\"#0d0887\"],[0.1111111111111111,\"#46039f\"],[0.2222222222222222,\"#7201a8\"],[0.3333333333333333,\"#9c179e\"],[0.4444444444444444,\"#bd3786\"],[0.5555555555555556,\"#d8576b\"],[0.6666666666666666,\"#ed7953\"],[0.7777777777777778,\"#fb9f3a\"],[0.8888888888888888,\"#fdca26\"],[1.0,\"#f0f921\"]],\"type\":\"histogram2d\"}],\"histogram2dcontour\":[{\"colorbar\":{\"outlinewidth\":0,\"ticks\":\"\"},\"colorscale\":[[0.0,\"#0d0887\"],[0.1111111111111111,\"#46039f\"],[0.2222222222222222,\"#7201a8\"],[0.3333333333333333,\"#9c179e\"],[0.4444444444444444,\"#bd3786\"],[0.5555555555555556,\"#d8576b\"],[0.6666666666666666,\"#ed7953\"],[0.7777777777777778,\"#fb9f3a\"],[0.8888888888888888,\"#fdca26\"],[1.0,\"#f0f921\"]],\"type\":\"histogram2dcontour\"}],\"mesh3d\":[{\"colorbar\":{\"outlinewidth\":0,\"ticks\":\"\"},\"type\":\"mesh3d\"}],\"parcoords\":[{\"line\":{\"colorbar\":{\"outlinewidth\":0,\"ticks\":\"\"}},\"type\":\"parcoords\"}],\"pie\":[{\"automargin\":true,\"type\":\"pie\"}],\"scatter\":[{\"marker\":{\"colorbar\":{\"outlinewidth\":0,\"ticks\":\"\"}},\"type\":\"scatter\"}],\"scatter3d\":[{\"line\":{\"colorbar\":{\"outlinewidth\":0,\"ticks\":\"\"}},\"marker\":{\"colorbar\":{\"outlinewidth\":0,\"ticks\":\"\"}},\"type\":\"scatter3d\"}],\"scattercarpet\":[{\"marker\":{\"colorbar\":{\"outlinewidth\":0,\"ticks\":\"\"}},\"type\":\"scattercarpet\"}],\"scattergeo\":[{\"marker\":{\"colorbar\":{\"outlinewidth\":0,\"ticks\":\"\"}},\"type\":\"scattergeo\"}],\"scattergl\":[{\"marker\":{\"colorbar\":{\"outlinewidth\":0,\"ticks\":\"\"}},\"type\":\"scattergl\"}],\"scattermapbox\":[{\"marker\":{\"colorbar\":{\"outlinewidth\":0,\"ticks\":\"\"}},\"type\":\"scattermapbox\"}],\"scatterpolar\":[{\"marker\":{\"colorbar\":{\"outlinewidth\":0,\"ticks\":\"\"}},\"type\":\"scatterpolar\"}],\"scatterpolargl\":[{\"marker\":{\"colorbar\":{\"outlinewidth\":0,\"ticks\":\"\"}},\"type\":\"scatterpolargl\"}],\"scatterternary\":[{\"marker\":{\"colorbar\":{\"outlinewidth\":0,\"ticks\":\"\"}},\"type\":\"scatterternary\"}],\"surface\":[{\"colorbar\":{\"outlinewidth\":0,\"ticks\":\"\"},\"colorscale\":[[0.0,\"#0d0887\"],[0.1111111111111111,\"#46039f\"],[0.2222222222222222,\"#7201a8\"],[0.3333333333333333,\"#9c179e\"],[0.4444444444444444,\"#bd3786\"],[0.5555555555555556,\"#d8576b\"],[0.6666666666666666,\"#ed7953\"],[0.7777777777777778,\"#fb9f3a\"],[0.8888888888888888,\"#fdca26\"],[1.0,\"#f0f921\"]],\"type\":\"surface\"}],\"table\":[{\"cells\":{\"fill\":{\"color\":\"#EBF0F8\"},\"line\":{\"color\":\"white\"}},\"header\":{\"fill\":{\"color\":\"#C8D4E3\"},\"line\":{\"color\":\"white\"}},\"type\":\"table\"}]},\"layout\":{\"annotationdefaults\":{\"arrowcolor\":\"#2a3f5f\",\"arrowhead\":0,\"arrowwidth\":1},\"autotypenumbers\":\"strict\",\"coloraxis\":{\"colorbar\":{\"outlinewidth\":0,\"ticks\":\"\"}},\"colorscale\":{\"diverging\":[[0,\"#8e0152\"],[0.1,\"#c51b7d\"],[0.2,\"#de77ae\"],[0.3,\"#f1b6da\"],[0.4,\"#fde0ef\"],[0.5,\"#f7f7f7\"],[0.6,\"#e6f5d0\"],[0.7,\"#b8e186\"],[0.8,\"#7fbc41\"],[0.9,\"#4d9221\"],[1,\"#276419\"]],\"sequential\":[[0.0,\"#0d0887\"],[0.1111111111111111,\"#46039f\"],[0.2222222222222222,\"#7201a8\"],[0.3333333333333333,\"#9c179e\"],[0.4444444444444444,\"#bd3786\"],[0.5555555555555556,\"#d8576b\"],[0.6666666666666666,\"#ed7953\"],[0.7777777777777778,\"#fb9f3a\"],[0.8888888888888888,\"#fdca26\"],[1.0,\"#f0f921\"]],\"sequentialminus\":[[0.0,\"#0d0887\"],[0.1111111111111111,\"#46039f\"],[0.2222222222222222,\"#7201a8\"],[0.3333333333333333,\"#9c179e\"],[0.4444444444444444,\"#bd3786\"],[0.5555555555555556,\"#d8576b\"],[0.6666666666666666,\"#ed7953\"],[0.7777777777777778,\"#fb9f3a\"],[0.8888888888888888,\"#fdca26\"],[1.0,\"#f0f921\"]]},\"colorway\":[\"#636efa\",\"#EF553B\",\"#00cc96\",\"#ab63fa\",\"#FFA15A\",\"#19d3f3\",\"#FF6692\",\"#B6E880\",\"#FF97FF\",\"#FECB52\"],\"font\":{\"color\":\"#2a3f5f\"},\"geo\":{\"bgcolor\":\"white\",\"lakecolor\":\"white\",\"landcolor\":\"#E5ECF6\",\"showlakes\":true,\"showland\":true,\"subunitcolor\":\"white\"},\"hoverlabel\":{\"align\":\"left\"},\"hovermode\":\"closest\",\"mapbox\":{\"style\":\"light\"},\"paper_bgcolor\":\"white\",\"plot_bgcolor\":\"#E5ECF6\",\"polar\":{\"angularaxis\":{\"gridcolor\":\"white\",\"linecolor\":\"white\",\"ticks\":\"\"},\"bgcolor\":\"#E5ECF6\",\"radialaxis\":{\"gridcolor\":\"white\",\"linecolor\":\"white\",\"ticks\":\"\"}},\"scene\":{\"xaxis\":{\"backgroundcolor\":\"#E5ECF6\",\"gridcolor\":\"white\",\"gridwidth\":2,\"linecolor\":\"white\",\"showbackground\":true,\"ticks\":\"\",\"zerolinecolor\":\"white\"},\"yaxis\":{\"backgroundcolor\":\"#E5ECF6\",\"gridcolor\":\"white\",\"gridwidth\":2,\"linecolor\":\"white\",\"showbackground\":true,\"ticks\":\"\",\"zerolinecolor\":\"white\"},\"zaxis\":{\"backgroundcolor\":\"#E5ECF6\",\"gridcolor\":\"white\",\"gridwidth\":2,\"linecolor\":\"white\",\"showbackground\":true,\"ticks\":\"\",\"zerolinecolor\":\"white\"}},\"shapedefaults\":{\"line\":{\"color\":\"#2a3f5f\"}},\"ternary\":{\"aaxis\":{\"gridcolor\":\"white\",\"linecolor\":\"white\",\"ticks\":\"\"},\"baxis\":{\"gridcolor\":\"white\",\"linecolor\":\"white\",\"ticks\":\"\"},\"bgcolor\":\"#E5ECF6\",\"caxis\":{\"gridcolor\":\"white\",\"linecolor\":\"white\",\"ticks\":\"\"}},\"title\":{\"x\":0.05},\"xaxis\":{\"automargin\":true,\"gridcolor\":\"white\",\"linecolor\":\"white\",\"ticks\":\"\",\"title\":{\"standoff\":15},\"zerolinecolor\":\"white\",\"zerolinewidth\":2},\"yaxis\":{\"automargin\":true,\"gridcolor\":\"white\",\"linecolor\":\"white\",\"ticks\":\"\",\"title\":{\"standoff\":15},\"zerolinecolor\":\"white\",\"zerolinewidth\":2}}},\"xaxis\":{\"anchor\":\"y\",\"domain\":[0.0,1.0],\"title\":{\"text\":\"Sales\"}},\"yaxis\":{\"anchor\":\"x\",\"domain\":[0.0,1.0],\"title\":{\"text\":\"Profit\"}},\"legend\":{\"tracegroupgap\":0},\"margin\":{\"t\":60},\"title\":{\"text\":\"Scatter Plot Sales VS Profit\"}},                        {\"responsive\": true}                    ).then(function(){\n",
              "                            \n",
              "var gd = document.getElementById('3a9b762d-6bb1-424c-9ab3-242fc9493349');\n",
              "var x = new MutationObserver(function (mutations, observer) {{\n",
              "        var display = window.getComputedStyle(gd).display;\n",
              "        if (!display || display === 'none') {{\n",
              "            console.log([gd, 'removed!']);\n",
              "            Plotly.purge(gd);\n",
              "            observer.disconnect();\n",
              "        }}\n",
              "}});\n",
              "\n",
              "// Listen for the removal of the full notebook cells\n",
              "var notebookContainer = gd.closest('#notebook-container');\n",
              "if (notebookContainer) {{\n",
              "    x.observe(notebookContainer, {childList: true});\n",
              "}}\n",
              "\n",
              "// Listen for the clearing of the current output cell\n",
              "var outputEl = gd.closest('.output');\n",
              "if (outputEl) {{\n",
              "    x.observe(outputEl, {childList: true});\n",
              "}}\n",
              "\n",
              "                        })                };                            </script>        </div>\n",
              "</body>\n",
              "</html>"
            ]
          },
          "metadata": {}
        }
      ]
    },
    {
      "cell_type": "code",
      "source": [
        "mean_sales=np.mean(data['Sales'])\n",
        "var_sales=np.var(data['Sales'])\n",
        "print('Mean Sales: ',mean_sales)\n",
        "print('Var Sales: ',var_sales)"
      ],
      "metadata": {
        "colab": {
          "base_uri": "https://localhost:8080/"
        },
        "id": "enWOINcT0cK1",
        "outputId": "104e7349-2142-4f8e-d5fc-9ab01822bf27"
      },
      "execution_count": 11,
      "outputs": [
        {
          "output_type": "stream",
          "name": "stdout",
          "text": [
            "Mean Sales:  191.04990583804144\n",
            "Var Sales:  21963.386398296232\n"
          ]
        }
      ]
    },
    {
      "cell_type": "code",
      "source": [
        "mean_profit=np.mean(data['Profit'])\n",
        "var_profit=np.var(data['Profit'])\n",
        "print('Mean Profit: ',mean_profit)\n",
        "print('Var Profit: ',var_profit)"
      ],
      "metadata": {
        "colab": {
          "base_uri": "https://localhost:8080/"
        },
        "id": "BUs5cnXV1Gvk",
        "outputId": "7cf3378a-b3f0-4086-9d47-3cafd8e490c7"
      },
      "execution_count": 12,
      "outputs": [
        {
          "output_type": "stream",
          "name": "stdout",
          "text": [
            "Mean Profit:  60.556497175141246\n",
            "Var Profit:  10094.071666826258\n"
          ]
        }
      ]
    },
    {
      "cell_type": "code",
      "source": [
        "def covariance(sales, profit):\n",
        "  mean_sales=np.mean(sales)\n",
        "  mean_profit=np.mean(profit)\n",
        "  covar=0.0\n",
        "  for i in range(len(sales)):\n",
        "    covar += (sales[i]-mean_sales) * (profit[i]-mean_profit)\n",
        "  return covar/len(sales)\n",
        "\n",
        "\n",
        "covar_data=covariance(data['Sales'], data['Profit'])\n",
        "print('Covariance Data: ',covar_data)"
      ],
      "metadata": {
        "colab": {
          "base_uri": "https://localhost:8080/"
        },
        "id": "dgYctK6o2aOz",
        "outputId": "687a9b05-a316-41dd-c2e9-fcd72a589356"
      },
      "execution_count": 43,
      "outputs": [
        {
          "output_type": "stream",
          "name": "stdout",
          "text": [
            "Covariance Data:  11910.565447881101\n"
          ]
        }
      ]
    },
    {
      "cell_type": "code",
      "source": [
        "b1 = covar_data / var_sales  #formula y=bo+b1.x\n",
        "b0 = mean_profit - b1 * mean_sales\n",
        "print('b1: ',b1)\n",
        "print('b0: ',b0)"
      ],
      "metadata": {
        "colab": {
          "base_uri": "https://localhost:8080/"
        },
        "id": "0cb3n-OW8QrY",
        "outputId": "c4a3cbac-3db1-40d0-a64d-204eeb632a63"
      },
      "execution_count": 45,
      "outputs": [
        {
          "output_type": "stream",
          "name": "stdout",
          "text": [
            "b1:  0.5422918502588034\n",
            "b0:  -43.04830975354042\n"
          ]
        }
      ]
    },
    {
      "cell_type": "markdown",
      "source": [
        "formula y=b0+b1.x\n",
        "we have coef. b0 and b1, \n",
        "x from data['Sales']"
      ],
      "metadata": {
        "id": "PIWq8lIa9Vo4"
      }
    },
    {
      "cell_type": "code",
      "source": [
        "sales = data['Sales'].values.copy() \n",
        "print(f'sales: {sales}')"
      ],
      "metadata": {
        "colab": {
          "base_uri": "https://localhost:8080/"
        },
        "id": "xDWvL0IP81vj",
        "outputId": "da5534d8-d829-424c-87b9-ac5513c2ca4a"
      },
      "execution_count": 48,
      "outputs": [
        {
          "output_type": "stream",
          "name": "stdout",
          "text": [
            "sales: [122 123 107 ...  33 341  48]\n"
          ]
        }
      ]
    },
    {
      "cell_type": "code",
      "source": [
        "y_pred=b0+b1*sales\n",
        "print('y prediksi: ',y_pred)"
      ],
      "metadata": {
        "colab": {
          "base_uri": "https://localhost:8080/"
        },
        "id": "vmdkrEWt9uYv",
        "outputId": "28190d4f-435e-491a-a357-49e868cb89ec"
      },
      "execution_count": 53,
      "outputs": [
        {
          "output_type": "stream",
          "name": "stdout",
          "text": [
            "y prediksi:  [ 23.11129598  23.65358783  14.97691822 ... -25.15267869 141.87321118\n",
            " -17.01830094]\n"
          ]
        }
      ]
    },
    {
      "cell_type": "code",
      "source": [
        "fig = go.Figure()\n",
        "fig.add_trace(go.Scatter(x=data['Sales'], y=data['Profit'], name='train', mode='markers'))\n",
        "fig.add_trace(go.Scatter(x=data['Sales'], y=y_pred, name='prediction', mode='lines+markers'))"
      ],
      "metadata": {
        "colab": {
          "base_uri": "https://localhost:8080/",
          "height": 542
        },
        "id": "1ARu0ckq_Xrt",
        "outputId": "933220b9-3083-49df-cada-8f1e315bbf6d"
      },
      "execution_count": 58,
      "outputs": [
        {
          "output_type": "display_data",
          "data": {
            "text/html": [
              "<html>\n",
              "<head><meta charset=\"utf-8\" /></head>\n",
              "<body>\n",
              "    <div>            <script src=\"https://cdnjs.cloudflare.com/ajax/libs/mathjax/2.7.5/MathJax.js?config=TeX-AMS-MML_SVG\"></script><script type=\"text/javascript\">if (window.MathJax) {MathJax.Hub.Config({SVG: {font: \"STIX-Web\"}});}</script>                <script type=\"text/javascript\">window.PlotlyConfig = {MathJaxConfig: 'local'};</script>\n",
              "        <script src=\"https://cdn.plot.ly/plotly-2.8.3.min.js\"></script>                <div id=\"347ecdf9-57bf-4e14-81cc-b09c279fd661\" class=\"plotly-graph-div\" style=\"height:525px; width:100%;\"></div>            <script type=\"text/javascript\">                                    window.PLOTLYENV=window.PLOTLYENV || {};                                    if (document.getElementById(\"347ecdf9-57bf-4e14-81cc-b09c279fd661\")) {                    Plotly.newPlot(                        \"347ecdf9-57bf-4e14-81cc-b09c279fd661\",                        [{\"mode\":\"markers\",\"name\":\"train\",\"x\":[122,123,107,94,182,43,111,66,68,99,120,114,109,144,77,120,109,118,120,119,99,205,218,92,123,92,120,164,114,124,123,125,88,81,78,88,120,121,113,109,106,141,121,121,113,109,115,90,147,99,133,112,127,145,176,127,101,133,77,85,82,122,131,118,88,118,107,160,153,139,160,131,130,131,114,100,194,46,118,70,72,106,128,121,116,153,82,128,116,126,128,127,106,218,232,98,131,98,128,175,121,132,131,133,94,86,83,94,128,129,120,116,113,150,129,129,120,116,123,96,157,106,142,119,135,155,188,135,108,142,82,91,87,130,140,126,94,126,114,171,163,148,171,140,90,174,120,118,66,187,51,58,177,142,113,144,159,92,88,124,92,70,78,80,123,43,122,56,106,74,106,78,150,120,120,99,101,99,99,99,103,116,82,85,43,106,69,58,107,103,106,82,118,131,96,185,128,126,70,199,54,62,189,151,120,153,169,98,94,132,98,75,83,85,131,46,130,60,113,79,113,83,160,128,128,106,108,106,106,106,110,124,87,91,46,113,74,62,114,110,113,87,126,140,90,90,109,113,68,109,79,68,92,60,43,109,144,80,121,52,82,64,64,76,80,43,81,122,122,82,76,74,43,106,73,82,103,75,73,56,43,77,85,88,69,89,88,43,107,89,106,96,96,116,120,72,116,84,72,98,64,46,116,153,85,129,55,87,68,68,81,85,46,86,130,130,87,81,79,46,113,78,87,110,80,78,60,46,82,91,94,74,95,94,46,114,95,113,122,123,107,116,182,118,159,123,126,126,114,125,114,125,138,138,123,124,132,109,147,124,184,147,141,112,127,168,133,139,114,123,127,131,118,98,127,145,127,122,120,123,130,131,114,124,194,126,169,131,134,134,121,133,121,133,147,147,131,132,141,116,157,132,196,157,150,119,135,179,142,148,121,131,135,140,126,104,135,155,135,130,128,131,53,66,126,120,53,92,58,52,56,53,43,77,52,61,77,52,92,113,56,76,52,74,64,63,39,80,82,76,56,89,58,41,69,45,73,56,60,41,73,56,70,134,128,56,98,62,55,60,56,46,82,55,65,82,55,98,120,60,81,55,79,68,67,42,85,87,81,60,95,62,44,74,48,78,60,64,44,78,187,123,187,182,142,79,205,126,218,159,124,138,189,150,114,164,147,115,125,124,138,141,132,103,168,133,168,101,145,112,114,145,153,199,131,199,194,151,84,218,134,232,169,132,147,201,160,121,175,157,123,133,132,147,150,141,110,179,142,179,108,155,119,121,155,163,90,520,302,118,119,114,205,56,236,177,230,490,189,290,197,200,245,231,39,184,224,525,302,160,221,120,122,185,45,320,214,41,250,96,554,322,126,127,121,218,60,251,189,245,522,201,309,210,213,261,246,42,196,239,559,322,171,236,128,130,197,48,341,228,44,266,313,144,325,289,334,153,346,308,218,202,205,474,650,230,69,322,765,51,513,164,265,302,187,245,180,197,454,623,224,61,363,675,52,576,160,198,290,320,195,221,510,699,250,66,306,657,747,148,210,302,232,215,218,505,693,245,74,343,815,54,547,175,282,322,199,261,192,210,484,664,239,65,387,719,55,614,171,211,309,341,208,236,543,745,266,70,326,700,796,158,224,322,265,298,182,478,120,302,367,187,598,322,322,302,265,205,218,205,23,202,177,230,99,174,598,298,109,478,567,56,198,278,189,423,290,412,123,532,363,363,290,198,197,189,245,200,23,180,39,184,224,132,164,532,278,423,545,210,312,168,501,302,534,133,576,306,306,302,210,221,320,185,24,195,153,250,123,176,576,312,501,654,45,282,318,194,509,128,322,391,199,637,343,343,322,282,218,232,218,25,215,189,245,106,185,637,318,116,509,604,60,211,296,201,451,309,439,131,567,387,387,309,211,210,201,261,213,25,192,42,196,239,141,175,567,296,451,581,224,332,179,534,322,569,142,614,326,326,322,224,236,341,197,26,208,163,266,131,188,614,332,534,697,48,130,598,109,650,478,298,265,520,302,107,177,230,322,174,122,142,144,111,167,51,52,236,298,313,367,205,298,109,598,53,478,21,56,146,532,116,623,423,289,198,490,290,184,224,363,150,128,156,39,231,289,325,412,200,278,532,423,197,32,245,192,576,102,699,501,322,210,525,302,153,250,306,176,139,176,41,214,322,289,534,185,312,576,501,221,31,320,45,139,637,116,693,509,318,282,554,322,114,189,245,343,185,130,151,153,118,178,54,55,251,318,334,391,218,318,116,637,56,509,22,60,156,567,124,664,451,308,211,522,309,196,239,387,160,136,166,42,246,308,346,439,213,296,567,451,210,34,261,205,614,109,745,534,343,224,559,322,163,266,326,188,148,188,44,228,343,308,569,197,332,614,534,236,33,341,48],\"y\":[-5,26,28,35,56,31,21,21,7,37,33,24,-7,1,-2,12,-6,45,33,47,36,64,76,26,48,27,-8,44,31,15,48,29,31,27,28,30,34,14,30,20,-8,49,13,13,30,20,44,33,1,30,52,-6,29,23,50,28,24,53,27,31,28,28,-3,-5,1,-5,30,16,27,36,17,-3,-7,39,42,52,83,46,31,31,10,55,49,36,-10,1,-3,18,-9,67,49,70,53,95,113,39,71,40,-12,65,46,22,71,43,46,40,42,45,50,21,45,30,-12,73,19,19,45,30,65,49,1,45,77,-9,43,34,74,42,36,79,40,46,42,42,-4,-7,1,-7,45,24,40,53,25,-4,27,48,13,27,20,79,10,18,34,35,30,0,57,27,30,15,27,23,28,29,47,31,-8,16,-7,-4,-8,27,38,33,34,29,24,-20,29,29,6,26,29,30,32,27,8,17,31,6,28,28,-4,-3,40,71,19,40,30,117,15,27,50,52,45,0,85,40,45,22,40,34,42,43,70,46,-12,24,-10,-6,-12,40,56,49,50,43,36,-30,43,43,9,39,43,45,47,40,12,25,46,9,42,42,-6,-4,27,26,-26,30,7,-6,28,6,13,18,32,-6,0,29,13,11,8,5,5,-3,29,31,27,-9,-8,9,-3,-4,32,-7,25,29,7,26,25,13,31,26,30,2,7,11,2,32,30,12,28,40,39,-39,45,10,-9,42,9,19,27,47,-9,0,43,19,16,12,7,7,-4,43,46,40,-13,-12,13,-4,-6,47,-10,37,43,10,39,37,19,46,39,45,3,10,16,3,47,45,18,42,-5,26,28,-11,55,46,58,27,16,16,23,-3,32,-4,32,32,47,26,52,20,1,16,38,2,49,-6,29,47,53,36,21,47,37,-2,-4,1,28,22,36,28,46,47,-7,39,42,-16,82,68,86,40,24,24,34,-4,47,-6,47,47,70,39,77,30,1,24,56,3,73,-9,43,70,79,53,31,70,55,-3,-6,1,42,33,53,42,68,70,16,20,16,13,15,14,17,15,-12,15,32,-3,14,17,-3,14,14,31,17,-4,11,-4,5,19,8,28,9,-3,12,12,17,10,8,-16,24,13,19,10,25,24,30,24,19,22,21,25,22,-18,22,47,-4,21,25,-4,21,21,46,25,-6,16,-6,7,28,12,42,13,-4,18,18,25,15,12,-24,36,19,28,15,37,78,26,78,55,35,28,65,15,76,57,16,33,59,38,32,45,2,44,-4,27,33,48,51,6,47,52,47,25,22,-7,21,23,26,116,39,116,82,52,42,96,22,113,85,24,49,88,56,47,67,3,65,-6,40,49,71,76,9,70,77,70,37,33,-10,31,34,39,26,185,133,45,47,23,74,-12,87,34,17,174,59,127,62,71,89,85,9,38,15,188,133,16,72,46,27,66,-15,121,77,9,20,39,275,197,67,70,34,110,-18,129,50,25,258,88,188,92,105,132,126,13,56,22,279,197,24,107,68,40,98,-22,180,114,13,30,115,1,122,105,171,1,181,156,76,60,64,348,247,18,-202,92,435,10,129,-170,115,134,78,89,51,63,324,236,15,-202,108,381,11,204,-156,84,127,122,58,73,390,271,21,-224,87,312,309,-189,89,133,113,89,95,516,367,27,-300,137,646,15,191,-252,171,199,116,132,76,93,481,350,22,-300,160,565,16,303,-232,125,188,181,86,108,579,402,31,-332,129,463,459,-280,132,197,116,115,56,149,12,133,120,79,224,92,92,133,116,65,76,74,-2,61,35,18,36,48,224,114,-26,149,183,-11,84,106,58,129,128,139,48,196,107,107,127,84,62,59,89,70,-3,51,8,38,16,51,45,196,107,129,173,88,122,47,157,134,194,53,216,87,87,133,88,72,121,66,-1,57,26,20,48,50,216,123,156,216,-16,172,171,83,221,18,197,178,117,332,137,137,197,172,96,113,110,-3,91,52,27,53,71,332,169,-39,221,272,-16,125,157,86,191,190,206,71,291,159,159,188,125,92,88,132,104,-4,76,12,56,24,76,67,291,159,191,257,131,181,70,233,199,288,79,321,129,129,197,131,107,180,98,-1,85,39,30,71,74,321,183,232,321,-24,-117,225,-74,247,149,27,115,186,134,29,34,17,91,48,-5,36,21,22,56,10,14,87,26,115,120,73,114,-27,224,16,149,-363,-12,-127,197,-56,235,129,26,84,174,128,38,16,108,39,14,50,9,85,26,122,138,70,107,196,128,62,-340,89,-149,216,-88,271,157,31,89,188,134,26,20,87,51,36,58,10,77,32,105,194,66,122,215,157,73,-408,121,-15,-174,334,-110,367,221,40,171,276,199,43,50,25,135,71,-7,53,31,33,83,15,21,129,39,171,178,108,169,-40,332,24,221,-539,-18,-188,292,-83,349,191,39,125,258,190,56,24,160,58,21,74,13,126,39,181,205,104,159,291,190,92,-505,132,-221,321,-131,402,233,46,132,279,199,39,30,129,76,53,86,15,114,47,156,288,98,181,319,233,108,-605,180,-22],\"type\":\"scatter\"},{\"mode\":\"lines+markers\",\"name\":\"prediction\",\"x\":[122,123,107,94,182,43,111,66,68,99,120,114,109,144,77,120,109,118,120,119,99,205,218,92,123,92,120,164,114,124,123,125,88,81,78,88,120,121,113,109,106,141,121,121,113,109,115,90,147,99,133,112,127,145,176,127,101,133,77,85,82,122,131,118,88,118,107,160,153,139,160,131,130,131,114,100,194,46,118,70,72,106,128,121,116,153,82,128,116,126,128,127,106,218,232,98,131,98,128,175,121,132,131,133,94,86,83,94,128,129,120,116,113,150,129,129,120,116,123,96,157,106,142,119,135,155,188,135,108,142,82,91,87,130,140,126,94,126,114,171,163,148,171,140,90,174,120,118,66,187,51,58,177,142,113,144,159,92,88,124,92,70,78,80,123,43,122,56,106,74,106,78,150,120,120,99,101,99,99,99,103,116,82,85,43,106,69,58,107,103,106,82,118,131,96,185,128,126,70,199,54,62,189,151,120,153,169,98,94,132,98,75,83,85,131,46,130,60,113,79,113,83,160,128,128,106,108,106,106,106,110,124,87,91,46,113,74,62,114,110,113,87,126,140,90,90,109,113,68,109,79,68,92,60,43,109,144,80,121,52,82,64,64,76,80,43,81,122,122,82,76,74,43,106,73,82,103,75,73,56,43,77,85,88,69,89,88,43,107,89,106,96,96,116,120,72,116,84,72,98,64,46,116,153,85,129,55,87,68,68,81,85,46,86,130,130,87,81,79,46,113,78,87,110,80,78,60,46,82,91,94,74,95,94,46,114,95,113,122,123,107,116,182,118,159,123,126,126,114,125,114,125,138,138,123,124,132,109,147,124,184,147,141,112,127,168,133,139,114,123,127,131,118,98,127,145,127,122,120,123,130,131,114,124,194,126,169,131,134,134,121,133,121,133,147,147,131,132,141,116,157,132,196,157,150,119,135,179,142,148,121,131,135,140,126,104,135,155,135,130,128,131,53,66,126,120,53,92,58,52,56,53,43,77,52,61,77,52,92,113,56,76,52,74,64,63,39,80,82,76,56,89,58,41,69,45,73,56,60,41,73,56,70,134,128,56,98,62,55,60,56,46,82,55,65,82,55,98,120,60,81,55,79,68,67,42,85,87,81,60,95,62,44,74,48,78,60,64,44,78,187,123,187,182,142,79,205,126,218,159,124,138,189,150,114,164,147,115,125,124,138,141,132,103,168,133,168,101,145,112,114,145,153,199,131,199,194,151,84,218,134,232,169,132,147,201,160,121,175,157,123,133,132,147,150,141,110,179,142,179,108,155,119,121,155,163,90,520,302,118,119,114,205,56,236,177,230,490,189,290,197,200,245,231,39,184,224,525,302,160,221,120,122,185,45,320,214,41,250,96,554,322,126,127,121,218,60,251,189,245,522,201,309,210,213,261,246,42,196,239,559,322,171,236,128,130,197,48,341,228,44,266,313,144,325,289,334,153,346,308,218,202,205,474,650,230,69,322,765,51,513,164,265,302,187,245,180,197,454,623,224,61,363,675,52,576,160,198,290,320,195,221,510,699,250,66,306,657,747,148,210,302,232,215,218,505,693,245,74,343,815,54,547,175,282,322,199,261,192,210,484,664,239,65,387,719,55,614,171,211,309,341,208,236,543,745,266,70,326,700,796,158,224,322,265,298,182,478,120,302,367,187,598,322,322,302,265,205,218,205,23,202,177,230,99,174,598,298,109,478,567,56,198,278,189,423,290,412,123,532,363,363,290,198,197,189,245,200,23,180,39,184,224,132,164,532,278,423,545,210,312,168,501,302,534,133,576,306,306,302,210,221,320,185,24,195,153,250,123,176,576,312,501,654,45,282,318,194,509,128,322,391,199,637,343,343,322,282,218,232,218,25,215,189,245,106,185,637,318,116,509,604,60,211,296,201,451,309,439,131,567,387,387,309,211,210,201,261,213,25,192,42,196,239,141,175,567,296,451,581,224,332,179,534,322,569,142,614,326,326,322,224,236,341,197,26,208,163,266,131,188,614,332,534,697,48,130,598,109,650,478,298,265,520,302,107,177,230,322,174,122,142,144,111,167,51,52,236,298,313,367,205,298,109,598,53,478,21,56,146,532,116,623,423,289,198,490,290,184,224,363,150,128,156,39,231,289,325,412,200,278,532,423,197,32,245,192,576,102,699,501,322,210,525,302,153,250,306,176,139,176,41,214,322,289,534,185,312,576,501,221,31,320,45,139,637,116,693,509,318,282,554,322,114,189,245,343,185,130,151,153,118,178,54,55,251,318,334,391,218,318,116,637,56,509,22,60,156,567,124,664,451,308,211,522,309,196,239,387,160,136,166,42,246,308,346,439,213,296,567,451,210,34,261,205,614,109,745,534,343,224,559,322,163,266,326,188,148,188,44,228,343,308,569,197,332,614,534,236,33,341,48],\"y\":[23.111295978033596,23.6535878282924,14.976918224151547,7.927124170787103,55.648806993561806,-19.729760192411874,17.146085625186757,-7.257047636459397,-6.172463935941792,10.638583422081119,22.026712277515998,18.772961175963168,16.06150192466915,35.04171668372727,-1.2918372836125585,22.026712277515998,16.06150192466915,20.942128576998385,22.026712277515998,21.48442042725719,10.638583422081119,68.12151954951429,75.17131360287873,6.842540470269498,23.6535878282924,6.842540470269498,22.026712277515998,45.88755368890334,18.772961175963168,24.195879678551208,23.6535878282924,24.738171528810014,4.67337306923428,0.8773301174226589,-0.7495454333537523,4.67337306923428,22.026712277515998,22.56900412777479,18.23066932570437,16.06150192466915,14.43462637389274,33.41484113295087,22.56900412777479,22.56900412777479,18.23066932570437,16.06150192466915,19.315253026221974,5.757956769751885,36.66859223450368,10.638583422081119,29.076506330880434,17.688377475445563,25.822755229327612,35.58400853398608,52.39505589200898,25.822755229327612,11.723167122598724,29.076506330880434,-1.2918372836125585,3.046497518457869,1.4196219676814579,23.111295978033596,27.991922630362822,20.942128576998385,4.67337306923428,20.942128576998385,14.976918224151547,43.71838628786813,39.9223433360565,32.33025743243326,43.71838628786813,27.991922630362822,27.44963078010403,27.991922630362822,18.772961175963168,11.180875272339918,62.15630919666745,-18.102884641635463,20.942128576998385,-5.08788023542418,-4.003296534906575,14.43462637389274,26.365047079586418,22.56900412777479,19.857544876480773,39.9223433360565,1.4196219676814579,26.365047079586418,19.857544876480773,25.280463379068806,26.365047079586418,25.822755229327612,14.43462637389274,75.17131360287873,82.76339950650197,10.096291571822313,27.991922630362822,10.096291571822313,26.365047079586418,51.85276404175018,22.56900412777479,28.53421448062163,27.991922630362822,29.076506330880434,7.927124170787103,3.588789368716675,1.961913817940264,7.927124170787103,26.365047079586418,26.907338929845224,22.026712277515998,19.857544876480773,18.23066932570437,38.295467785280096,26.907338929845224,26.907338929845224,22.026712277515998,19.857544876480773,23.6535878282924,9.011707871304708,42.091510737091724,14.43462637389274,33.95713298320966,21.48442042725719,30.161090031398047,41.00692703657411,58.90255809511463,30.161090031398047,15.519210074410353,33.95713298320966,1.4196219676814579,6.3002486200106915,4.131081218975474,27.44963078010403,32.87254928269206,25.280463379068806,7.927124170787103,25.280463379068806,18.772961175963168,49.68359664071497,45.34526183864453,37.21088408476248,49.68359664071497,32.87254928269206,5.757956769751885,51.31047219149137,22.026712277515998,20.942128576998385,-7.257047636459397,58.36026624485582,-15.391425390341446,-11.595382438529825,52.93734774226779,33.95713298320966,18.23066932570437,35.04171668372727,43.17609443760932,6.842540470269498,4.67337306923428,24.195879678551208,6.842540470269498,-5.08788023542418,-0.7495454333537523,0.33503826716385277,23.6535878282924,-19.729760192411874,23.111295978033596,-12.67996613904743,14.43462637389274,-2.9187128343889697,14.43462637389274,-0.7495454333537523,38.295467785280096,22.026712277515998,22.026712277515998,10.638583422081119,11.723167122598724,10.638583422081119,10.638583422081119,10.638583422081119,12.80775082311633,19.857544876480773,1.4196219676814579,3.046497518457869,-19.729760192411874,14.43462637389274,-5.630172085682986,-11.595382438529825,14.976918224151547,12.80775082311633,14.43462637389274,1.4196219676814579,20.942128576998385,27.991922630362822,9.011707871304708,57.27568254433821,26.365047079586418,25.280463379068806,-5.08788023542418,64.86776844796147,-13.764549839565035,-9.426215037494607,59.444849945373434,38.8377596355389,22.026712277515998,39.9223433360565,48.599012940197355,10.096291571822313,7.927124170787103,28.53421448062163,10.096291571822313,-2.3764209841301636,1.961913817940264,3.046497518457869,27.991922630362822,-18.102884641635463,27.44963078010403,-10.510798738012213,18.23066932570437,-0.20725358309495334,18.23066932570437,1.961913817940264,43.71838628786813,26.365047079586418,26.365047079586418,14.43462637389274,15.519210074410353,14.43462637389274,14.43462637389274,14.43462637389274,16.603793774927958,24.195879678551208,4.131081218975474,6.3002486200106915,-18.102884641635463,18.23066932570437,-2.9187128343889697,-9.426215037494607,18.772961175963168,16.603793774927958,18.23066932570437,4.131081218975474,25.280463379068806,32.87254928269206,5.757956769751885,5.757956769751885,16.06150192466915,18.23066932570437,-6.172463935941792,16.06150192466915,-0.20725358309495334,-6.172463935941792,6.842540470269498,-10.510798738012213,-19.729760192411874,16.06150192466915,35.04171668372727,0.33503826716385277,22.56900412777479,-14.849133540082644,1.4196219676814579,-8.341631336977002,-8.341631336977002,-1.8341291338713575,0.33503826716385277,-19.729760192411874,0.8773301174226589,23.111295978033596,23.111295978033596,1.4196219676814579,-1.8341291338713575,-2.9187128343889697,-19.729760192411874,14.43462637389274,-3.4610046846477687,1.4196219676814579,12.80775082311633,-2.3764209841301636,-3.4610046846477687,-12.67996613904743,-19.729760192411874,-1.2918372836125585,3.046497518457869,4.67337306923428,-5.630172085682986,5.215664919493086,4.67337306923428,-19.729760192411874,14.976918224151547,5.215664919493086,14.43462637389274,9.011707871304708,9.011707871304708,19.857544876480773,22.026712277515998,-4.003296534906575,19.857544876480773,2.504205668199063,-4.003296534906575,10.096291571822313,-8.341631336977002,-18.102884641635463,19.857544876480773,39.9223433360565,3.046497518457869,26.907338929845224,-13.222257989306232,4.131081218975474,-6.172463935941792,-6.172463935941792,0.8773301174226589,3.046497518457869,-18.102884641635463,3.588789368716675,27.44963078010403,27.44963078010403,4.131081218975474,0.8773301174226589,-0.20725358309495334,-18.102884641635463,18.23066932570437,-0.7495454333537523,4.131081218975474,16.603793774927958,0.33503826716385277,-0.7495454333537523,-10.510798738012213,-18.102884641635463,1.4196219676814579,6.3002486200106915,7.927124170787103,-2.9187128343889697,8.469416021045902,7.927124170787103,-18.102884641635463,18.772961175963168,8.469416021045902,18.23066932570437,23.111295978033596,23.6535878282924,14.976918224151547,19.857544876480773,55.648806993561806,20.942128576998385,43.17609443760932,23.6535878282924,25.280463379068806,25.280463379068806,18.772961175963168,24.738171528810014,18.772961175963168,24.738171528810014,31.78796558217445,31.78796558217445,23.6535878282924,24.195879678551208,28.53421448062163,16.06150192466915,36.66859223450368,24.195879678551208,56.73339069407942,36.66859223450368,33.41484113295087,17.688377475445563,25.822755229327612,48.05672108993855,29.076506330880434,32.33025743243326,18.772961175963168,23.6535878282924,25.822755229327612,27.991922630362822,20.942128576998385,10.096291571822313,25.822755229327612,35.58400853398608,25.822755229327612,23.111295978033596,22.026712277515998,23.6535878282924,27.44963078010403,27.991922630362822,18.772961175963168,24.195879678551208,62.15630919666745,25.280463379068806,48.599012940197355,27.991922630362822,29.61879818113924,29.61879818113924,22.56900412777479,29.076506330880434,22.56900412777479,29.076506330880434,36.66859223450368,36.66859223450368,27.991922630362822,28.53421448062163,33.41484113295087,19.857544876480773,42.091510737091724,28.53421448062163,63.24089289718505,42.091510737091724,38.295467785280096,21.48442042725719,30.161090031398047,54.02193144278539,33.95713298320966,37.21088408476248,22.56900412777479,27.991922630362822,30.161090031398047,32.87254928269206,25.280463379068806,13.350042673375135,30.161090031398047,41.00692703657411,30.161090031398047,27.44963078010403,26.365047079586418,27.991922630362822,-14.306841689823841,-7.257047636459397,25.280463379068806,22.026712277515998,-14.306841689823841,6.842540470269498,-11.595382438529825,-14.849133540082644,-12.67996613904743,-14.306841689823841,-19.729760192411874,-1.2918372836125585,-14.849133540082644,-9.968506887753414,-1.2918372836125585,-14.849133540082644,6.842540470269498,18.23066932570437,-12.67996613904743,-1.8341291338713575,-14.849133540082644,-2.9187128343889697,-8.341631336977002,-8.883923187235808,-21.898927593447088,0.33503826716385277,1.4196219676814579,-1.8341291338713575,-12.67996613904743,5.215664919493086,-11.595382438529825,-20.814343892929482,-5.630172085682986,-18.64517649189427,-3.4610046846477687,-12.67996613904743,-10.510798738012213,-20.814343892929482,-3.4610046846477687,-12.67996613904743,-5.08788023542418,29.61879818113924,26.365047079586418,-12.67996613904743,10.096291571822313,-9.426215037494607,-13.222257989306232,-10.510798738012213,-12.67996613904743,-18.102884641635463,1.4196219676814579,-13.222257989306232,-7.799339486718196,1.4196219676814579,-13.222257989306232,10.096291571822313,22.026712277515998,-10.510798738012213,0.8773301174226589,-13.222257989306232,-0.20725358309495334,-6.172463935941792,-6.714755786200591,-20.27205204267068,3.046497518457869,4.131081218975474,0.8773301174226589,-10.510798738012213,8.469416021045902,-9.426215037494607,-19.18746834215307,-2.9187128343889697,-17.018300941117857,-0.7495454333537523,-10.510798738012213,-8.341631336977002,-19.18746834215307,-0.7495454333537523,58.36026624485582,23.6535878282924,58.36026624485582,55.648806993561806,33.95713298320966,-0.20725358309495334,68.12151954951429,25.280463379068806,75.17131360287873,43.17609443760932,24.195879678551208,31.78796558217445,59.444849945373434,38.295467785280096,18.772961175963168,45.88755368890334,36.66859223450368,19.315253026221974,24.738171528810014,24.195879678551208,31.78796558217445,33.41484113295087,28.53421448062163,12.80775082311633,48.05672108993855,29.076506330880434,48.05672108993855,11.723167122598724,35.58400853398608,17.688377475445563,18.772961175963168,35.58400853398608,39.9223433360565,64.86776844796147,27.991922630362822,64.86776844796147,62.15630919666745,38.8377596355389,2.504205668199063,75.17131360287873,29.61879818113924,82.76339950650197,48.599012940197355,28.53421448062163,36.66859223450368,65.95235214847906,43.71838628786813,22.56900412777479,51.85276404175018,42.091510737091724,23.6535878282924,29.076506330880434,28.53421448062163,36.66859223450368,38.295467785280096,33.41484113295087,16.603793774927958,54.02193144278539,33.95713298320966,54.02193144278539,15.519210074410353,41.00692703657411,21.48442042725719,22.56900412777479,41.00692703657411,45.34526183864453,5.757956769751885,238.9434523810374,120.72382902461823,20.942128576998385,21.48442042725719,18.772961175963168,68.12151954951429,-12.67996613904743,84.9325669075372,52.93734774226779,81.67881580598437,222.67469687327326,59.444849945373434,114.21632682151258,63.783184747443855,65.41006029822026,89.81319355986642,82.22110765624318,-21.898927593447088,56.73339069407942,78.42506470443155,241.6549116323314,120.72382902461823,43.71838628786813,76.79818915365514,22.026712277515998,23.111295978033596,57.27568254433821,-18.64517649189427,130.48508232927668,73.00214620184352,-20.814343892929482,92.52465281116045,9.011707871304708,257.3813752898367,131.5696660297943,25.280463379068806,25.822755229327612,22.56900412777479,75.17131360287873,-10.510798738012213,93.06694466141923,59.444849945373434,89.81319355986642,240.028036081555,65.95235214847906,124.51987197642984,70.8329788008083,72.45985435158471,98.48986316400729,90.35548541012523,-20.27205204267068,63.24089289718505,86.55944245831361,260.0928345411307,131.5696660297943,49.68359664071497,84.9325669075372,26.365047079586418,27.44963078010403,63.783184747443855,-17.018300941117857,141.87321118471155,80.59423210546676,-19.18746834215307,101.20132241530129,126.68903937746506,35.04171668372727,133.1965415805707,113.67403497125377,138.07716823289994,39.9223433360565,144.58467043600558,123.97758012617103,75.17131360287873,66.49464399873787,68.12151954951429,213.99802726913242,309.44139291468184,81.67881580598437,-5.630172085682986,131.5696660297943,371.80495569444423,-15.391425390341446,235.14740942922572,45.88755368890334,100.65903056504249,120.72382902461823,58.36026624485582,89.81319355986642,54.56422329304419,63.783184747443855,203.15219026395633,294.7995129576941,78.42506470443155,-9.968506887753414,153.80363189040523,322.9986891711519,-14.849133540082644,269.31179599553036,43.71838628786813,64.32547659770266,114.21632682151258,130.48508232927668,62.69860104692624,76.79818915365514,233.52053387844933,336.0136935773632,92.52465281116045,-7.257047636459397,122.89299642565342,313.23743586649346,362.0437023897857,37.21088408476248,70.8329788008083,120.72382902461823,82.76339950650197,73.54443805210232,75.17131360287873,230.80907462715533,332.75994247581036,89.81319355986642,-2.9187128343889697,142.95779488522916,398.91954820738437,-13.764549839565035,253.58533233802507,51.85276404175018,109.87799201944216,131.5696660297943,64.86776844796147,98.48986316400729,61.07172549614984,70.8329788008083,219.42094577172043,317.03347881830507,86.55944245831361,-7.799339486718196,166.81863629661652,346.85953058253926,-13.222257989306232,289.9188863053649,49.68359664071497,71.3752706510671,124.51987197642984,141.87321118471155,69.7483951002907,84.9325669075372,251.41616493698984,360.95911868926817,101.20132241530129,-5.08788023542418,133.7388334308295,336.555985427622,388.61600305246714,42.633802587350516,78.42506470443155,131.5696660297943,100.65903056504249,118.554661623583,55.648806993561806,216.16719467016765,22.026712277515998,120.72382902461823,155.97279929144045,58.36026624485582,281.24221670122404,131.5696660297943,131.5696660297943,120.72382902461823,100.65903056504249,68.12151954951429,75.17131360287873,68.12151954951429,-30.575597197587943,66.49464399873787,52.93734774226779,81.67881580598437,10.638583422081119,51.31047219149137,281.24221670122404,118.554661623583,16.06150192466915,216.16719467016765,264.43116934320113,-12.67996613904743,64.32547659770266,107.70882461840694,59.444849945373434,186.34114290593342,114.21632682151258,180.37593255308659,23.6535878282924,245.450954584143,153.80363189040523,153.80363189040523,114.21632682151258,64.32547659770266,63.783184747443855,59.444849945373434,89.81319355986642,65.41006029822026,-30.575597197587943,54.56422329304419,-21.898927593447088,56.73339069407942,78.42506470443155,28.53421448062163,45.88755368890334,245.450954584143,107.70882461840694,186.34114290593342,252.50074863750746,70.8329788008083,126.14674752720626,48.05672108993855,228.6399072261201,120.72382902461823,246.53553828466062,29.076506330880434,269.31179599553036,122.89299642565342,122.89299642565342,120.72382902461823,70.8329788008083,76.79818915365514,130.48508232927668,57.27568254433821,-30.03330534732914,62.69860104692624,39.9223433360565,92.52465281116045,23.6535878282924,52.39505589200898,269.31179599553036,126.14674752720626,228.6399072261201,311.610560315717,-18.64517649189427,109.87799201944216,129.40049862875907,62.15630919666745,232.97824202819055,26.365047079586418,131.5696660297943,168.9878036976517,64.86776844796147,302.3915988613174,142.95779488522916,142.95779488522916,131.5696660297943,109.87799201944216,75.17131360287873,82.76339950650197,75.17131360287873,-29.491013497070337,73.54443805210232,59.444849945373434,89.81319355986642,14.43462637389274,57.27568254433821,302.3915988613174,129.40049862875907,19.857544876480773,232.97824202819055,284.4959678027769,-10.510798738012213,71.3752706510671,117.47007792306539,65.95235214847906,201.52531471317994,124.51987197642984,195.0178125100743,27.991922630362822,264.43116934320113,166.81863629661652,166.81863629661652,124.51987197642984,71.3752706510671,70.8329788008083,65.95235214847906,98.48986316400729,72.45985435158471,-29.491013497070337,61.07172549614984,-20.27205204267068,63.24089289718505,86.55944245831361,33.41484113295087,51.85276404175018,264.43116934320113,117.47007792306539,201.52531471317994,272.02325524682436,78.42506470443155,136.99258453238232,54.02193144278539,246.53553828466062,131.5696660297943,265.51575304371875,33.95713298320966,289.9188863053649,133.7388334308295,133.7388334308295,131.5696660297943,78.42506470443155,84.9325669075372,141.87321118471155,63.783184747443855,-28.948721646811535,69.7483951002907,45.34526183864453,101.20132241530129,27.991922630362822,58.90255809511463,289.9188863053649,136.99258453238232,246.53553828466062,334.9291098768456,-17.018300941117857,27.44963078010403,281.24221670122404,16.06150192466915,309.44139291468184,216.16719467016765,118.554661623583,100.65903056504249,238.9434523810374,120.72382902461823,14.976918224151547,52.93734774226779,81.67881580598437,131.5696660297943,51.31047219149137,23.111295978033596,33.95713298320966,35.04171668372727,17.146085625186757,47.51442923967976,-15.391425390341446,-14.849133540082644,84.9325669075372,118.554661623583,126.68903937746506,155.97279929144045,68.12151954951429,118.554661623583,16.06150192466915,281.24221670122404,-14.306841689823841,216.16719467016765,-31.66018089810555,-12.67996613904743,36.126300384244885,245.450954584143,19.857544876480773,294.7995129576941,186.34114290593342,113.67403497125377,64.32547659770266,222.67469687327326,114.21632682151258,56.73339069407942,78.42506470443155,153.80363189040523,38.295467785280096,26.365047079586418,41.54921888683292,-21.898927593447088,82.22110765624318,113.67403497125377,133.1965415805707,180.37593255308659,65.41006029822026,107.70882461840694,245.450954584143,186.34114290593342,63.783184747443855,-25.694970545258712,89.81319355986642,61.07172549614984,269.31179599553036,12.26545897285753,336.0136935773632,228.6399072261201,131.5696660297943,70.8329788008083,241.6549116323314,120.72382902461823,39.9223433360565,92.52465281116045,122.89299642565342,52.39505589200898,32.33025743243326,52.39505589200898,-20.814343892929482,73.00214620184352,131.5696660297943,113.67403497125377,246.53553828466062,57.27568254433821,126.14674752720626,269.31179599553036,228.6399072261201,76.79818915365514,-26.237262395517515,130.48508232927668,-18.64517649189427,32.33025743243326,302.3915988613174,19.857544876480773,332.75994247581036,232.97824202819055,129.40049862875907,109.87799201944216,257.3813752898367,131.5696660297943,18.772961175963168,59.444849945373434,89.81319355986642,142.95779488522916,57.27568254433821,27.44963078010403,38.8377596355389,39.9223433360565,20.942128576998385,53.479639592526595,-13.764549839565035,-13.222257989306232,93.06694466141923,129.40049862875907,138.07716823289994,168.9878036976517,75.17131360287873,129.40049862875907,19.857544876480773,302.3915988613174,-12.67996613904743,232.97824202819055,-31.117889047846745,-10.510798738012213,41.54921888683292,264.43116934320113,24.195879678551208,317.03347881830507,201.52531471317994,123.97758012617103,71.3752706510671,240.028036081555,124.51987197642984,63.24089289718505,86.55944245831361,166.81863629661652,43.71838628786813,30.70338188165684,46.97213738942095,-20.27205204267068,90.35548541012523,123.97758012617103,144.58467043600558,195.0178125100743,72.45985435158471,117.47007792306539,264.43116934320113,201.52531471317994,70.8329788008083,-24.610386844741107,98.48986316400729,68.12151954951429,289.9188863053649,16.06150192466915,360.95911868926817,246.53553828466062,142.95779488522916,78.42506470443155,260.0928345411307,131.5696660297943,45.34526183864453,101.20132241530129,133.7388334308295,58.90255809511463,37.21088408476248,58.90255809511463,-19.18746834215307,80.59423210546676,142.95779488522916,123.97758012617103,265.51575304371875,63.783184747443855,136.99258453238232,289.9188863053649,246.53553828466062,84.9325669075372,-25.15267869499991,141.87321118471155,-17.018300941117857],\"type\":\"scatter\"}],                        {\"template\":{\"data\":{\"bar\":[{\"error_x\":{\"color\":\"#2a3f5f\"},\"error_y\":{\"color\":\"#2a3f5f\"},\"marker\":{\"line\":{\"color\":\"#E5ECF6\",\"width\":0.5},\"pattern\":{\"fillmode\":\"overlay\",\"size\":10,\"solidity\":0.2}},\"type\":\"bar\"}],\"barpolar\":[{\"marker\":{\"line\":{\"color\":\"#E5ECF6\",\"width\":0.5},\"pattern\":{\"fillmode\":\"overlay\",\"size\":10,\"solidity\":0.2}},\"type\":\"barpolar\"}],\"carpet\":[{\"aaxis\":{\"endlinecolor\":\"#2a3f5f\",\"gridcolor\":\"white\",\"linecolor\":\"white\",\"minorgridcolor\":\"white\",\"startlinecolor\":\"#2a3f5f\"},\"baxis\":{\"endlinecolor\":\"#2a3f5f\",\"gridcolor\":\"white\",\"linecolor\":\"white\",\"minorgridcolor\":\"white\",\"startlinecolor\":\"#2a3f5f\"},\"type\":\"carpet\"}],\"choropleth\":[{\"colorbar\":{\"outlinewidth\":0,\"ticks\":\"\"},\"type\":\"choropleth\"}],\"contour\":[{\"colorbar\":{\"outlinewidth\":0,\"ticks\":\"\"},\"colorscale\":[[0.0,\"#0d0887\"],[0.1111111111111111,\"#46039f\"],[0.2222222222222222,\"#7201a8\"],[0.3333333333333333,\"#9c179e\"],[0.4444444444444444,\"#bd3786\"],[0.5555555555555556,\"#d8576b\"],[0.6666666666666666,\"#ed7953\"],[0.7777777777777778,\"#fb9f3a\"],[0.8888888888888888,\"#fdca26\"],[1.0,\"#f0f921\"]],\"type\":\"contour\"}],\"contourcarpet\":[{\"colorbar\":{\"outlinewidth\":0,\"ticks\":\"\"},\"type\":\"contourcarpet\"}],\"heatmap\":[{\"colorbar\":{\"outlinewidth\":0,\"ticks\":\"\"},\"colorscale\":[[0.0,\"#0d0887\"],[0.1111111111111111,\"#46039f\"],[0.2222222222222222,\"#7201a8\"],[0.3333333333333333,\"#9c179e\"],[0.4444444444444444,\"#bd3786\"],[0.5555555555555556,\"#d8576b\"],[0.6666666666666666,\"#ed7953\"],[0.7777777777777778,\"#fb9f3a\"],[0.8888888888888888,\"#fdca26\"],[1.0,\"#f0f921\"]],\"type\":\"heatmap\"}],\"heatmapgl\":[{\"colorbar\":{\"outlinewidth\":0,\"ticks\":\"\"},\"colorscale\":[[0.0,\"#0d0887\"],[0.1111111111111111,\"#46039f\"],[0.2222222222222222,\"#7201a8\"],[0.3333333333333333,\"#9c179e\"],[0.4444444444444444,\"#bd3786\"],[0.5555555555555556,\"#d8576b\"],[0.6666666666666666,\"#ed7953\"],[0.7777777777777778,\"#fb9f3a\"],[0.8888888888888888,\"#fdca26\"],[1.0,\"#f0f921\"]],\"type\":\"heatmapgl\"}],\"histogram\":[{\"marker\":{\"pattern\":{\"fillmode\":\"overlay\",\"size\":10,\"solidity\":0.2}},\"type\":\"histogram\"}],\"histogram2d\":[{\"colorbar\":{\"outlinewidth\":0,\"ticks\":\"\"},\"colorscale\":[[0.0,\"#0d0887\"],[0.1111111111111111,\"#46039f\"],[0.2222222222222222,\"#7201a8\"],[0.3333333333333333,\"#9c179e\"],[0.4444444444444444,\"#bd3786\"],[0.5555555555555556,\"#d8576b\"],[0.6666666666666666,\"#ed7953\"],[0.7777777777777778,\"#fb9f3a\"],[0.8888888888888888,\"#fdca26\"],[1.0,\"#f0f921\"]],\"type\":\"histogram2d\"}],\"histogram2dcontour\":[{\"colorbar\":{\"outlinewidth\":0,\"ticks\":\"\"},\"colorscale\":[[0.0,\"#0d0887\"],[0.1111111111111111,\"#46039f\"],[0.2222222222222222,\"#7201a8\"],[0.3333333333333333,\"#9c179e\"],[0.4444444444444444,\"#bd3786\"],[0.5555555555555556,\"#d8576b\"],[0.6666666666666666,\"#ed7953\"],[0.7777777777777778,\"#fb9f3a\"],[0.8888888888888888,\"#fdca26\"],[1.0,\"#f0f921\"]],\"type\":\"histogram2dcontour\"}],\"mesh3d\":[{\"colorbar\":{\"outlinewidth\":0,\"ticks\":\"\"},\"type\":\"mesh3d\"}],\"parcoords\":[{\"line\":{\"colorbar\":{\"outlinewidth\":0,\"ticks\":\"\"}},\"type\":\"parcoords\"}],\"pie\":[{\"automargin\":true,\"type\":\"pie\"}],\"scatter\":[{\"marker\":{\"colorbar\":{\"outlinewidth\":0,\"ticks\":\"\"}},\"type\":\"scatter\"}],\"scatter3d\":[{\"line\":{\"colorbar\":{\"outlinewidth\":0,\"ticks\":\"\"}},\"marker\":{\"colorbar\":{\"outlinewidth\":0,\"ticks\":\"\"}},\"type\":\"scatter3d\"}],\"scattercarpet\":[{\"marker\":{\"colorbar\":{\"outlinewidth\":0,\"ticks\":\"\"}},\"type\":\"scattercarpet\"}],\"scattergeo\":[{\"marker\":{\"colorbar\":{\"outlinewidth\":0,\"ticks\":\"\"}},\"type\":\"scattergeo\"}],\"scattergl\":[{\"marker\":{\"colorbar\":{\"outlinewidth\":0,\"ticks\":\"\"}},\"type\":\"scattergl\"}],\"scattermapbox\":[{\"marker\":{\"colorbar\":{\"outlinewidth\":0,\"ticks\":\"\"}},\"type\":\"scattermapbox\"}],\"scatterpolar\":[{\"marker\":{\"colorbar\":{\"outlinewidth\":0,\"ticks\":\"\"}},\"type\":\"scatterpolar\"}],\"scatterpolargl\":[{\"marker\":{\"colorbar\":{\"outlinewidth\":0,\"ticks\":\"\"}},\"type\":\"scatterpolargl\"}],\"scatterternary\":[{\"marker\":{\"colorbar\":{\"outlinewidth\":0,\"ticks\":\"\"}},\"type\":\"scatterternary\"}],\"surface\":[{\"colorbar\":{\"outlinewidth\":0,\"ticks\":\"\"},\"colorscale\":[[0.0,\"#0d0887\"],[0.1111111111111111,\"#46039f\"],[0.2222222222222222,\"#7201a8\"],[0.3333333333333333,\"#9c179e\"],[0.4444444444444444,\"#bd3786\"],[0.5555555555555556,\"#d8576b\"],[0.6666666666666666,\"#ed7953\"],[0.7777777777777778,\"#fb9f3a\"],[0.8888888888888888,\"#fdca26\"],[1.0,\"#f0f921\"]],\"type\":\"surface\"}],\"table\":[{\"cells\":{\"fill\":{\"color\":\"#EBF0F8\"},\"line\":{\"color\":\"white\"}},\"header\":{\"fill\":{\"color\":\"#C8D4E3\"},\"line\":{\"color\":\"white\"}},\"type\":\"table\"}]},\"layout\":{\"annotationdefaults\":{\"arrowcolor\":\"#2a3f5f\",\"arrowhead\":0,\"arrowwidth\":1},\"autotypenumbers\":\"strict\",\"coloraxis\":{\"colorbar\":{\"outlinewidth\":0,\"ticks\":\"\"}},\"colorscale\":{\"diverging\":[[0,\"#8e0152\"],[0.1,\"#c51b7d\"],[0.2,\"#de77ae\"],[0.3,\"#f1b6da\"],[0.4,\"#fde0ef\"],[0.5,\"#f7f7f7\"],[0.6,\"#e6f5d0\"],[0.7,\"#b8e186\"],[0.8,\"#7fbc41\"],[0.9,\"#4d9221\"],[1,\"#276419\"]],\"sequential\":[[0.0,\"#0d0887\"],[0.1111111111111111,\"#46039f\"],[0.2222222222222222,\"#7201a8\"],[0.3333333333333333,\"#9c179e\"],[0.4444444444444444,\"#bd3786\"],[0.5555555555555556,\"#d8576b\"],[0.6666666666666666,\"#ed7953\"],[0.7777777777777778,\"#fb9f3a\"],[0.8888888888888888,\"#fdca26\"],[1.0,\"#f0f921\"]],\"sequentialminus\":[[0.0,\"#0d0887\"],[0.1111111111111111,\"#46039f\"],[0.2222222222222222,\"#7201a8\"],[0.3333333333333333,\"#9c179e\"],[0.4444444444444444,\"#bd3786\"],[0.5555555555555556,\"#d8576b\"],[0.6666666666666666,\"#ed7953\"],[0.7777777777777778,\"#fb9f3a\"],[0.8888888888888888,\"#fdca26\"],[1.0,\"#f0f921\"]]},\"colorway\":[\"#636efa\",\"#EF553B\",\"#00cc96\",\"#ab63fa\",\"#FFA15A\",\"#19d3f3\",\"#FF6692\",\"#B6E880\",\"#FF97FF\",\"#FECB52\"],\"font\":{\"color\":\"#2a3f5f\"},\"geo\":{\"bgcolor\":\"white\",\"lakecolor\":\"white\",\"landcolor\":\"#E5ECF6\",\"showlakes\":true,\"showland\":true,\"subunitcolor\":\"white\"},\"hoverlabel\":{\"align\":\"left\"},\"hovermode\":\"closest\",\"mapbox\":{\"style\":\"light\"},\"paper_bgcolor\":\"white\",\"plot_bgcolor\":\"#E5ECF6\",\"polar\":{\"angularaxis\":{\"gridcolor\":\"white\",\"linecolor\":\"white\",\"ticks\":\"\"},\"bgcolor\":\"#E5ECF6\",\"radialaxis\":{\"gridcolor\":\"white\",\"linecolor\":\"white\",\"ticks\":\"\"}},\"scene\":{\"xaxis\":{\"backgroundcolor\":\"#E5ECF6\",\"gridcolor\":\"white\",\"gridwidth\":2,\"linecolor\":\"white\",\"showbackground\":true,\"ticks\":\"\",\"zerolinecolor\":\"white\"},\"yaxis\":{\"backgroundcolor\":\"#E5ECF6\",\"gridcolor\":\"white\",\"gridwidth\":2,\"linecolor\":\"white\",\"showbackground\":true,\"ticks\":\"\",\"zerolinecolor\":\"white\"},\"zaxis\":{\"backgroundcolor\":\"#E5ECF6\",\"gridcolor\":\"white\",\"gridwidth\":2,\"linecolor\":\"white\",\"showbackground\":true,\"ticks\":\"\",\"zerolinecolor\":\"white\"}},\"shapedefaults\":{\"line\":{\"color\":\"#2a3f5f\"}},\"ternary\":{\"aaxis\":{\"gridcolor\":\"white\",\"linecolor\":\"white\",\"ticks\":\"\"},\"baxis\":{\"gridcolor\":\"white\",\"linecolor\":\"white\",\"ticks\":\"\"},\"bgcolor\":\"#E5ECF6\",\"caxis\":{\"gridcolor\":\"white\",\"linecolor\":\"white\",\"ticks\":\"\"}},\"title\":{\"x\":0.05},\"xaxis\":{\"automargin\":true,\"gridcolor\":\"white\",\"linecolor\":\"white\",\"ticks\":\"\",\"title\":{\"standoff\":15},\"zerolinecolor\":\"white\",\"zerolinewidth\":2},\"yaxis\":{\"automargin\":true,\"gridcolor\":\"white\",\"linecolor\":\"white\",\"ticks\":\"\",\"title\":{\"standoff\":15},\"zerolinecolor\":\"white\",\"zerolinewidth\":2}}}},                        {\"responsive\": true}                    ).then(function(){\n",
              "                            \n",
              "var gd = document.getElementById('347ecdf9-57bf-4e14-81cc-b09c279fd661');\n",
              "var x = new MutationObserver(function (mutations, observer) {{\n",
              "        var display = window.getComputedStyle(gd).display;\n",
              "        if (!display || display === 'none') {{\n",
              "            console.log([gd, 'removed!']);\n",
              "            Plotly.purge(gd);\n",
              "            observer.disconnect();\n",
              "        }}\n",
              "}});\n",
              "\n",
              "// Listen for the removal of the full notebook cells\n",
              "var notebookContainer = gd.closest('#notebook-container');\n",
              "if (notebookContainer) {{\n",
              "    x.observe(notebookContainer, {childList: true});\n",
              "}}\n",
              "\n",
              "// Listen for the clearing of the current output cell\n",
              "var outputEl = gd.closest('.output');\n",
              "if (outputEl) {{\n",
              "    x.observe(outputEl, {childList: true});\n",
              "}}\n",
              "\n",
              "                        })                };                            </script>        </div>\n",
              "</body>\n",
              "</html>"
            ]
          },
          "metadata": {}
        }
      ]
    },
    {
      "cell_type": "markdown",
      "source": [
        "Check MSE from model"
      ],
      "metadata": {
        "id": "yWtgD0ULB6JN"
      }
    },
    {
      "cell_type": "code",
      "source": [
        "mse = mean_squared_error(data['Profit'], y_pred)\n",
        "mse"
      ],
      "metadata": {
        "colab": {
          "base_uri": "https://localhost:8080/"
        },
        "id": "QzY074XAIHEj",
        "outputId": "215bedda-ce7f-4a97-b994-bd0141522079"
      },
      "execution_count": 73,
      "outputs": [
        {
          "output_type": "execute_result",
          "data": {
            "text/plain": [
              "3635.069092466255"
            ]
          },
          "metadata": {},
          "execution_count": 73
        }
      ]
    }
  ]
}